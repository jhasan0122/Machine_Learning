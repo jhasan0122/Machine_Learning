{
 "cells": [
  {
   "cell_type": "code",
   "id": "initial_id",
   "metadata": {
    "collapsed": true,
    "ExecuteTime": {
     "end_time": "2024-06-28T04:32:06.805201Z",
     "start_time": "2024-06-28T04:32:06.802170Z"
    }
   },
   "source": [
    "from sklearn.datasets import load_diabetes\n",
    "\n",
    "import numpy as np\n",
    "from sklearn.linear_model import LinearRegression\n",
    "from sklearn.metrics import r2_score\n",
    "from sklearn.model_selection import train_test_split\n",
    "\n",
    "import time"
   ],
   "outputs": [],
   "execution_count": 79
  },
  {
   "metadata": {
    "ExecuteTime": {
     "end_time": "2024-06-28T04:32:06.839023Z",
     "start_time": "2024-06-28T04:32:06.832748Z"
    }
   },
   "cell_type": "code",
   "source": "X,y = load_diabetes(return_X_y=True)",
   "id": "6d5d6b616f9d8dd0",
   "outputs": [],
   "execution_count": 80
  },
  {
   "metadata": {
    "ExecuteTime": {
     "end_time": "2024-06-28T04:32:06.860933Z",
     "start_time": "2024-06-28T04:32:06.858102Z"
    }
   },
   "cell_type": "code",
   "source": [
    "print(X.shape)\n",
    "print(y.shape)"
   ],
   "id": "1a051010c7726bd5",
   "outputs": [
    {
     "name": "stdout",
     "output_type": "stream",
     "text": [
      "(442, 10)\n",
      "(442,)\n"
     ]
    }
   ],
   "execution_count": 81
  },
  {
   "metadata": {
    "ExecuteTime": {
     "end_time": "2024-06-28T04:32:06.870515Z",
     "start_time": "2024-06-28T04:32:06.867023Z"
    }
   },
   "cell_type": "code",
   "source": "X_train,X_test,y_train,y_test = train_test_split(X,y,test_size=0.2,random_state=2)",
   "id": "5f34046d0f3df5ef",
   "outputs": [],
   "execution_count": 82
  },
  {
   "metadata": {
    "ExecuteTime": {
     "end_time": "2024-06-28T04:32:06.877430Z",
     "start_time": "2024-06-28T04:32:06.871969Z"
    }
   },
   "cell_type": "code",
   "source": [
    "reg = LinearRegression()\n",
    "reg.fit(X_train,y_train)"
   ],
   "id": "d0f2587824f57952",
   "outputs": [
    {
     "data": {
      "text/plain": [
       "LinearRegression()"
      ],
      "text/html": [
       "<style>#sk-container-id-3 {color: black;background-color: white;}#sk-container-id-3 pre{padding: 0;}#sk-container-id-3 div.sk-toggleable {background-color: white;}#sk-container-id-3 label.sk-toggleable__label {cursor: pointer;display: block;width: 100%;margin-bottom: 0;padding: 0.3em;box-sizing: border-box;text-align: center;}#sk-container-id-3 label.sk-toggleable__label-arrow:before {content: \"▸\";float: left;margin-right: 0.25em;color: #696969;}#sk-container-id-3 label.sk-toggleable__label-arrow:hover:before {color: black;}#sk-container-id-3 div.sk-estimator:hover label.sk-toggleable__label-arrow:before {color: black;}#sk-container-id-3 div.sk-toggleable__content {max-height: 0;max-width: 0;overflow: hidden;text-align: left;background-color: #f0f8ff;}#sk-container-id-3 div.sk-toggleable__content pre {margin: 0.2em;color: black;border-radius: 0.25em;background-color: #f0f8ff;}#sk-container-id-3 input.sk-toggleable__control:checked~div.sk-toggleable__content {max-height: 200px;max-width: 100%;overflow: auto;}#sk-container-id-3 input.sk-toggleable__control:checked~label.sk-toggleable__label-arrow:before {content: \"▾\";}#sk-container-id-3 div.sk-estimator input.sk-toggleable__control:checked~label.sk-toggleable__label {background-color: #d4ebff;}#sk-container-id-3 div.sk-label input.sk-toggleable__control:checked~label.sk-toggleable__label {background-color: #d4ebff;}#sk-container-id-3 input.sk-hidden--visually {border: 0;clip: rect(1px 1px 1px 1px);clip: rect(1px, 1px, 1px, 1px);height: 1px;margin: -1px;overflow: hidden;padding: 0;position: absolute;width: 1px;}#sk-container-id-3 div.sk-estimator {font-family: monospace;background-color: #f0f8ff;border: 1px dotted black;border-radius: 0.25em;box-sizing: border-box;margin-bottom: 0.5em;}#sk-container-id-3 div.sk-estimator:hover {background-color: #d4ebff;}#sk-container-id-3 div.sk-parallel-item::after {content: \"\";width: 100%;border-bottom: 1px solid gray;flex-grow: 1;}#sk-container-id-3 div.sk-label:hover label.sk-toggleable__label {background-color: #d4ebff;}#sk-container-id-3 div.sk-serial::before {content: \"\";position: absolute;border-left: 1px solid gray;box-sizing: border-box;top: 0;bottom: 0;left: 50%;z-index: 0;}#sk-container-id-3 div.sk-serial {display: flex;flex-direction: column;align-items: center;background-color: white;padding-right: 0.2em;padding-left: 0.2em;position: relative;}#sk-container-id-3 div.sk-item {position: relative;z-index: 1;}#sk-container-id-3 div.sk-parallel {display: flex;align-items: stretch;justify-content: center;background-color: white;position: relative;}#sk-container-id-3 div.sk-item::before, #sk-container-id-3 div.sk-parallel-item::before {content: \"\";position: absolute;border-left: 1px solid gray;box-sizing: border-box;top: 0;bottom: 0;left: 50%;z-index: -1;}#sk-container-id-3 div.sk-parallel-item {display: flex;flex-direction: column;z-index: 1;position: relative;background-color: white;}#sk-container-id-3 div.sk-parallel-item:first-child::after {align-self: flex-end;width: 50%;}#sk-container-id-3 div.sk-parallel-item:last-child::after {align-self: flex-start;width: 50%;}#sk-container-id-3 div.sk-parallel-item:only-child::after {width: 0;}#sk-container-id-3 div.sk-dashed-wrapped {border: 1px dashed gray;margin: 0 0.4em 0.5em 0.4em;box-sizing: border-box;padding-bottom: 0.4em;background-color: white;}#sk-container-id-3 div.sk-label label {font-family: monospace;font-weight: bold;display: inline-block;line-height: 1.2em;}#sk-container-id-3 div.sk-label-container {text-align: center;}#sk-container-id-3 div.sk-container {/* jupyter's `normalize.less` sets `[hidden] { display: none; }` but bootstrap.min.css set `[hidden] { display: none !important; }` so we also need the `!important` here to be able to override the default hidden behavior on the sphinx rendered scikit-learn.org. See: https://github.com/scikit-learn/scikit-learn/issues/21755 */display: inline-block !important;position: relative;}#sk-container-id-3 div.sk-text-repr-fallback {display: none;}</style><div id=\"sk-container-id-3\" class=\"sk-top-container\"><div class=\"sk-text-repr-fallback\"><pre>LinearRegression()</pre><b>In a Jupyter environment, please rerun this cell to show the HTML representation or trust the notebook. <br />On GitHub, the HTML representation is unable to render, please try loading this page with nbviewer.org.</b></div><div class=\"sk-container\" hidden><div class=\"sk-item\"><div class=\"sk-estimator sk-toggleable\"><input class=\"sk-toggleable__control sk-hidden--visually\" id=\"sk-estimator-id-3\" type=\"checkbox\" checked><label for=\"sk-estimator-id-3\" class=\"sk-toggleable__label sk-toggleable__label-arrow\">LinearRegression</label><div class=\"sk-toggleable__content\"><pre>LinearRegression()</pre></div></div></div></div></div>"
      ]
     },
     "execution_count": 83,
     "metadata": {},
     "output_type": "execute_result"
    }
   ],
   "execution_count": 83
  },
  {
   "metadata": {
    "ExecuteTime": {
     "end_time": "2024-06-28T04:32:06.882104Z",
     "start_time": "2024-06-28T04:32:06.878475Z"
    }
   },
   "cell_type": "code",
   "source": [
    "print(reg.coef_)\n",
    "print(reg.intercept_)"
   ],
   "id": "a73ce085d2461364",
   "outputs": [
    {
     "name": "stdout",
     "output_type": "stream",
     "text": [
      "[  -9.15865318 -205.45432163  516.69374454  340.61999905 -895.5520019\n",
      "  561.22067904  153.89310954  126.73139688  861.12700152   52.42112238]\n",
      "151.88331005254167\n"
     ]
    }
   ],
   "execution_count": 84
  },
  {
   "metadata": {
    "ExecuteTime": {
     "end_time": "2024-06-28T04:32:06.888161Z",
     "start_time": "2024-06-28T04:32:06.883105Z"
    }
   },
   "cell_type": "code",
   "source": [
    "y_pred = reg.predict(X_test)\n",
    "r2_score(y_test,y_pred)"
   ],
   "id": "dfbd29f3934aaa31",
   "outputs": [
    {
     "data": {
      "text/plain": [
       "0.4399338661568968"
      ]
     },
     "execution_count": 85,
     "metadata": {},
     "output_type": "execute_result"
    }
   ],
   "execution_count": 85
  },
  {
   "metadata": {
    "ExecuteTime": {
     "end_time": "2024-06-28T04:32:06.894224Z",
     "start_time": "2024-06-28T04:32:06.889162Z"
    }
   },
   "cell_type": "code",
   "source": [
    "class GDRegressor:\n",
    "    def __init__(self,learning_rate=0.01,epochs=100):\n",
    "        self.coef_ = None\n",
    "        self.intercept_ = None\n",
    "        self.lr = learning_rate\n",
    "        self.epochs = epochs\n",
    "    \n",
    "    def fit(self,X_train,y_train):\n",
    "        # init your coef\n",
    "        self.intercept_ = 0\n",
    "        self.coef_ = np.ones(X_train.shape[1])\n",
    "        \n",
    "        for i in range(self.epochs):\n",
    "            # update intercept and all coef\n",
    "            y_hat = self.intercept_ + np.dot(X_train,self.coef_)\n",
    "            intercept_der = -2 * np.mean(y_train - y_hat)\n",
    "            self.intercept_ = self.intercept_ - (self.lr * intercept_der)\n",
    "            \n",
    "            coef_der = -2 * np.dot((y_train - y_hat), X_train)/X_train.shape[0]\n",
    "            self.coef_ -= (self.lr * coef_der)\n",
    "        print(self.intercept_,self.coef_)\n",
    "            \n",
    "    def predict(self,X_test):\n",
    "        return np.dot(X_test,self.coef_) + self.intercept_\n",
    "    "
   ],
   "id": "4ebd5a750eedac4b",
   "outputs": [],
   "execution_count": 86
  },
  {
   "metadata": {
    "ExecuteTime": {
     "end_time": "2024-06-28T04:32:06.898232Z",
     "start_time": "2024-06-28T04:32:06.895225Z"
    }
   },
   "cell_type": "code",
   "source": "gdr = GDRegressor(epochs=1000,learning_rate=0.5)",
   "id": "34a711c284391b57",
   "outputs": [],
   "execution_count": 87
  },
  {
   "metadata": {
    "ExecuteTime": {
     "end_time": "2024-06-28T04:32:06.920898Z",
     "start_time": "2024-06-28T04:32:06.899233Z"
    }
   },
   "cell_type": "code",
   "source": [
    "start = time.time()\n",
    "gdr.fit(X_train,y_train)\n",
    "print(\"Time taken is:\",time.time() - start)"
   ],
   "id": "fa66320f01996c87",
   "outputs": [
    {
     "name": "stdout",
     "output_type": "stream",
     "text": [
      "152.01351687661833 [  14.38990585 -173.7235727   491.54898524  323.91524824  -39.32648042\n",
      " -116.01061213 -194.04077415  103.38135565  451.63448787   97.57218278]\n",
      "Time taken is: 0.016731977462768555\n"
     ]
    }
   ],
   "execution_count": 88
  },
  {
   "metadata": {
    "ExecuteTime": {
     "end_time": "2024-06-28T04:32:06.924740Z",
     "start_time": "2024-06-28T04:32:06.921904Z"
    }
   },
   "cell_type": "code",
   "source": "y_pred = gdr.predict(X_test)",
   "id": "d409cc697da46321",
   "outputs": [],
   "execution_count": 89
  },
  {
   "metadata": {
    "ExecuteTime": {
     "end_time": "2024-06-28T04:32:06.932579Z",
     "start_time": "2024-06-28T04:32:06.926742Z"
    }
   },
   "cell_type": "code",
   "source": "r2_score(y_test,y_pred)",
   "id": "362320133a22201a",
   "outputs": [
    {
     "data": {
      "text/plain": [
       "0.4534503034722803"
      ]
     },
     "execution_count": 90,
     "metadata": {},
     "output_type": "execute_result"
    }
   ],
   "execution_count": 90
  },
  {
   "metadata": {
    "ExecuteTime": {
     "end_time": "2024-06-28T04:32:06.950956Z",
     "start_time": "2024-06-28T04:32:06.943703Z"
    }
   },
   "cell_type": "code",
   "source": [
    "class SGDRegressor:\n",
    "    def __init__(self,learning_rate=0.01,epochs=100):\n",
    "        self.coef_ = None\n",
    "        self.intercept_ = None\n",
    "        self.lr = learning_rate\n",
    "        self.epochs = epochs\n",
    "    \n",
    "    def fit(self,X_train,y_train):\n",
    "        # init your coef\n",
    "        self.intercept_ = 0\n",
    "        self.coef_ = np.ones(X_train.shape[1])\n",
    "        \n",
    "        for i in range(self.epochs):\n",
    "            for j in range(X_train.shape[0]):\n",
    "                idx = np.random.randint(0,X_train.shape[0])\n",
    "                \n",
    "                y_hat = self.intercept_ + np.dot(X_train[idx],self.coef_)\n",
    "                intercept_der = -2 * (y_train[idx] - y_hat)\n",
    "                self.intercept_ = self.intercept_ - (self.lr * intercept_der)\n",
    "                \n",
    "                coef_der = -2 * np.dot((y_train[idx] - y_hat), X_train[idx])\n",
    "                self.coef_ -= (self.lr * coef_der)\n",
    "            print(self.intercept_,self.coef_)    \n",
    "            \n",
    "    def predict(self,X_test):\n",
    "        return np.dot(X_test,self.coef_) + self.intercept_\n",
    "     "
   ],
   "id": "9457471b4447350c",
   "outputs": [],
   "execution_count": 91
  },
  {
   "metadata": {
    "ExecuteTime": {
     "end_time": "2024-06-28T04:32:06.964288Z",
     "start_time": "2024-06-28T04:32:06.960960Z"
    }
   },
   "cell_type": "code",
   "source": "sgd = SGDRegressor(learning_rate=0.01,epochs=50)",
   "id": "45c0409c023f13db",
   "outputs": [],
   "execution_count": 92
  },
  {
   "metadata": {
    "ExecuteTime": {
     "end_time": "2024-06-28T04:32:07.193557Z",
     "start_time": "2024-06-28T04:32:06.986284Z"
    }
   },
   "cell_type": "code",
   "source": [
    "start = time.time()\n",
    "sgd.fit(X_train,y_train)\n",
    "print(\"Time taken is:\",time.time() - start)"
   ],
   "id": "6e58512123dbe919",
   "outputs": [
    {
     "name": "stdout",
     "output_type": "stream",
     "text": [
      "148.2323772159832 [ 4.98584363  0.42013742 14.32436607 11.9385641   6.05062007  4.45384734\n",
      " -6.14664651  9.48949678 14.20308952  8.32218063]\n",
      "153.46209047655415 [ 10.12289435   0.59770355  27.89410633  22.22602226   9.79811095\n",
      "   6.77933678 -14.47993946  18.16927778  28.77257215  16.40450535]\n",
      "149.8149464801983 [ 13.45581462   0.894265    41.88080036  31.84376323  13.94193471\n",
      "   9.99432743 -23.29526907  25.75829618  41.70958864  24.8366409 ]\n",
      "152.79160803898438 [ 18.0775016    2.27966368  54.21957718  41.93832139  18.14112361\n",
      "  13.38973303 -33.16294739  35.34955108  55.81866648  33.28051031]\n",
      "140.98304779238248 [ 21.05316981   1.96273853  66.81112165  52.33583206  23.02117781\n",
      "  17.39770377 -39.5214602   42.0715635   68.00832722  43.04024251]\n",
      "146.30441293431483 [ 24.82900557   2.82158593  80.5082821   63.50245798  24.95734104\n",
      "  18.67753491 -47.53976355  48.55674983  79.6203811   49.06991125]\n",
      "160.4140082004546 [ 27.50281102   4.42717952  92.02522993  72.33571633  28.60352471\n",
      "  21.59731816 -55.228381    56.99653539  90.83744731  55.02284688]\n",
      "157.23161853525716 [ 29.90335238   5.0855879  102.44006296  79.40840817  28.9523067\n",
      "  20.93897754 -62.58953074  62.40486628 101.18252742  60.81607376]\n",
      "148.04103398991282 [ 31.46753112   5.90063428 115.24257323  87.61529779  32.19257906\n",
      "  22.77952109 -69.7897771   69.59029599 113.51666804  64.84918913]\n",
      "143.73087084864846 [ 32.48513454   5.26029712 125.1355794   95.00124251  33.10197284\n",
      "  22.73169347 -76.14539287  74.65943006 122.81850145  70.29463209]\n",
      "146.04002489403553 [ 36.3501853    4.38875165 133.92921256 103.21311177  35.67748995\n",
      "  24.12374648 -80.68839524  79.66627097 131.44448912  75.94067075]\n",
      "145.94127578209475 [ 37.35775686   4.61110971 144.22558868 110.41651805  35.86383131\n",
      "  23.88388794 -86.14705888  84.17137614 139.41620969  80.67439101]\n",
      "153.31091882986868 [ 40.54669334   2.99066247 154.55693623 119.62526875  37.45129701\n",
      "  24.30060795 -91.2624172   88.36589285 148.59118882  85.98581969]\n",
      "158.38814994331966 [ 42.01726194   0.50733457 161.10963171 125.34589555  37.61122339\n",
      "  22.69573361 -95.22098686  91.18586755 156.41441599  87.61201696]\n",
      "150.42772153852115 [  43.31247109    0.39779254  169.95889632  132.02709292   37.82497573\n",
      "   22.41213907 -101.82286685   96.35824831  165.02709762   90.54045794]\n",
      "155.29502441205614 [  45.47989464   -0.87754793  178.2153633   137.45809287   36.81159027\n",
      "   19.71491657 -105.59558541   97.88706747  173.14367191   93.16362511]\n",
      "162.9084453803853 [ 4.73563495e+01  1.80438025e-01  1.85543534e+02  1.44299390e+02\n",
      "  3.83451480e+01  2.07282975e+01 -1.11648906e+02  1.03141837e+02\n",
      "  1.81247750e+02  9.75220654e+01]\n",
      "151.99218254351965 [  48.33788685   -1.72994772  193.28596019  148.75648213   36.39449229\n",
      "   17.37760144 -115.61213912  104.36806898  188.34768229   99.43457612]\n",
      "150.3823934537828 [  50.92309824   -3.54953681  200.96417387  155.41544903   38.09103902\n",
      "   18.27425884 -118.70606907  106.96195606  194.92856797  101.2595464 ]\n",
      "153.39445222458124 [  51.8210248    -7.13623338  208.50405023  160.9374513    36.60495234\n",
      "   14.35250246 -120.79766559  106.73739838  202.95744427  104.00185734]\n",
      "146.06213230049377 [  53.71378235   -7.96983939  215.27508881  166.14681737   36.72348695\n",
      "   13.52822326 -124.06381211  108.8412616   209.13152219  106.86028547]\n",
      "153.89849631325703 [  54.91612204   -9.84741159  222.43259654  171.28462851   35.64846938\n",
      "   11.16400279 -127.61925484  110.72118535  216.19502984  108.29708981]\n",
      "152.61572800618572 [  55.56797552  -13.67259712  229.70968765  177.23094925   35.45925418\n",
      "    9.28091757 -129.38240449  111.43523003  222.92108966  111.08114176]\n",
      "150.38732923350378 [  55.58932546  -15.75859775  235.66387467  180.18687473   36.39766792\n",
      "    9.52374841 -132.3228393   114.12719062  228.15298733  112.11823625]\n",
      "148.65851299498627 [  54.69702844  -18.11525114  242.23658299  183.56159665   36.22003517\n",
      "    8.50300342 -136.47451734  116.63466367  234.78079249  115.12111301]\n",
      "143.24607888156933 [  54.79225941  -19.9208242   248.42136247  187.76978955   36.23151593\n",
      "    6.87908364 -137.65866211  117.27669296  240.03468257  116.9958834 ]\n",
      "158.60177337184072 [  53.14204621  -21.80237955  252.47324858  191.50634438   35.21621719\n",
      "    4.08614032 -139.14423983  117.96699095  244.93657619  118.02179876]\n",
      "152.75867131751951 [  54.01854139  -23.15234121  256.82040615  193.37471368   34.45605596\n",
      "    2.37804756 -141.52681468  119.30510923  249.54373592  117.70504926]\n",
      "148.67894503843004 [  55.23485937  -25.49123057  263.78865658  197.07600562   34.27315019\n",
      "    1.22663668 -144.46915908  121.06490765  254.80932876  118.57770854]\n",
      "153.1497210018599 [ 5.70710729e+01 -2.59442081e+01  2.71268658e+02  2.02544458e+02\n",
      "  3.37803084e+01 -1.41336940e-02 -1.48494296e+02  1.23656845e+02\n",
      "  2.60869238e+02  1.22784922e+02]\n",
      "150.48334362173424 [  56.52392546  -28.72909282  277.43316184  207.28243451   33.46062212\n",
      "   -1.16978182 -149.24417308  123.67740786  263.79470321  124.17274816]\n",
      "142.70633001375836 [  55.09404174  -30.44379931  281.31953054  210.15365085   31.68255249\n",
      "   -4.45739446 -149.98225347  122.61457936  267.88409978  125.41762545]\n",
      "145.7108884532937 [  56.19474623  -31.37142869  285.3152273   213.93046423   31.1253851\n",
      "   -6.28186309 -151.94674791  123.30139264  272.73042379  126.71287035]\n",
      "153.86707104577482 [  56.51944756  -34.8514495   290.25032234  216.22795464   31.74724349\n",
      "   -7.43284734 -152.2667072   123.70395361  277.72947404  126.77214478]\n",
      "149.50653513919005 [  56.4633726   -36.88035022  294.68043121  219.48286316   30.13262266\n",
      "   -9.99064989 -153.33935664  123.26366771  280.66804382  126.41972743]\n",
      "149.8222889065238 [  56.51248055  -39.95765579  299.10222563  223.47300968   28.93834825\n",
      "  -11.88027552 -154.90619394  123.96395777  284.12336155  128.11122799]\n",
      "161.02595210373335 [  56.21853182  -42.48965751  303.94272455  225.04191683   29.02770828\n",
      "  -12.38314276 -156.45057732  124.84378161  288.05479376  128.72947843]\n",
      "171.07962898248138 [  55.51775527  -43.6686293   307.5551177   227.67333999   27.14455445\n",
      "  -14.41979485 -158.93679846  125.33523868  291.34924962  127.76103367]\n",
      "151.5774901897043 [  55.60485363  -44.84856114  310.8635957   231.45205178   26.5019897\n",
      "  -15.58933296 -160.31989879  125.81535602  294.32773426  128.01591849]\n",
      "145.8960913171719 [  53.96747654  -47.28927054  316.59679757  232.81660972   26.37572875\n",
      "  -15.85415239 -162.30706714  126.79276015  297.41890465  127.64129767]\n",
      "147.364903378147 [  53.47933594  -48.88771461  319.71552475  234.4989665    26.66036417\n",
      "  -16.54185728 -162.57083989  126.90903838  300.18211933  126.5945258 ]\n",
      "156.050677218522 [  53.22287242  -49.7287446   325.46580899  236.31751187   25.60135967\n",
      "  -18.10843108 -165.41982693  127.77085484  304.49253038  126.68959999]\n",
      "154.89857666248108 [  52.50524589  -51.83442154  328.79439235  238.69953316   23.63909038\n",
      "  -20.66852541 -166.60471761  127.45228953  306.79859751  126.93772679]\n",
      "151.057393372198 [  52.03506389  -53.34445213  332.72501181  241.87046993   23.41259718\n",
      "  -21.54229488 -167.26617513  127.36196598  309.3577789   128.17508486]\n",
      "156.4016930154562 [  49.55333196  -55.48138874  335.03986625  242.75257923   20.57615287\n",
      "  -24.68179882 -167.9266089   126.19909163  310.69833541  125.96465735]\n",
      "160.64194074415326 [  48.89323294  -57.10598709  339.26179963  244.60610985   19.10211629\n",
      "  -26.68077092 -168.6661531   125.45982073  313.6367035   125.78843892]\n",
      "157.1644807480927 [  48.77922033  -58.94000543  344.37899992  246.9752249    18.97687839\n",
      "  -27.13615215 -170.43615872  126.45793451  316.87463202  126.38515644]\n",
      "151.45629638007614 [  49.89484081  -61.02262581  349.10085096  250.47581196   17.96836799\n",
      "  -28.69088916 -172.10949046  127.02322037  320.09051187  127.35806039]\n",
      "155.5332735107868 [  48.00133295  -63.34342071  351.5972791   249.87256919   16.5997265\n",
      "  -31.63274462 -171.78848788  125.52389008  323.28650497  125.89795056]\n",
      "159.7161532485305 [  47.943159    -66.54433919  353.26480764  251.52738973   14.35149903\n",
      "  -34.32571951 -172.1375426   124.38773407  324.66419496  126.18314637]\n",
      "Time taken is: 0.20380282402038574\n"
     ]
    }
   ],
   "execution_count": 93
  },
  {
   "metadata": {
    "ExecuteTime": {
     "end_time": "2024-06-28T04:32:07.197959Z",
     "start_time": "2024-06-28T04:32:07.194558Z"
    }
   },
   "cell_type": "code",
   "source": "y_pred = sgd.predict(X_test)",
   "id": "f2616aefa6a21ae6",
   "outputs": [],
   "execution_count": 94
  },
  {
   "metadata": {
    "ExecuteTime": {
     "end_time": "2024-06-28T04:32:07.204264Z",
     "start_time": "2024-06-28T04:32:07.198967Z"
    }
   },
   "cell_type": "code",
   "source": "r2_score(y_test,y_pred)",
   "id": "af2ee27492d7198c",
   "outputs": [
    {
     "data": {
      "text/plain": [
       "0.4250765713858011"
      ]
     },
     "execution_count": 95,
     "metadata": {},
     "output_type": "execute_result"
    }
   ],
   "execution_count": 95
  },
  {
   "metadata": {
    "ExecuteTime": {
     "end_time": "2024-06-28T04:32:07.207479Z",
     "start_time": "2024-06-28T04:32:07.205272Z"
    }
   },
   "cell_type": "code",
   "source": "",
   "id": "fb0a4a1ff09a570c",
   "outputs": [],
   "execution_count": 95
  }
 ],
 "metadata": {
  "kernelspec": {
   "display_name": "Python 3",
   "language": "python",
   "name": "python3"
  },
  "language_info": {
   "codemirror_mode": {
    "name": "ipython",
    "version": 2
   },
   "file_extension": ".py",
   "mimetype": "text/x-python",
   "name": "python",
   "nbconvert_exporter": "python",
   "pygments_lexer": "ipython2",
   "version": "2.7.6"
  }
 },
 "nbformat": 4,
 "nbformat_minor": 5
}
