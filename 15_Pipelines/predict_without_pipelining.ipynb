{
 "cells": [
  {
   "cell_type": "code",
   "id": "initial_id",
   "metadata": {
    "collapsed": true,
    "ExecuteTime": {
     "end_time": "2024-06-19T03:01:00.918489Z",
     "start_time": "2024-06-19T03:01:00.834675Z"
    }
   },
   "source": [
    "import pickle\n",
    "import numpy as np"
   ],
   "outputs": [],
   "execution_count": 1
  },
  {
   "metadata": {
    "ExecuteTime": {
     "end_time": "2024-06-19T03:02:43.393243Z",
     "start_time": "2024-06-19T03:02:42.355395Z"
    }
   },
   "cell_type": "code",
   "source": [
    "ohe_sex = pickle.load(open('models/ohe_sex.pkl','rb'))\n",
    "ohe_embarked = pickle.load(open('models/ohe_embarked.pkl','rb'))\n",
    "clf = pickle.load(open('models/clf.pkl','rb'))"
   ],
   "id": "49d6a21bd60a22a6",
   "outputs": [],
   "execution_count": 2
  },
  {
   "metadata": {},
   "cell_type": "markdown",
   "source": "#### test user input",
   "id": "4e7148be07755aad"
  },
  {
   "metadata": {
    "ExecuteTime": {
     "end_time": "2024-06-19T03:04:50.584278Z",
     "start_time": "2024-06-19T03:04:50.580640Z"
    }
   },
   "cell_type": "code",
   "source": "test_input = np.array([2,'male',31.0,0,0,10.5,'S'],dtype=object).reshape(1,7)",
   "id": "12791eee5c49fff3",
   "outputs": [],
   "execution_count": 3
  },
  {
   "metadata": {
    "ExecuteTime": {
     "end_time": "2024-06-19T03:04:52.859627Z",
     "start_time": "2024-06-19T03:04:52.853346Z"
    }
   },
   "cell_type": "code",
   "source": "test_input",
   "id": "8bc65116999d5810",
   "outputs": [
    {
     "data": {
      "text/plain": [
       "array([[2, 'male', 31.0, 0, 0, 10.5, 'S']], dtype=object)"
      ]
     },
     "execution_count": 4,
     "metadata": {},
     "output_type": "execute_result"
    }
   ],
   "execution_count": 4
  },
  {
   "metadata": {
    "ExecuteTime": {
     "end_time": "2024-06-19T03:07:12.679841Z",
     "start_time": "2024-06-19T03:07:12.672388Z"
    }
   },
   "cell_type": "code",
   "source": [
    "test_input_sex = ohe_sex.transform(test_input[:,1].reshape(1,1))\n",
    "test_input_embarked = ohe_embarked.transform(test_input[:,-1].reshape(1,1))"
   ],
   "id": "31b5146379d23695",
   "outputs": [
    {
     "name": "stderr",
     "output_type": "stream",
     "text": [
      "C:\\Users\\HP TECHNOLOGY\\anaconda3\\Lib\\site-packages\\sklearn\\base.py:439: UserWarning: X does not have valid feature names, but OneHotEncoder was fitted with feature names\n",
      "  warnings.warn(\n"
     ]
    }
   ],
   "execution_count": 8
  },
  {
   "metadata": {
    "ExecuteTime": {
     "end_time": "2024-06-19T03:07:27.129577Z",
     "start_time": "2024-06-19T03:07:27.125848Z"
    }
   },
   "cell_type": "code",
   "source": "test_input_sex",
   "id": "c20cc13da9971a4f",
   "outputs": [
    {
     "data": {
      "text/plain": [
       "array([[0., 1.]])"
      ]
     },
     "execution_count": 9,
     "metadata": {},
     "output_type": "execute_result"
    }
   ],
   "execution_count": 9
  },
  {
   "metadata": {
    "ExecuteTime": {
     "end_time": "2024-06-19T03:07:43.386806Z",
     "start_time": "2024-06-19T03:07:43.382311Z"
    }
   },
   "cell_type": "code",
   "source": "test_input_embarked",
   "id": "2de197d64f1297a4",
   "outputs": [
    {
     "data": {
      "text/plain": [
       "array([[0., 0., 1.]])"
      ]
     },
     "execution_count": 10,
     "metadata": {},
     "output_type": "execute_result"
    }
   ],
   "execution_count": 10
  },
  {
   "metadata": {
    "ExecuteTime": {
     "end_time": "2024-06-19T03:08:21.552206Z",
     "start_time": "2024-06-19T03:08:21.548749Z"
    }
   },
   "cell_type": "code",
   "source": "test_input_age = test_input[:,2].reshape(1,1)",
   "id": "a480697e39d0c7b1",
   "outputs": [],
   "execution_count": 11
  },
  {
   "metadata": {
    "ExecuteTime": {
     "end_time": "2024-06-19T03:21:42.615974Z",
     "start_time": "2024-06-19T03:21:42.612717Z"
    }
   },
   "cell_type": "code",
   "source": "test_input_transformed = np.concatenate((test_input[:,[0,3,4,5]],test_input_age,test_input_sex,test_input_embarked),axis=1)",
   "id": "851d8f29ec31b57e",
   "outputs": [],
   "execution_count": 12
  },
  {
   "metadata": {
    "ExecuteTime": {
     "end_time": "2024-06-19T03:21:48.554663Z",
     "start_time": "2024-06-19T03:21:48.550271Z"
    }
   },
   "cell_type": "code",
   "source": "test_input_transformed.shape",
   "id": "f68172c6103a5625",
   "outputs": [
    {
     "data": {
      "text/plain": [
       "(1, 10)"
      ]
     },
     "execution_count": 13,
     "metadata": {},
     "output_type": "execute_result"
    }
   ],
   "execution_count": 13
  },
  {
   "metadata": {
    "ExecuteTime": {
     "end_time": "2024-06-19T03:22:13.279024Z",
     "start_time": "2024-06-19T03:22:13.269158Z"
    }
   },
   "cell_type": "code",
   "source": "clf.predict(test_input_transformed)",
   "id": "a1a1c8a52dd52326",
   "outputs": [
    {
     "data": {
      "text/plain": [
       "array([1], dtype=int64)"
      ]
     },
     "execution_count": 14,
     "metadata": {},
     "output_type": "execute_result"
    }
   ],
   "execution_count": 14
  },
  {
   "metadata": {},
   "cell_type": "code",
   "outputs": [],
   "execution_count": null,
   "source": "",
   "id": "4506e821d0789c49"
  }
 ],
 "metadata": {
  "kernelspec": {
   "display_name": "Python 3",
   "language": "python",
   "name": "python3"
  },
  "language_info": {
   "codemirror_mode": {
    "name": "ipython",
    "version": 2
   },
   "file_extension": ".py",
   "mimetype": "text/x-python",
   "name": "python",
   "nbconvert_exporter": "python",
   "pygments_lexer": "ipython2",
   "version": "2.7.6"
  }
 },
 "nbformat": 4,
 "nbformat_minor": 5
}
