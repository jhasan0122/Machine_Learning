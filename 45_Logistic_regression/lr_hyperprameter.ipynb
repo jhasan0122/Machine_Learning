{
 "cells": [
  {
   "cell_type": "code",
   "id": "initial_id",
   "metadata": {
    "collapsed": true,
    "ExecuteTime": {
     "end_time": "2024-09-05T15:43:23.517622Z",
     "start_time": "2024-09-05T15:43:23.514494Z"
    }
   },
   "source": [
    "import matplotlib.pyplot as plt\n",
    "import streamlit as st\n",
    "import numpy as np\n",
    "from sklearn.model_selection import train_test_split\n",
    "from sklearn.datasets import make_classification,make_blobs\n",
    "from sklearn.linear_model import LogisticRegression\n",
    "from sklearn.metrics import accuracy_score"
   ],
   "outputs": [],
   "execution_count": 29
  },
  {
   "metadata": {
    "ExecuteTime": {
     "end_time": "2024-09-05T15:43:23.523346Z",
     "start_time": "2024-09-05T15:43:23.518630Z"
    }
   },
   "cell_type": "code",
   "source": "X, y = make_blobs(n_features=2,centers=2,random_state=6)",
   "id": "fc6f6fea73e2b5e7",
   "outputs": [],
   "execution_count": 30
  },
  {
   "metadata": {
    "ExecuteTime": {
     "end_time": "2024-09-05T15:43:23.530636Z",
     "start_time": "2024-09-05T15:43:23.524354Z"
    }
   },
   "cell_type": "code",
   "source": "X",
   "id": "e41a8cb00d471cbb",
   "outputs": [
    {
     "data": {
      "text/plain": [
       "array([[  8.21597398,  -2.28672255],\n",
       "       [  5.42916264,  -9.28019465],\n",
       "       [  7.4816983 ,  -2.96403632],\n",
       "       [  7.93333064,  -3.51553205],\n",
       "       [  7.29573215,  -4.39392379],\n",
       "       [  5.73072844,  -2.60895506],\n",
       "       [  7.9683312 ,  -3.23125265],\n",
       "       [  6.70309926,  -9.59360762],\n",
       "       [  7.83762169,  -1.69756104],\n",
       "       [  7.69483605,  -2.63359393],\n",
       "       [  6.3649649 ,  -8.97189915],\n",
       "       [  9.24223825,  -3.88003098],\n",
       "       [  9.07568367,  -4.21790533],\n",
       "       [  7.11707557,  -8.20473416],\n",
       "       [  5.22323107,  -8.27441475],\n",
       "       [  8.21073365,  -4.00374119],\n",
       "       [  6.94147717,  -8.23721012],\n",
       "       [  6.54118443,  -9.84832481],\n",
       "       [  9.42169269,  -2.6476988 ],\n",
       "       [  5.97933839,  -9.30802671],\n",
       "       [  5.20200675,  -8.34325489],\n",
       "       [  8.07502382,  -4.25949569],\n",
       "       [  7.80996597,  -4.80944368],\n",
       "       [  8.03349337,  -2.26578348],\n",
       "       [  7.20721285,  -9.65948603],\n",
       "       [  6.36448985,  -9.73455578],\n",
       "       [  6.47613341,  -9.38565474],\n",
       "       [  8.71445065,  -2.41730491],\n",
       "       [  6.53950705,  -9.56107213],\n",
       "       [  6.8381458 ,  -9.53944427],\n",
       "       [  5.4712662 , -10.23889484],\n",
       "       [  6.49868019,  -7.13530714],\n",
       "       [  8.38554409,  -2.4205791 ],\n",
       "       [  6.34041145,  -9.61463318],\n",
       "       [  6.34485681,  -8.293402  ],\n",
       "       [  7.52132141,  -2.12266605],\n",
       "       [  6.91286658,  -8.09575775],\n",
       "       [  7.08184003,  -9.63844312],\n",
       "       [  7.37971592,  -3.24787422],\n",
       "       [  4.51056131,  -9.3059698 ],\n",
       "       [  7.09074039,  -9.96231573],\n",
       "       [  8.98426675,  -4.87449712],\n",
       "       [  6.71146176,  -9.11420779],\n",
       "       [  8.73147142,  -4.09997597],\n",
       "       [  5.72487963,  -3.18654083],\n",
       "       [  8.30413145,  -4.37505188],\n",
       "       [  9.35998856,  -3.95586361],\n",
       "       [  8.38014838,  -3.95228038],\n",
       "       [  7.27059007,  -4.84225716],\n",
       "       [  9.49649411,  -3.7902975 ],\n",
       "       [  5.94013686,  -7.80312963],\n",
       "       [  6.77995303, -10.86498707],\n",
       "       [  7.73046665,  -4.72901672],\n",
       "       [  7.07705089,  -2.4047943 ],\n",
       "       [  7.82516392,  -8.78135944],\n",
       "       [  6.50072722,  -3.82403586],\n",
       "       [  6.11009063,  -9.31104306],\n",
       "       [  7.67619643,  -2.82620437],\n",
       "       [  8.28348842,  -4.11856092],\n",
       "       [  6.10092349,  -7.89996411],\n",
       "       [  8.03085638,  -4.39583818],\n",
       "       [  7.54027624,  -8.37196423],\n",
       "       [  7.31659598,  -2.56718154],\n",
       "       [  6.99313586,  -9.97103306],\n",
       "       [  6.57727023, -10.79868808],\n",
       "       [  8.68185687,  -4.53683537],\n",
       "       [  5.47915365,  -8.07478101],\n",
       "       [  8.21201164,  -1.54781358],\n",
       "       [  5.92031548,  -8.11355755],\n",
       "       [  7.97164446,  -3.38236058],\n",
       "       [  5.37042238,  -2.44715237],\n",
       "       [  7.88781146,  -3.6579031 ],\n",
       "       [  5.2401656 ,  -9.69424066],\n",
       "       [  8.49142837,  -2.54974889],\n",
       "       [  7.26105731, -10.54416186],\n",
       "       [  5.43985453,  -9.37669446],\n",
       "       [  2.7343468 ,  -8.6322259 ],\n",
       "       [  7.39169472,  -3.1266933 ],\n",
       "       [  7.38575675,  -1.02379608],\n",
       "       [  6.88906539,  -3.19333716],\n",
       "       [  6.10441617,  -9.75926332],\n",
       "       [  7.06788391,  -9.61396253],\n",
       "       [  7.03647688,  -9.43591155],\n",
       "       [  6.51537943,  -8.8958009 ],\n",
       "       [  9.76194535,  -2.66625075],\n",
       "       [  5.73005848,  -4.19481136],\n",
       "       [  9.32622042,  -1.61088754],\n",
       "       [  8.80840428,  -2.91850651],\n",
       "       [  7.82101326,  -3.45125088],\n",
       "       [  4.97465453, -11.87299828],\n",
       "       [  5.6046965 ,  -9.0273538 ],\n",
       "       [  7.79476398,  -8.06641415],\n",
       "       [ 10.48848359,  -2.75858164],\n",
       "       [  6.23692501, -10.65245958],\n",
       "       [  6.7396681 , -10.18073299],\n",
       "       [  8.301286  ,  -4.21722653],\n",
       "       [  5.76104857,  -9.59980397],\n",
       "       [  8.76361669,  -9.47939035],\n",
       "       [  5.87132596,  -9.53997836],\n",
       "       [  6.8769834 ,  -9.47553005]])"
      ]
     },
     "execution_count": 31,
     "metadata": {},
     "output_type": "execute_result"
    }
   ],
   "execution_count": 31
  },
  {
   "metadata": {
    "ExecuteTime": {
     "end_time": "2024-09-05T15:43:23.536238Z",
     "start_time": "2024-09-05T15:43:23.531639Z"
    }
   },
   "cell_type": "code",
   "source": "y",
   "id": "e5ae96f15c37702c",
   "outputs": [
    {
     "data": {
      "text/plain": [
       "array([0, 1, 0, 0, 0, 0, 0, 1, 0, 0, 1, 0, 0, 1, 1, 0, 1, 1, 0, 1, 1, 0,\n",
       "       0, 0, 1, 1, 1, 0, 1, 1, 1, 1, 0, 1, 1, 0, 1, 1, 0, 1, 1, 0, 1, 0,\n",
       "       0, 0, 0, 0, 0, 0, 1, 1, 0, 0, 1, 0, 1, 0, 0, 1, 0, 1, 0, 1, 1, 0,\n",
       "       1, 0, 1, 0, 0, 0, 1, 0, 1, 1, 1, 0, 0, 0, 1, 1, 1, 1, 0, 0, 0, 0,\n",
       "       0, 1, 1, 1, 0, 1, 1, 0, 1, 1, 1, 1])"
      ]
     },
     "execution_count": 32,
     "metadata": {},
     "output_type": "execute_result"
    }
   ],
   "execution_count": 32
  },
  {
   "metadata": {
    "ExecuteTime": {
     "end_time": "2024-09-05T15:43:23.549384Z",
     "start_time": "2024-09-05T15:43:23.537244Z"
    }
   },
   "cell_type": "code",
   "source": [
    "fig, ax = plt.subplots()\n",
    "ax.scatter(X.T[0], X.T[1], c=y, cmap='rainbow')"
   ],
   "id": "41be46883136fce1",
   "outputs": [
    {
     "data": {
      "text/plain": [
       "<matplotlib.collections.PathCollection at 0x181fba51b50>"
      ]
     },
     "execution_count": 33,
     "metadata": {},
     "output_type": "execute_result"
    }
   ],
   "execution_count": 33
  },
  {
   "metadata": {
    "ExecuteTime": {
     "end_time": "2024-09-05T15:43:23.561525Z",
     "start_time": "2024-09-05T15:43:23.550397Z"
    }
   },
   "cell_type": "code",
   "source": [
    "fig, ax = plt.subplots()\n",
    "\n",
    "X_train, X_test, y_train, y_test = train_test_split(X, y, random_state=42)"
   ],
   "id": "fb4616c6ed2d514",
   "outputs": [],
   "execution_count": 34
  },
  {
   "metadata": {
    "ExecuteTime": {
     "end_time": "2024-09-05T15:43:23.566026Z",
     "start_time": "2024-09-05T15:43:23.562772Z"
    }
   },
   "cell_type": "code",
   "source": "clf = LogisticRegression(penalty='l2',solver='newton-cg',max_iter=20,multi_class='auto',l1_ratio=1)",
   "id": "3b8670c1746107dc",
   "outputs": [],
   "execution_count": 35
  },
  {
   "metadata": {
    "ExecuteTime": {
     "end_time": "2024-09-05T15:43:23.576390Z",
     "start_time": "2024-09-05T15:43:23.567037Z"
    }
   },
   "cell_type": "code",
   "source": "clf.fit(X_train,y_train)",
   "id": "93ad21a1c42c218d",
   "outputs": [
    {
     "name": "stderr",
     "output_type": "stream",
     "text": [
      "C:\\Users\\HP TECHNOLOGY\\anaconda3\\Lib\\site-packages\\sklearn\\linear_model\\_logistic.py:1165: UserWarning: l1_ratio parameter is only used when penalty is 'elasticnet'. Got (penalty=l2)\n",
      "  warnings.warn(\n"
     ]
    },
    {
     "data": {
      "text/plain": [
       "LogisticRegression(l1_ratio=1, max_iter=20, solver='newton-cg')"
      ],
      "text/html": [
       "<style>#sk-container-id-2 {color: black;background-color: white;}#sk-container-id-2 pre{padding: 0;}#sk-container-id-2 div.sk-toggleable {background-color: white;}#sk-container-id-2 label.sk-toggleable__label {cursor: pointer;display: block;width: 100%;margin-bottom: 0;padding: 0.3em;box-sizing: border-box;text-align: center;}#sk-container-id-2 label.sk-toggleable__label-arrow:before {content: \"▸\";float: left;margin-right: 0.25em;color: #696969;}#sk-container-id-2 label.sk-toggleable__label-arrow:hover:before {color: black;}#sk-container-id-2 div.sk-estimator:hover label.sk-toggleable__label-arrow:before {color: black;}#sk-container-id-2 div.sk-toggleable__content {max-height: 0;max-width: 0;overflow: hidden;text-align: left;background-color: #f0f8ff;}#sk-container-id-2 div.sk-toggleable__content pre {margin: 0.2em;color: black;border-radius: 0.25em;background-color: #f0f8ff;}#sk-container-id-2 input.sk-toggleable__control:checked~div.sk-toggleable__content {max-height: 200px;max-width: 100%;overflow: auto;}#sk-container-id-2 input.sk-toggleable__control:checked~label.sk-toggleable__label-arrow:before {content: \"▾\";}#sk-container-id-2 div.sk-estimator input.sk-toggleable__control:checked~label.sk-toggleable__label {background-color: #d4ebff;}#sk-container-id-2 div.sk-label input.sk-toggleable__control:checked~label.sk-toggleable__label {background-color: #d4ebff;}#sk-container-id-2 input.sk-hidden--visually {border: 0;clip: rect(1px 1px 1px 1px);clip: rect(1px, 1px, 1px, 1px);height: 1px;margin: -1px;overflow: hidden;padding: 0;position: absolute;width: 1px;}#sk-container-id-2 div.sk-estimator {font-family: monospace;background-color: #f0f8ff;border: 1px dotted black;border-radius: 0.25em;box-sizing: border-box;margin-bottom: 0.5em;}#sk-container-id-2 div.sk-estimator:hover {background-color: #d4ebff;}#sk-container-id-2 div.sk-parallel-item::after {content: \"\";width: 100%;border-bottom: 1px solid gray;flex-grow: 1;}#sk-container-id-2 div.sk-label:hover label.sk-toggleable__label {background-color: #d4ebff;}#sk-container-id-2 div.sk-serial::before {content: \"\";position: absolute;border-left: 1px solid gray;box-sizing: border-box;top: 0;bottom: 0;left: 50%;z-index: 0;}#sk-container-id-2 div.sk-serial {display: flex;flex-direction: column;align-items: center;background-color: white;padding-right: 0.2em;padding-left: 0.2em;position: relative;}#sk-container-id-2 div.sk-item {position: relative;z-index: 1;}#sk-container-id-2 div.sk-parallel {display: flex;align-items: stretch;justify-content: center;background-color: white;position: relative;}#sk-container-id-2 div.sk-item::before, #sk-container-id-2 div.sk-parallel-item::before {content: \"\";position: absolute;border-left: 1px solid gray;box-sizing: border-box;top: 0;bottom: 0;left: 50%;z-index: -1;}#sk-container-id-2 div.sk-parallel-item {display: flex;flex-direction: column;z-index: 1;position: relative;background-color: white;}#sk-container-id-2 div.sk-parallel-item:first-child::after {align-self: flex-end;width: 50%;}#sk-container-id-2 div.sk-parallel-item:last-child::after {align-self: flex-start;width: 50%;}#sk-container-id-2 div.sk-parallel-item:only-child::after {width: 0;}#sk-container-id-2 div.sk-dashed-wrapped {border: 1px dashed gray;margin: 0 0.4em 0.5em 0.4em;box-sizing: border-box;padding-bottom: 0.4em;background-color: white;}#sk-container-id-2 div.sk-label label {font-family: monospace;font-weight: bold;display: inline-block;line-height: 1.2em;}#sk-container-id-2 div.sk-label-container {text-align: center;}#sk-container-id-2 div.sk-container {/* jupyter's `normalize.less` sets `[hidden] { display: none; }` but bootstrap.min.css set `[hidden] { display: none !important; }` so we also need the `!important` here to be able to override the default hidden behavior on the sphinx rendered scikit-learn.org. See: https://github.com/scikit-learn/scikit-learn/issues/21755 */display: inline-block !important;position: relative;}#sk-container-id-2 div.sk-text-repr-fallback {display: none;}</style><div id=\"sk-container-id-2\" class=\"sk-top-container\"><div class=\"sk-text-repr-fallback\"><pre>LogisticRegression(l1_ratio=1, max_iter=20, solver=&#x27;newton-cg&#x27;)</pre><b>In a Jupyter environment, please rerun this cell to show the HTML representation or trust the notebook. <br />On GitHub, the HTML representation is unable to render, please try loading this page with nbviewer.org.</b></div><div class=\"sk-container\" hidden><div class=\"sk-item\"><div class=\"sk-estimator sk-toggleable\"><input class=\"sk-toggleable__control sk-hidden--visually\" id=\"sk-estimator-id-2\" type=\"checkbox\" checked><label for=\"sk-estimator-id-2\" class=\"sk-toggleable__label sk-toggleable__label-arrow\">LogisticRegression</label><div class=\"sk-toggleable__content\"><pre>LogisticRegression(l1_ratio=1, max_iter=20, solver=&#x27;newton-cg&#x27;)</pre></div></div></div></div></div>"
      ]
     },
     "execution_count": 36,
     "metadata": {},
     "output_type": "execute_result"
    }
   ],
   "execution_count": 36
  },
  {
   "metadata": {
    "ExecuteTime": {
     "end_time": "2024-09-05T15:43:23.597640Z",
     "start_time": "2024-09-05T15:43:23.593642Z"
    }
   },
   "cell_type": "code",
   "source": "y_pred = clf.predict(X_test)",
   "id": "6a843d6e0c77103d",
   "outputs": [],
   "execution_count": 37
  },
  {
   "metadata": {
    "ExecuteTime": {
     "end_time": "2024-09-05T15:43:23.911413Z",
     "start_time": "2024-09-05T15:43:23.610194Z"
    }
   },
   "cell_type": "code",
   "source": [
    "a = np.arange(start=X[:, 0].min() - 1, stop=X[:, 0].max() + 1, step=0.01)\n",
    "b = np.arange(start=X[:, 1].min() - 1, stop=X[:, 1].max() + 1, step=0.01)\n",
    "\n",
    "XX, YY = np.meshgrid(a, b)\n",
    "\n",
    "input_array = np.array([XX.ravel(), YY.ravel()]).T\n",
    "\n",
    "labels = clf.predict(input_array)\n",
    "\n",
    "ax.contourf(XX, YY, labels.reshape(XX.shape), alpha=0.5, cmap='rainbow')\n",
    "plt.xlabel(\"Col1\")\n",
    "plt.ylabel(\"Col2\")\n",
    "plt.show()"
   ],
   "id": "d45ca892ab0f125e",
   "outputs": [
    {
     "data": {
      "text/plain": [
       "<Figure size 640x480 with 1 Axes>"
      ],
      "image/png": "[encoded data removed]"
     },
     "metadata": {},
     "output_type": "display_data"
    },
    {
     "data": {
      "text/plain": [
       "<Figure size 640x480 with 1 Axes>"
      ],
      "image/png": "[encoded data removed]"
     },
     "metadata": {},
     "output_type": "display_data"
    }
   ],
   "execution_count": 38
  },
  {
   "metadata": {
    "ExecuteTime": {
     "end_time": "2024-09-05T15:43:23.915444Z",
     "start_time": "2024-09-05T15:43:23.912695Z"
    }
   },
   "cell_type": "code",
   "source": "",
   "id": "f2e1e0e3438b8daf",
   "outputs": [],
   "execution_count": 38
  }
 ],
 "metadata": {
  "kernelspec": {
   "display_name": "Python 3",
   "language": "python",
   "name": "python3"
  },
  "language_info": {
   "codemirror_mode": {
    "name": "ipython",
    "version": 2
   },
   "file_extension": ".py",
   "mimetype": "text/x-python",
   "name": "python",
   "nbconvert_exporter": "python",
   "pygments_lexer": "ipython2",
   "version": "2.7.6"
  }
 },
 "nbformat": 4,
 "nbformat_minor": 5
}
