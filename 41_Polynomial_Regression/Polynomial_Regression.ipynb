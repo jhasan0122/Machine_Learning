{
 "cells": [
  {
   "cell_type": "code",
   "id": "initial_id",
   "metadata": {
    "collapsed": true,
    "ExecuteTime": {
     "end_time": "2024-06-28T10:27:06.559601Z",
     "start_time": "2024-06-28T10:27:06.554662Z"
    }
   },
   "source": [
    "import numpy as np\n",
    "import matplotlib.pyplot as plt\n",
    "\n",
    "from sklearn.model_selection import train_test_split\n",
    "\n",
    "from sklearn.linear_model import LinearRegression,SGDRegressor\n",
    "\n",
    "from sklearn.preprocessing import PolynomialFeatures,StandardScaler\n",
    "\n",
    "from sklearn.metrics import r2_score\n",
    "\n",
    "from sklearn.pipeline import Pipeline"
   ],
   "outputs": [],
   "execution_count": 26
  },
  {
   "metadata": {},
   "cell_type": "markdown",
   "source": "# 2D polynomial regression",
   "id": "59ed92d710eab324"
  },
  {
   "metadata": {
    "ExecuteTime": {
     "end_time": "2024-06-28T10:27:06.605183Z",
     "start_time": "2024-06-28T10:27:06.600856Z"
    }
   },
   "cell_type": "code",
   "source": [
    "X = 6 * np.random.rand(200, 1) - 3\n",
    "y = 0.8 * X**2 + 0.9 * X + 2 + np.random.randn(200, 1)\n",
    "\n",
    "# y = 0.8x^2 + 0.9x + 2"
   ],
   "id": "8897d3e900f6fa38",
   "outputs": [],
   "execution_count": 27
  },
  {
   "metadata": {
    "ExecuteTime": {
     "end_time": "2024-06-28T10:27:06.699240Z",
     "start_time": "2024-06-28T10:27:06.606192Z"
    }
   },
   "cell_type": "code",
   "source": [
    "plt.plot(X, y,'b.')\n",
    "plt.xlabel(\"X\")\n",
    "plt.ylabel(\"y\")\n",
    "plt.show()"
   ],
   "id": "ff3d3b3ff3d823c2",
   "outputs": [
    {
     "data": {
      "text/plain": [
       "<Figure size 640x480 with 1 Axes>"
      ],
      "image/png": "[encoded data removed]"
     },
     "metadata": {},
     "output_type": "display_data"
    }
   ],
   "execution_count": 28
  },
  {
   "metadata": {
    "ExecuteTime": {
     "end_time": "2024-06-28T10:27:06.704767Z",
     "start_time": "2024-06-28T10:27:06.700242Z"
    }
   },
   "cell_type": "code",
   "source": [
    "# Train test split\n",
    "X_train,X_test,y_train,y_test = train_test_split(X,y,test_size=0.2,random_state=2)"
   ],
   "id": "40a1b5558db95fbc",
   "outputs": [],
   "execution_count": 29
  },
  {
   "metadata": {},
   "cell_type": "markdown",
   "source": "#### Linear Regression",
   "id": "cbfa584fea737599"
  },
  {
   "metadata": {
    "ExecuteTime": {
     "end_time": "2024-06-28T10:27:06.709255Z",
     "start_time": "2024-06-28T10:27:06.705775Z"
    }
   },
   "cell_type": "code",
   "source": "lr = LinearRegression()",
   "id": "81ed7b065243b410",
   "outputs": [],
   "execution_count": 30
  },
  {
   "metadata": {
    "ExecuteTime": {
     "end_time": "2024-06-28T10:27:06.716370Z",
     "start_time": "2024-06-28T10:27:06.709776Z"
    }
   },
   "cell_type": "code",
   "source": "lr.fit(X_train,y_train)",
   "id": "86d122d405a5bd4d",
   "outputs": [
    {
     "data": {
      "text/plain": [
       "LinearRegression()"
      ],
      "text/html": [
       "<style>#sk-container-id-3 {color: black;background-color: white;}#sk-container-id-3 pre{padding: 0;}#sk-container-id-3 div.sk-toggleable {background-color: white;}#sk-container-id-3 label.sk-toggleable__label {cursor: pointer;display: block;width: 100%;margin-bottom: 0;padding: 0.3em;box-sizing: border-box;text-align: center;}#sk-container-id-3 label.sk-toggleable__label-arrow:before {content: \"▸\";float: left;margin-right: 0.25em;color: #696969;}#sk-container-id-3 label.sk-toggleable__label-arrow:hover:before {color: black;}#sk-container-id-3 div.sk-estimator:hover label.sk-toggleable__label-arrow:before {color: black;}#sk-container-id-3 div.sk-toggleable__content {max-height: 0;max-width: 0;overflow: hidden;text-align: left;background-color: #f0f8ff;}#sk-container-id-3 div.sk-toggleable__content pre {margin: 0.2em;color: black;border-radius: 0.25em;background-color: #f0f8ff;}#sk-container-id-3 input.sk-toggleable__control:checked~div.sk-toggleable__content {max-height: 200px;max-width: 100%;overflow: auto;}#sk-container-id-3 input.sk-toggleable__control:checked~label.sk-toggleable__label-arrow:before {content: \"▾\";}#sk-container-id-3 div.sk-estimator input.sk-toggleable__control:checked~label.sk-toggleable__label {background-color: #d4ebff;}#sk-container-id-3 div.sk-label input.sk-toggleable__control:checked~label.sk-toggleable__label {background-color: #d4ebff;}#sk-container-id-3 input.sk-hidden--visually {border: 0;clip: rect(1px 1px 1px 1px);clip: rect(1px, 1px, 1px, 1px);height: 1px;margin: -1px;overflow: hidden;padding: 0;position: absolute;width: 1px;}#sk-container-id-3 div.sk-estimator {font-family: monospace;background-color: #f0f8ff;border: 1px dotted black;border-radius: 0.25em;box-sizing: border-box;margin-bottom: 0.5em;}#sk-container-id-3 div.sk-estimator:hover {background-color: #d4ebff;}#sk-container-id-3 div.sk-parallel-item::after {content: \"\";width: 100%;border-bottom: 1px solid gray;flex-grow: 1;}#sk-container-id-3 div.sk-label:hover label.sk-toggleable__label {background-color: #d4ebff;}#sk-container-id-3 div.sk-serial::before {content: \"\";position: absolute;border-left: 1px solid gray;box-sizing: border-box;top: 0;bottom: 0;left: 50%;z-index: 0;}#sk-container-id-3 div.sk-serial {display: flex;flex-direction: column;align-items: center;background-color: white;padding-right: 0.2em;padding-left: 0.2em;position: relative;}#sk-container-id-3 div.sk-item {position: relative;z-index: 1;}#sk-container-id-3 div.sk-parallel {display: flex;align-items: stretch;justify-content: center;background-color: white;position: relative;}#sk-container-id-3 div.sk-item::before, #sk-container-id-3 div.sk-parallel-item::before {content: \"\";position: absolute;border-left: 1px solid gray;box-sizing: border-box;top: 0;bottom: 0;left: 50%;z-index: -1;}#sk-container-id-3 div.sk-parallel-item {display: flex;flex-direction: column;z-index: 1;position: relative;background-color: white;}#sk-container-id-3 div.sk-parallel-item:first-child::after {align-self: flex-end;width: 50%;}#sk-container-id-3 div.sk-parallel-item:last-child::after {align-self: flex-start;width: 50%;}#sk-container-id-3 div.sk-parallel-item:only-child::after {width: 0;}#sk-container-id-3 div.sk-dashed-wrapped {border: 1px dashed gray;margin: 0 0.4em 0.5em 0.4em;box-sizing: border-box;padding-bottom: 0.4em;background-color: white;}#sk-container-id-3 div.sk-label label {font-family: monospace;font-weight: bold;display: inline-block;line-height: 1.2em;}#sk-container-id-3 div.sk-label-container {text-align: center;}#sk-container-id-3 div.sk-container {/* jupyter's `normalize.less` sets `[hidden] { display: none; }` but bootstrap.min.css set `[hidden] { display: none !important; }` so we also need the `!important` here to be able to override the default hidden behavior on the sphinx rendered scikit-learn.org. See: https://github.com/scikit-learn/scikit-learn/issues/21755 */display: inline-block !important;position: relative;}#sk-container-id-3 div.sk-text-repr-fallback {display: none;}</style><div id=\"sk-container-id-3\" class=\"sk-top-container\"><div class=\"sk-text-repr-fallback\"><pre>LinearRegression()</pre><b>In a Jupyter environment, please rerun this cell to show the HTML representation or trust the notebook. <br />On GitHub, the HTML representation is unable to render, please try loading this page with nbviewer.org.</b></div><div class=\"sk-container\" hidden><div class=\"sk-item\"><div class=\"sk-estimator sk-toggleable\"><input class=\"sk-toggleable__control sk-hidden--visually\" id=\"sk-estimator-id-3\" type=\"checkbox\" checked><label for=\"sk-estimator-id-3\" class=\"sk-toggleable__label sk-toggleable__label-arrow\">LinearRegression</label><div class=\"sk-toggleable__content\"><pre>LinearRegression()</pre></div></div></div></div></div>"
      ]
     },
     "execution_count": 31,
     "metadata": {},
     "output_type": "execute_result"
    }
   ],
   "execution_count": 31
  },
  {
   "metadata": {
    "ExecuteTime": {
     "end_time": "2024-06-28T10:27:06.723087Z",
     "start_time": "2024-06-28T10:27:06.717706Z"
    }
   },
   "cell_type": "code",
   "source": [
    "y_pred = lr.predict(X_test)\n",
    "r2_score(y_test,y_pred)"
   ],
   "id": "a172470912c8b8d3",
   "outputs": [
    {
     "data": {
      "text/plain": [
       "-0.059628306885654014"
      ]
     },
     "execution_count": 32,
     "metadata": {},
     "output_type": "execute_result"
    }
   ],
   "execution_count": 32
  },
  {
   "metadata": {
    "ExecuteTime": {
     "end_time": "2024-06-28T10:27:06.816546Z",
     "start_time": "2024-06-28T10:27:06.724097Z"
    }
   },
   "cell_type": "code",
   "source": [
    "plt.plot(X_train,lr.predict(X_train),color='r')\n",
    "plt.plot(X, y, \"b.\")\n",
    "plt.xlabel(\"X\")\n",
    "plt.ylabel(\"y\")\n",
    "plt.show()"
   ],
   "id": "def327e6afe75f10",
   "outputs": [
    {
     "data": {
      "text/plain": [
       "<Figure size 640x480 with 1 Axes>"
      ],
      "image/png": "[encoded data removed]"
     },
     "metadata": {},
     "output_type": "display_data"
    }
   ],
   "execution_count": 33
  },
  {
   "metadata": {},
   "cell_type": "markdown",
   "source": "#### Applying Polynomial Linear Regression",
   "id": "161bc203b11643d0"
  },
  {
   "metadata": {
    "ExecuteTime": {
     "end_time": "2024-06-28T10:27:06.821303Z",
     "start_time": "2024-06-28T10:27:06.817550Z"
    }
   },
   "cell_type": "code",
   "source": [
    "poly = PolynomialFeatures(degree=2,include_bias=True)\n",
    "\n",
    "X_train_trans = poly.fit_transform(X_train)\n",
    "X_test_trans = poly.transform(X_test)"
   ],
   "id": "36fc8e5c5121197f",
   "outputs": [],
   "execution_count": 34
  },
  {
   "metadata": {
    "ExecuteTime": {
     "end_time": "2024-06-28T10:27:06.826538Z",
     "start_time": "2024-06-28T10:27:06.822320Z"
    }
   },
   "cell_type": "code",
   "source": [
    "print(X_train[0])\n",
    "print(X_train_trans[0])"
   ],
   "id": "5f6757cb5b5957ab",
   "outputs": [
    {
     "name": "stdout",
     "output_type": "stream",
     "text": [
      "[-1.2576019]\n",
      "[ 1.         -1.2576019   1.58156254]\n"
     ]
    }
   ],
   "execution_count": 35
  },
  {
   "metadata": {
    "ExecuteTime": {
     "end_time": "2024-06-28T10:27:06.833489Z",
     "start_time": "2024-06-28T10:27:06.827682Z"
    }
   },
   "cell_type": "code",
   "source": [
    "lr = LinearRegression()\n",
    "lr.fit(X_train_trans,y_train)"
   ],
   "id": "8b9a858974fff0b6",
   "outputs": [
    {
     "data": {
      "text/plain": [
       "LinearRegression()"
      ],
      "text/html": [
       "<style>#sk-container-id-4 {color: black;background-color: white;}#sk-container-id-4 pre{padding: 0;}#sk-container-id-4 div.sk-toggleable {background-color: white;}#sk-container-id-4 label.sk-toggleable__label {cursor: pointer;display: block;width: 100%;margin-bottom: 0;padding: 0.3em;box-sizing: border-box;text-align: center;}#sk-container-id-4 label.sk-toggleable__label-arrow:before {content: \"▸\";float: left;margin-right: 0.25em;color: #696969;}#sk-container-id-4 label.sk-toggleable__label-arrow:hover:before {color: black;}#sk-container-id-4 div.sk-estimator:hover label.sk-toggleable__label-arrow:before {color: black;}#sk-container-id-4 div.sk-toggleable__content {max-height: 0;max-width: 0;overflow: hidden;text-align: left;background-color: #f0f8ff;}#sk-container-id-4 div.sk-toggleable__content pre {margin: 0.2em;color: black;border-radius: 0.25em;background-color: #f0f8ff;}#sk-container-id-4 input.sk-toggleable__control:checked~div.sk-toggleable__content {max-height: 200px;max-width: 100%;overflow: auto;}#sk-container-id-4 input.sk-toggleable__control:checked~label.sk-toggleable__label-arrow:before {content: \"▾\";}#sk-container-id-4 div.sk-estimator input.sk-toggleable__control:checked~label.sk-toggleable__label {background-color: #d4ebff;}#sk-container-id-4 div.sk-label input.sk-toggleable__control:checked~label.sk-toggleable__label {background-color: #d4ebff;}#sk-container-id-4 input.sk-hidden--visually {border: 0;clip: rect(1px 1px 1px 1px);clip: rect(1px, 1px, 1px, 1px);height: 1px;margin: -1px;overflow: hidden;padding: 0;position: absolute;width: 1px;}#sk-container-id-4 div.sk-estimator {font-family: monospace;background-color: #f0f8ff;border: 1px dotted black;border-radius: 0.25em;box-sizing: border-box;margin-bottom: 0.5em;}#sk-container-id-4 div.sk-estimator:hover {background-color: #d4ebff;}#sk-container-id-4 div.sk-parallel-item::after {content: \"\";width: 100%;border-bottom: 1px solid gray;flex-grow: 1;}#sk-container-id-4 div.sk-label:hover label.sk-toggleable__label {background-color: #d4ebff;}#sk-container-id-4 div.sk-serial::before {content: \"\";position: absolute;border-left: 1px solid gray;box-sizing: border-box;top: 0;bottom: 0;left: 50%;z-index: 0;}#sk-container-id-4 div.sk-serial {display: flex;flex-direction: column;align-items: center;background-color: white;padding-right: 0.2em;padding-left: 0.2em;position: relative;}#sk-container-id-4 div.sk-item {position: relative;z-index: 1;}#sk-container-id-4 div.sk-parallel {display: flex;align-items: stretch;justify-content: center;background-color: white;position: relative;}#sk-container-id-4 div.sk-item::before, #sk-container-id-4 div.sk-parallel-item::before {content: \"\";position: absolute;border-left: 1px solid gray;box-sizing: border-box;top: 0;bottom: 0;left: 50%;z-index: -1;}#sk-container-id-4 div.sk-parallel-item {display: flex;flex-direction: column;z-index: 1;position: relative;background-color: white;}#sk-container-id-4 div.sk-parallel-item:first-child::after {align-self: flex-end;width: 50%;}#sk-container-id-4 div.sk-parallel-item:last-child::after {align-self: flex-start;width: 50%;}#sk-container-id-4 div.sk-parallel-item:only-child::after {width: 0;}#sk-container-id-4 div.sk-dashed-wrapped {border: 1px dashed gray;margin: 0 0.4em 0.5em 0.4em;box-sizing: border-box;padding-bottom: 0.4em;background-color: white;}#sk-container-id-4 div.sk-label label {font-family: monospace;font-weight: bold;display: inline-block;line-height: 1.2em;}#sk-container-id-4 div.sk-label-container {text-align: center;}#sk-container-id-4 div.sk-container {/* jupyter's `normalize.less` sets `[hidden] { display: none; }` but bootstrap.min.css set `[hidden] { display: none !important; }` so we also need the `!important` here to be able to override the default hidden behavior on the sphinx rendered scikit-learn.org. See: https://github.com/scikit-learn/scikit-learn/issues/21755 */display: inline-block !important;position: relative;}#sk-container-id-4 div.sk-text-repr-fallback {display: none;}</style><div id=\"sk-container-id-4\" class=\"sk-top-container\"><div class=\"sk-text-repr-fallback\"><pre>LinearRegression()</pre><b>In a Jupyter environment, please rerun this cell to show the HTML representation or trust the notebook. <br />On GitHub, the HTML representation is unable to render, please try loading this page with nbviewer.org.</b></div><div class=\"sk-container\" hidden><div class=\"sk-item\"><div class=\"sk-estimator sk-toggleable\"><input class=\"sk-toggleable__control sk-hidden--visually\" id=\"sk-estimator-id-4\" type=\"checkbox\" checked><label for=\"sk-estimator-id-4\" class=\"sk-toggleable__label sk-toggleable__label-arrow\">LinearRegression</label><div class=\"sk-toggleable__content\"><pre>LinearRegression()</pre></div></div></div></div></div>"
      ]
     },
     "execution_count": 36,
     "metadata": {},
     "output_type": "execute_result"
    }
   ],
   "execution_count": 36
  },
  {
   "metadata": {
    "ExecuteTime": {
     "end_time": "2024-06-28T10:27:06.838273Z",
     "start_time": "2024-06-28T10:27:06.834807Z"
    }
   },
   "cell_type": "code",
   "source": "y_pred = lr.predict(X_test_trans)",
   "id": "cbee98b8b8ef2cc2",
   "outputs": [],
   "execution_count": 37
  },
  {
   "metadata": {
    "ExecuteTime": {
     "end_time": "2024-06-28T10:27:06.844763Z",
     "start_time": "2024-06-28T10:27:06.839782Z"
    }
   },
   "cell_type": "code",
   "source": "r2_score(y_test,y_pred)",
   "id": "c9d67a35e73e02ac",
   "outputs": [
    {
     "data": {
      "text/plain": [
       "0.8303328605544211"
      ]
     },
     "execution_count": 38,
     "metadata": {},
     "output_type": "execute_result"
    }
   ],
   "execution_count": 38
  },
  {
   "metadata": {
    "ExecuteTime": {
     "end_time": "2024-06-28T10:27:06.850323Z",
     "start_time": "2024-06-28T10:27:06.845876Z"
    }
   },
   "cell_type": "code",
   "source": [
    "print(lr.coef_)\n",
    "print(lr.intercept_)"
   ],
   "id": "18e8d92d6be5b02e",
   "outputs": [
    {
     "name": "stdout",
     "output_type": "stream",
     "text": [
      "[[0.         0.8688766  0.77247994]]\n",
      "[2.09917174]\n"
     ]
    }
   ],
   "execution_count": 39
  },
  {
   "metadata": {
    "ExecuteTime": {
     "end_time": "2024-06-28T10:27:06.855508Z",
     "start_time": "2024-06-28T10:27:06.851332Z"
    }
   },
   "cell_type": "code",
   "source": [
    "X_new=np.linspace(-3, 3, 200).reshape(200, 1)\n",
    "X_new_poly = poly.transform(X_new)\n",
    "y_new = lr.predict(X_new_poly)"
   ],
   "id": "63f197d8028422e9",
   "outputs": [],
   "execution_count": 40
  },
  {
   "metadata": {
    "ExecuteTime": {
     "end_time": "2024-06-28T10:27:06.983052Z",
     "start_time": "2024-06-28T10:27:06.858885Z"
    }
   },
   "cell_type": "code",
   "source": [
    "plt.plot(X_new, y_new, \"r-\", linewidth=2, label=\"Predictions\")\n",
    "plt.plot(X_train, y_train, \"b.\",label='Training points')\n",
    "plt.plot(X_test, y_test, \"g.\",label='Testing points')\n",
    "plt.xlabel(\"X\")\n",
    "plt.ylabel(\"y\")\n",
    "plt.legend()\n",
    "plt.show()"
   ],
   "id": "a39250afe30406c4",
   "outputs": [
    {
     "data": {
      "text/plain": [
       "<Figure size 640x480 with 1 Axes>"
      ],
      "image/png": "[encoded data removed]"
     },
     "metadata": {},
     "output_type": "display_data"
    }
   ],
   "execution_count": 41
  },
  {
   "metadata": {
    "ExecuteTime": {
     "end_time": "2024-06-28T10:27:06.989181Z",
     "start_time": "2024-06-28T10:27:06.984059Z"
    }
   },
   "cell_type": "code",
   "source": [
    "def polynomial_regression(degree):\n",
    "    X_new=np.linspace(-3, 3, 100).reshape(100, 1)\n",
    "    X_new_poly = poly.transform(X_new)\n",
    "\n",
    "    polybig_features = PolynomialFeatures(degree=degree, include_bias=False)\n",
    "    std_scaler = StandardScaler()\n",
    "    lin_reg = LinearRegression()\n",
    "    polynomial_regression = Pipeline([\n",
    "            (\"poly_features\", polybig_features),\n",
    "            (\"std_scaler\", std_scaler),\n",
    "            (\"lin_reg\", lin_reg),\n",
    "        ])\n",
    "    polynomial_regression.fit(X, y)\n",
    "    y_newbig = polynomial_regression.predict(X_new)\n",
    "    plt.plot(X_new, y_newbig,'r', label=\"Degree \" + str(degree), linewidth=2)\n",
    "\n",
    "    plt.plot(X_train, y_train, \"b.\", linewidth=3)\n",
    "    plt.plot(X_test, y_test, \"g.\", linewidth=3)\n",
    "    plt.legend(loc=\"upper left\")\n",
    "    plt.xlabel(\"X\")\n",
    "    plt.ylabel(\"y\")\n",
    "    plt.axis([-3, 3, 0, 10])\n",
    "    plt.show()"
   ],
   "id": "be4173dfe2ab19e1",
   "outputs": [],
   "execution_count": 42
  },
  {
   "metadata": {
    "ExecuteTime": {
     "end_time": "2024-06-28T10:27:07.104813Z",
     "start_time": "2024-06-28T10:27:06.990183Z"
    }
   },
   "cell_type": "code",
   "source": "polynomial_regression(35)",
   "id": "6e05158a17165d43",
   "outputs": [
    {
     "data": {
      "text/plain": [
       "<Figure size 640x480 with 1 Axes>"
      ],
      "image/png": "[encoded data removed]"
     },
     "metadata": {},
     "output_type": "display_data"
    }
   ],
   "execution_count": 43
  },
  {
   "metadata": {},
   "cell_type": "markdown",
   "source": "# 3D polynomial regression",
   "id": "f60224ebf98ff70e"
  },
  {
   "metadata": {
    "ExecuteTime": {
     "end_time": "2024-06-28T10:27:07.110227Z",
     "start_time": "2024-06-28T10:27:07.106082Z"
    }
   },
   "cell_type": "code",
   "source": [
    "x = 7 * np.random.rand(100, 1) - 2.8\n",
    "y = 7 * np.random.rand(100, 1) - 2.8\n",
    "\n",
    "z = x**2 + y**2 + 0.2*x + 0.2*y + 0.1*x*y +2 + np.random.randn(100, 1)\n",
    "# z = x^2 + y^2 + 0.2x + 0.2y + 0.1xy + 2"
   ],
   "id": "f87cb4f65159cee9",
   "outputs": [],
   "execution_count": 44
  },
  {
   "metadata": {
    "ExecuteTime": {
     "end_time": "2024-06-28T10:27:07.160688Z",
     "start_time": "2024-06-28T10:27:07.110729Z"
    }
   },
   "cell_type": "code",
   "source": [
    "import plotly.express as px\n",
    "df = px.data.iris()\n",
    "fig = px.scatter_3d(df, x=x.ravel(), y=y.ravel(), z=z.ravel())\n",
    "fig.show()"
   ],
   "id": "5dc5c974e9f5c353",
   "outputs": [
    {
     "data": {
      "application/vnd.plotly.v1+json": {
       "data": [
        {
         "hovertemplate": "x=%{x}<br>y=%{y}<br>z=%{z}<extra></extra>",
         "legendgroup": "",
         "marker": {
          "color": "#636efa",
          "symbol": "circle"
         },
         "mode": "markers",
         "name": "",
         "scene": "scene",
         "showlegend": false,
         "x": [
          3.751190324556995,
          -0.9563716232614747,
          -0.6011958407097593,
          0.4536453494058037,
          0.8249720002377621,
          3.0505531531544126,
          3.347169249077403,
          1.5561973053235798,
          1.7513018550022936,
          2.7047710103906883,
          3.564796056172903,
          1.0069971132320967,
          1.5596051241088356,
          2.729463045515679,
          2.370587567203131,
          2.202835313201212,
          3.976292585071282,
          -0.4365977346210177,
          4.066701134489436,
          1.009672516808783,
          1.2676929712301765,
          0.1404348328122378,
          0.05632607097686737,
          -0.401984368348109,
          2.9139406706604216,
          -2.355265223035235,
          -0.4099017524790449,
          3.22641834991001,
          1.67267480317512,
          2.6623367900151242,
          0.5092541856633428,
          0.43900202498016316,
          2.335668385145369,
          -2.253627056439791,
          3.127436316666972,
          1.290766289071251,
          0.12055462614512535,
          2.9410166630252172,
          3.4075431388935336,
          -1.7946632890170484,
          -0.13604803524909315,
          -0.03654131856114162,
          -1.3389292627881195,
          -0.8447032887410022,
          1.124527282779919,
          2.971349508903323,
          3.7735426716221747,
          -2.6496627781923108,
          2.0934012716828834,
          -1.0701731893131667,
          1.2931626528890572,
          -2.1863714307731765,
          3.413552965820892,
          0.8889715303002834,
          3.1519972799886586,
          -1.2806412354006014,
          2.3511009735985535,
          -0.79899290185219,
          0.6245940255100049,
          -0.07677261014913483,
          1.814306998742726,
          -1.5843161452901993,
          -1.0843521767508513,
          3.523043788372859,
          2.9127493276219987,
          -1.0962368641713796,
          0.8208079807310731,
          -1.0175712066074802,
          -2.372744727324026,
          -2.6789043399139087,
          4.071025413532273,
          0.9058723992638233,
          -2.3761330488327497,
          1.7606066655084192,
          -0.13033332818456067,
          0.613157944145287,
          -2.4673224948314605,
          0.26797378446620446,
          3.831492104248314,
          -0.862459343659232,
          0.23686208289817623,
          0.8447114562301024,
          1.1327213493039094,
          3.2407794714610025,
          3.943235871284407,
          -1.2315885528917607,
          3.8340151862917393,
          1.5434701133458155,
          -2.7206173645538896,
          -1.1280457323222786,
          2.9935124232729278,
          1.0694783495264994,
          -0.9240122622266278,
          1.4410279398966388,
          3.8850884535909858,
          -0.8851254198031331,
          0.5972621025488785,
          -0.8995441299881519,
          3.292173592348415,
          -2.2808644414719152
         ],
         "y": [
          3.9506081588614013,
          3.434487919667516,
          -1.634618146254473,
          1.5406466987469338,
          -2.1154067575180555,
          1.4580913776250952,
          1.5059091750336817,
          -0.46403446053212205,
          1.2361781572315156,
          1.699701778658846,
          2.786173484554422,
          0.0916218979432668,
          -0.29877407845095805,
          0.1803682482140312,
          -0.894323563007041,
          -1.627806112997587,
          3.900691625301228,
          -2.2205877039066984,
          0.0029651727735244826,
          3.4941042786407177,
          -2.0998327367756184,
          0.7944780522019563,
          -1.3001699323261324,
          1.7773594954025835,
          -2.6497053994547044,
          -1.022881118845687,
          0.7756612888188705,
          -1.152078771669192,
          2.2958626389566446,
          2.979871986223645,
          2.1820172401746802,
          3.093250889987269,
          -2.117372636716003,
          3.871118427879848,
          -1.7619531173631775,
          -1.4867549296489817,
          4.171741776204125,
          -2.258931714155469,
          -0.13862631636406686,
          2.0795979178745796,
          -1.618803082084077,
          3.2503758177959563,
          -2.0108458314683504,
          -2.615284942496967,
          -2.3930435669240997,
          2.398695935286396,
          -0.7229147547398891,
          2.4003479092327167,
          0.8288261289636893,
          3.4345923330392836,
          4.159246662985855,
          0.1977305000389027,
          -0.4588842877763004,
          0.4814845524894733,
          -2.254656959648889,
          0.8276120164240619,
          -1.360129398953473,
          1.056864403043237,
          2.7762005842998727,
          -1.9980200494791631,
          3.565140175675295,
          -1.449130257298383,
          -1.6139825184009104,
          0.44316441261837136,
          3.1427439070341583,
          2.2448610753971856,
          1.0461717625701232,
          0.050845182693100455,
          0.5366385393533806,
          2.494232544272741,
          4.153455635904044,
          1.3008099595931677,
          2.004565279640329,
          0.07936515450019854,
          -0.1363290547325362,
          0.6558959230339485,
          0.7708096757920329,
          0.1541573696140328,
          0.5813816928196722,
          3.0305416562984773,
          -2.7947451161066996,
          -0.29586085426859743,
          -0.1833129159605411,
          2.062357328103462,
          2.151661088110979,
          2.8690950134270947,
          -0.15797412112256337,
          -1.9859377449447022,
          -1.94423837853084,
          3.4813515756742186,
          1.420571303450739,
          2.6629272263216848,
          2.8526429657385943,
          2.1920011209330834,
          3.0948709687864193,
          -1.0873511967102356,
          -1.7181524652824347,
          2.8857551219458566,
          -0.7283261087462458,
          -0.07486796283407271
         ],
         "z": [
          34.17245097271767,
          13.11868096126879,
          4.296531101476564,
          5.806896669516505,
          7.389666942981362,
          14.593317484950353,
          17.534571446408066,
          3.9251379214141773,
          7.380712033852865,
          12.279253044385353,
          24.574546296950608,
          3.22127754794079,
          6.471374945404498,
          11.656050590836683,
          7.603096637247782,
          9.418490205913658,
          35.72497094764797,
          5.888168169664242,
          18.828183801073312,
          15.873148257532925,
          8.278127486267362,
          1.4316410905626857,
          2.921198853645213,
          5.399469797396208,
          17.09437880793797,
          8.226639764814601,
          4.872554194177844,
          12.861480154749986,
          11.149274850335186,
          19.890139049415087,
          7.983821997665313,
          12.06769107746526,
          11.859746439007134,
          21.94885181541381,
          13.696030805028284,
          5.143815020677708,
          20.374777443727744,
          14.419280447335197,
          14.077649360195917,
          9.348338494839108,
          4.4786141406363935,
          12.543345955240477,
          8.965251561037567,
          10.94548149099097,
          9.820642463530154,
          19.177151160012734,
          17.158951881505082,
          15.928066677674677,
          6.851963286931409,
          13.74490943640843,
          22.639392264207377,
          6.429099991763097,
          14.818624584823777,
          3.7302149952760066,
          16.257347591789582,
          2.241823953101523,
          11.559560566222135,
          4.520401469591766,
          9.80422153720874,
          5.86947082541783,
          18.975213214474223,
          5.317084768159933,
          7.592355342475463,
          16.535505959048045,
          22.10880192721467,
          8.786826726861298,
          3.845736227985623,
          2.995017350867364,
          9.29425595844804,
          14.8845601005614,
          38.458006525618735,
          5.399953244357593,
          11.497876832224755,
          6.1385171517880055,
          3.4496500748428165,
          3.0874374246902567,
          6.848463585072382,
          3.109882826869325,
          18.188746769610635,
          14.410241299017994,
          8.442203741069854,
          3.801775367971638,
          4.299325191273257,
          18.05485917313435,
          25.516654299311803,
          9.999487220941958,
          17.502432164358037,
          6.639978957345589,
          12.02781542752488,
          15.101381416186962,
          13.767106049684491,
          11.05990935886624,
          11.549341672911263,
          10.591207063174023,
          29.307788458868302,
          4.077156258244681,
          4.794205829140957,
          10.521272845621452,
          14.908608630144338,
          7.775938996769963
         ],
         "type": "scatter3d"
        }
       ],
       "layout": {
        "template": {
         "data": {
          "histogram2dcontour": [
           {
            "type": "histogram2dcontour",
            "colorbar": {
             "outlinewidth": 0,
             "ticks": ""
            },
            "colorscale": [
             [
              0.0,
              "#0d0887"
             ],
             [
              0.1111111111111111,
              "#46039f"
             ],
             [
              0.2222222222222222,
              "#7201a8"
             ],
             [
              0.3333333333333333,
              "#9c179e"
             ],
             [
              0.4444444444444444,
              "#bd3786"
             ],
             [
              0.5555555555555556,
              "#d8576b"
             ],
             [
              0.6666666666666666,
              "#ed7953"
             ],
             [
              0.7777777777777778,
              "#fb9f3a"
             ],
             [
              0.8888888888888888,
              "#fdca26"
             ],
             [
              1.0,
              "#f0f921"
             ]
            ]
           }
          ],
          "choropleth": [
           {
            "type": "choropleth",
            "colorbar": {
             "outlinewidth": 0,
             "ticks": ""
            }
           }
          ],
          "histogram2d": [
           {
            "type": "histogram2d",
            "colorbar": {
             "outlinewidth": 0,
             "ticks": ""
            },
            "colorscale": [
             [
              0.0,
              "#0d0887"
             ],
             [
              0.1111111111111111,
              "#46039f"
             ],
             [
              0.2222222222222222,
              "#7201a8"
             ],
             [
              0.3333333333333333,
              "#9c179e"
             ],
             [
              0.4444444444444444,
              "#bd3786"
             ],
             [
              0.5555555555555556,
              "#d8576b"
             ],
             [
              0.6666666666666666,
              "#ed7953"
             ],
             [
              0.7777777777777778,
              "#fb9f3a"
             ],
             [
              0.8888888888888888,
              "#fdca26"
             ],
             [
              1.0,
              "#f0f921"
             ]
            ]
           }
          ],
          "heatmap": [
           {
            "type": "heatmap",
            "colorbar": {
             "outlinewidth": 0,
             "ticks": ""
            },
            "colorscale": [
             [
              0.0,
              "#0d0887"
             ],
             [
              0.1111111111111111,
              "#46039f"
             ],
             [
              0.2222222222222222,
              "#7201a8"
             ],
             [
              0.3333333333333333,
              "#9c179e"
             ],
             [
              0.4444444444444444,
              "#bd3786"
             ],
             [
              0.5555555555555556,
              "#d8576b"
             ],
             [
              0.6666666666666666,
              "#ed7953"
             ],
             [
              0.7777777777777778,
              "#fb9f3a"
             ],
             [
              0.8888888888888888,
              "#fdca26"
             ],
             [
              1.0,
              "#f0f921"
             ]
            ]
           }
          ],
          "heatmapgl": [
           {
            "type": "heatmapgl",
            "colorbar": {
             "outlinewidth": 0,
             "ticks": ""
            },
            "colorscale": [
             [
              0.0,
              "#0d0887"
             ],
             [
              0.1111111111111111,
              "#46039f"
             ],
             [
              0.2222222222222222,
              "#7201a8"
             ],
             [
              0.3333333333333333,
              "#9c179e"
             ],
             [
              0.4444444444444444,
              "#bd3786"
             ],
             [
              0.5555555555555556,
              "#d8576b"
             ],
             [
              0.6666666666666666,
              "#ed7953"
             ],
             [
              0.7777777777777778,
              "#fb9f3a"
             ],
             [
              0.8888888888888888,
              "#fdca26"
             ],
             [
              1.0,
              "#f0f921"
             ]
            ]
           }
          ],
          "contourcarpet": [
           {
            "type": "contourcarpet",
            "colorbar": {
             "outlinewidth": 0,
             "ticks": ""
            }
           }
          ],
          "contour": [
           {
            "type": "contour",
            "colorbar": {
             "outlinewidth": 0,
             "ticks": ""
            },
            "colorscale": [
             [
              0.0,
              "#0d0887"
             ],
             [
              0.1111111111111111,
              "#46039f"
             ],
             [
              0.2222222222222222,
              "#7201a8"
             ],
             [
              0.3333333333333333,
              "#9c179e"
             ],
             [
              0.4444444444444444,
              "#bd3786"
             ],
             [
              0.5555555555555556,
              "#d8576b"
             ],
             [
              0.6666666666666666,
              "#ed7953"
             ],
             [
              0.7777777777777778,
              "#fb9f3a"
             ],
             [
              0.8888888888888888,
              "#fdca26"
             ],
             [
              1.0,
              "#f0f921"
             ]
            ]
           }
          ],
          "surface": [
           {
            "type": "surface",
            "colorbar": {
             "outlinewidth": 0,
             "ticks": ""
            },
            "colorscale": [
             [
              0.0,
              "#0d0887"
             ],
             [
              0.1111111111111111,
              "#46039f"
             ],
             [
              0.2222222222222222,
              "#7201a8"
             ],
             [
              0.3333333333333333,
              "#9c179e"
             ],
             [
              0.4444444444444444,
              "#bd3786"
             ],
             [
              0.5555555555555556,
              "#d8576b"
             ],
             [
              0.6666666666666666,
              "#ed7953"
             ],
             [
              0.7777777777777778,
              "#fb9f3a"
             ],
             [
              0.8888888888888888,
              "#fdca26"
             ],
             [
              1.0,
              "#f0f921"
             ]
            ]
           }
          ],
          "mesh3d": [
           {
            "type": "mesh3d",
            "colorbar": {
             "outlinewidth": 0,
             "ticks": ""
            }
           }
          ],
          "scatter": [
           {
            "fillpattern": {
             "fillmode": "overlay",
             "size": 10,
             "solidity": 0.2
            },
            "type": "scatter"
           }
          ],
          "parcoords": [
           {
            "type": "parcoords",
            "line": {
             "colorbar": {
              "outlinewidth": 0,
              "ticks": ""
             }
            }
           }
          ],
          "scatterpolargl": [
           {
            "type": "scatterpolargl",
            "marker": {
             "colorbar": {
              "outlinewidth": 0,
              "ticks": ""
             }
            }
           }
          ],
          "bar": [
           {
            "error_x": {
             "color": "#2a3f5f"
            },
            "error_y": {
             "color": "#2a3f5f"
            },
            "marker": {
             "line": {
              "color": "#E5ECF6",
              "width": 0.5
             },
             "pattern": {
              "fillmode": "overlay",
              "size": 10,
              "solidity": 0.2
             }
            },
            "type": "bar"
           }
          ],
          "scattergeo": [
           {
            "type": "scattergeo",
            "marker": {
             "colorbar": {
              "outlinewidth": 0,
              "ticks": ""
             }
            }
           }
          ],
          "scatterpolar": [
           {
            "type": "scatterpolar",
            "marker": {
             "colorbar": {
              "outlinewidth": 0,
              "ticks": ""
             }
            }
           }
          ],
          "histogram": [
           {
            "marker": {
             "pattern": {
              "fillmode": "overlay",
              "size": 10,
              "solidity": 0.2
             }
            },
            "type": "histogram"
           }
          ],
          "scattergl": [
           {
            "type": "scattergl",
            "marker": {
             "colorbar": {
              "outlinewidth": 0,
              "ticks": ""
             }
            }
           }
          ],
          "scatter3d": [
           {
            "type": "scatter3d",
            "line": {
             "colorbar": {
              "outlinewidth": 0,
              "ticks": ""
             }
            },
            "marker": {
             "colorbar": {
              "outlinewidth": 0,
              "ticks": ""
             }
            }
           }
          ],
          "scattermapbox": [
           {
            "type": "scattermapbox",
            "marker": {
             "colorbar": {
              "outlinewidth": 0,
              "ticks": ""
             }
            }
           }
          ],
          "scatterternary": [
           {
            "type": "scatterternary",
            "marker": {
             "colorbar": {
              "outlinewidth": 0,
              "ticks": ""
             }
            }
           }
          ],
          "scattercarpet": [
           {
            "type": "scattercarpet",
            "marker": {
             "colorbar": {
              "outlinewidth": 0,
              "ticks": ""
             }
            }
           }
          ],
          "carpet": [
           {
            "aaxis": {
             "endlinecolor": "#2a3f5f",
             "gridcolor": "white",
             "linecolor": "white",
             "minorgridcolor": "white",
             "startlinecolor": "#2a3f5f"
            },
            "baxis": {
             "endlinecolor": "#2a3f5f",
             "gridcolor": "white",
             "linecolor": "white",
             "minorgridcolor": "white",
             "startlinecolor": "#2a3f5f"
            },
            "type": "carpet"
           }
          ],
          "table": [
           {
            "cells": {
             "fill": {
              "color": "#EBF0F8"
             },
             "line": {
              "color": "white"
             }
            },
            "header": {
             "fill": {
              "color": "#C8D4E3"
             },
             "line": {
              "color": "white"
             }
            },
            "type": "table"
           }
          ],
          "barpolar": [
           {
            "marker": {
             "line": {
              "color": "#E5ECF6",
              "width": 0.5
             },
             "pattern": {
              "fillmode": "overlay",
              "size": 10,
              "solidity": 0.2
             }
            },
            "type": "barpolar"
           }
          ],
          "pie": [
           {
            "automargin": true,
            "type": "pie"
           }
          ]
         },
         "layout": {
          "autotypenumbers": "strict",
          "colorway": [
           "#636efa",
           "#EF553B",
           "#00cc96",
           "#ab63fa",
           "#FFA15A",
           "#19d3f3",
           "#FF6692",
           "#B6E880",
           "#FF97FF",
           "#FECB52"
          ],
          "font": {
           "color": "#2a3f5f"
          },
          "hovermode": "closest",
          "hoverlabel": {
           "align": "left"
          },
          "paper_bgcolor": "white",
          "plot_bgcolor": "#E5ECF6",
          "polar": {
           "bgcolor": "#E5ECF6",
           "angularaxis": {
            "gridcolor": "white",
            "linecolor": "white",
            "ticks": ""
           },
           "radialaxis": {
            "gridcolor": "white",
            "linecolor": "white",
            "ticks": ""
           }
          },
          "ternary": {
           "bgcolor": "#E5ECF6",
           "aaxis": {
            "gridcolor": "white",
            "linecolor": "white",
            "ticks": ""
           },
           "baxis": {
            "gridcolor": "white",
            "linecolor": "white",
            "ticks": ""
           },
           "caxis": {
            "gridcolor": "white",
            "linecolor": "white",
            "ticks": ""
           }
          },
          "coloraxis": {
           "colorbar": {
            "outlinewidth": 0,
            "ticks": ""
           }
          },
          "colorscale": {
           "sequential": [
            [
             0.0,
             "#0d0887"
            ],
            [
             0.1111111111111111,
             "#46039f"
            ],
            [
             0.2222222222222222,
             "#7201a8"
            ],
            [
             0.3333333333333333,
             "#9c179e"
            ],
            [
             0.4444444444444444,
             "#bd3786"
            ],
            [
             0.5555555555555556,
             "#d8576b"
            ],
            [
             0.6666666666666666,
             "#ed7953"
            ],
            [
             0.7777777777777778,
             "#fb9f3a"
            ],
            [
             0.8888888888888888,
             "#fdca26"
            ],
            [
             1.0,
             "#f0f921"
            ]
           ],
           "sequentialminus": [
            [
             0.0,
             "#0d0887"
            ],
            [
             0.1111111111111111,
             "#46039f"
            ],
            [
             0.2222222222222222,
             "#7201a8"
            ],
            [
             0.3333333333333333,
             "#9c179e"
            ],
            [
             0.4444444444444444,
             "#bd3786"
            ],
            [
             0.5555555555555556,
             "#d8576b"
            ],
            [
             0.6666666666666666,
             "#ed7953"
            ],
            [
             0.7777777777777778,
             "#fb9f3a"
            ],
            [
             0.8888888888888888,
             "#fdca26"
            ],
            [
             1.0,
             "#f0f921"
            ]
           ],
           "diverging": [
            [
             0,
             "#8e0152"
            ],
            [
             0.1,
             "#c51b7d"
            ],
            [
             0.2,
             "#de77ae"
            ],
            [
             0.3,
             "#f1b6da"
            ],
            [
             0.4,
             "#fde0ef"
            ],
            [
             0.5,
             "#f7f7f7"
            ],
            [
             0.6,
             "#e6f5d0"
            ],
            [
             0.7,
             "#b8e186"
            ],
            [
             0.8,
             "#7fbc41"
            ],
            [
             0.9,
             "#4d9221"
            ],
            [
             1,
             "#276419"
            ]
           ]
          },
          "xaxis": {
           "gridcolor": "white",
           "linecolor": "white",
           "ticks": "",
           "title": {
            "standoff": 15
           },
           "zerolinecolor": "white",
           "automargin": true,
           "zerolinewidth": 2
          },
          "yaxis": {
           "gridcolor": "white",
           "linecolor": "white",
           "ticks": "",
           "title": {
            "standoff": 15
           },
           "zerolinecolor": "white",
           "automargin": true,
           "zerolinewidth": 2
          },
          "scene": {
           "xaxis": {
            "backgroundcolor": "#E5ECF6",
            "gridcolor": "white",
            "linecolor": "white",
            "showbackground": true,
            "ticks": "",
            "zerolinecolor": "white",
            "gridwidth": 2
           },
           "yaxis": {
            "backgroundcolor": "#E5ECF6",
            "gridcolor": "white",
            "linecolor": "white",
            "showbackground": true,
            "ticks": "",
            "zerolinecolor": "white",
            "gridwidth": 2
           },
           "zaxis": {
            "backgroundcolor": "#E5ECF6",
            "gridcolor": "white",
            "linecolor": "white",
            "showbackground": true,
            "ticks": "",
            "zerolinecolor": "white",
            "gridwidth": 2
           }
          },
          "shapedefaults": {
           "line": {
            "color": "#2a3f5f"
           }
          },
          "annotationdefaults": {
           "arrowcolor": "#2a3f5f",
           "arrowhead": 0,
           "arrowwidth": 1
          },
          "geo": {
           "bgcolor": "white",
           "landcolor": "#E5ECF6",
           "subunitcolor": "white",
           "showland": true,
           "showlakes": true,
           "lakecolor": "white"
          },
          "title": {
           "x": 0.05
          },
          "mapbox": {
           "style": "light"
          }
         }
        },
        "scene": {
         "domain": {
          "x": [
           0.0,
           1.0
          ],
          "y": [
           0.0,
           1.0
          ]
         },
         "xaxis": {
          "title": {
           "text": "x"
          }
         },
         "yaxis": {
          "title": {
           "text": "y"
          }
         },
         "zaxis": {
          "title": {
           "text": "z"
          }
         }
        },
        "legend": {
         "tracegroupgap": 0
        },
        "margin": {
         "t": 60
        }
       },
       "config": {
        "plotlyServerURL": "https://plot.ly"
       }
      },
      "text/html": [
       "<div>                            <div id=\"e464daba-4fcf-43c7-a8cc-0cef29d82cb2\" class=\"plotly-graph-div\" style=\"height:525px; width:100%;\"></div>            <script type=\"text/javascript\">                require([\"plotly\"], function(Plotly) {                    window.PLOTLYENV=window.PLOTLYENV || {};                                    if (document.getElementById(\"e464daba-4fcf-43c7-a8cc-0cef29d82cb2\")) {                    Plotly.newPlot(                        \"e464daba-4fcf-43c7-a8cc-0cef29d82cb2\",                        [{\"hovertemplate\":\"x=%{x}<br>y=%{y}<br>z=%{z}<extra></extra>\",\"legendgroup\":\"\",\"marker\":{\"color\":\"#636efa\",\"symbol\":\"circle\"},\"mode\":\"markers\",\"name\":\"\",\"scene\":\"scene\",\"showlegend\":false,\"x\":[3.751190324556995,-0.9563716232614747,-0.6011958407097593,0.4536453494058037,0.8249720002377621,3.0505531531544126,3.347169249077403,1.5561973053235798,1.7513018550022936,2.7047710103906883,3.564796056172903,1.0069971132320967,1.5596051241088356,2.729463045515679,2.370587567203131,2.202835313201212,3.976292585071282,-0.4365977346210177,4.066701134489436,1.009672516808783,1.2676929712301765,0.1404348328122378,0.05632607097686737,-0.401984368348109,2.9139406706604216,-2.355265223035235,-0.4099017524790449,3.22641834991001,1.67267480317512,2.6623367900151242,0.5092541856633428,0.43900202498016316,2.335668385145369,-2.253627056439791,3.127436316666972,1.290766289071251,0.12055462614512535,2.9410166630252172,3.4075431388935336,-1.7946632890170484,-0.13604803524909315,-0.03654131856114162,-1.3389292627881195,-0.8447032887410022,1.124527282779919,2.971349508903323,3.7735426716221747,-2.6496627781923108,2.0934012716828834,-1.0701731893131667,1.2931626528890572,-2.1863714307731765,3.413552965820892,0.8889715303002834,3.1519972799886586,-1.2806412354006014,2.3511009735985535,-0.79899290185219,0.6245940255100049,-0.07677261014913483,1.814306998742726,-1.5843161452901993,-1.0843521767508513,3.523043788372859,2.9127493276219987,-1.0962368641713796,0.8208079807310731,-1.0175712066074802,-2.372744727324026,-2.6789043399139087,4.071025413532273,0.9058723992638233,-2.3761330488327497,1.7606066655084192,-0.13033332818456067,0.613157944145287,-2.4673224948314605,0.26797378446620446,3.831492104248314,-0.862459343659232,0.23686208289817623,0.8447114562301024,1.1327213493039094,3.2407794714610025,3.943235871284407,-1.2315885528917607,3.8340151862917393,1.5434701133458155,-2.7206173645538896,-1.1280457323222786,2.9935124232729278,1.0694783495264994,-0.9240122622266278,1.4410279398966388,3.8850884535909858,-0.8851254198031331,0.5972621025488785,-0.8995441299881519,3.292173592348415,-2.2808644414719152],\"y\":[3.9506081588614013,3.434487919667516,-1.634618146254473,1.5406466987469338,-2.1154067575180555,1.4580913776250952,1.5059091750336817,-0.46403446053212205,1.2361781572315156,1.699701778658846,2.786173484554422,0.0916218979432668,-0.29877407845095805,0.1803682482140312,-0.894323563007041,-1.627806112997587,3.900691625301228,-2.2205877039066984,0.0029651727735244826,3.4941042786407177,-2.0998327367756184,0.7944780522019563,-1.3001699323261324,1.7773594954025835,-2.6497053994547044,-1.022881118845687,0.7756612888188705,-1.152078771669192,2.2958626389566446,2.979871986223645,2.1820172401746802,3.093250889987269,-2.117372636716003,3.871118427879848,-1.7619531173631775,-1.4867549296489817,4.171741776204125,-2.258931714155469,-0.13862631636406686,2.0795979178745796,-1.618803082084077,3.2503758177959563,-2.0108458314683504,-2.615284942496967,-2.3930435669240997,2.398695935286396,-0.7229147547398891,2.4003479092327167,0.8288261289636893,3.4345923330392836,4.159246662985855,0.1977305000389027,-0.4588842877763004,0.4814845524894733,-2.254656959648889,0.8276120164240619,-1.360129398953473,1.056864403043237,2.7762005842998727,-1.9980200494791631,3.565140175675295,-1.449130257298383,-1.6139825184009104,0.44316441261837136,3.1427439070341583,2.2448610753971856,1.0461717625701232,0.050845182693100455,0.5366385393533806,2.494232544272741,4.153455635904044,1.3008099595931677,2.004565279640329,0.07936515450019854,-0.1363290547325362,0.6558959230339485,0.7708096757920329,0.1541573696140328,0.5813816928196722,3.0305416562984773,-2.7947451161066996,-0.29586085426859743,-0.1833129159605411,2.062357328103462,2.151661088110979,2.8690950134270947,-0.15797412112256337,-1.9859377449447022,-1.94423837853084,3.4813515756742186,1.420571303450739,2.6629272263216848,2.8526429657385943,2.1920011209330834,3.0948709687864193,-1.0873511967102356,-1.7181524652824347,2.8857551219458566,-0.7283261087462458,-0.07486796283407271],\"z\":[34.17245097271767,13.11868096126879,4.296531101476564,5.806896669516505,7.389666942981362,14.593317484950353,17.534571446408066,3.9251379214141773,7.380712033852865,12.279253044385353,24.574546296950608,3.22127754794079,6.471374945404498,11.656050590836683,7.603096637247782,9.418490205913658,35.72497094764797,5.888168169664242,18.828183801073312,15.873148257532925,8.278127486267362,1.4316410905626857,2.921198853645213,5.399469797396208,17.09437880793797,8.226639764814601,4.872554194177844,12.861480154749986,11.149274850335186,19.890139049415087,7.983821997665313,12.06769107746526,11.859746439007134,21.94885181541381,13.696030805028284,5.143815020677708,20.374777443727744,14.419280447335197,14.077649360195917,9.348338494839108,4.4786141406363935,12.543345955240477,8.965251561037567,10.94548149099097,9.820642463530154,19.177151160012734,17.158951881505082,15.928066677674677,6.851963286931409,13.74490943640843,22.639392264207377,6.429099991763097,14.818624584823777,3.7302149952760066,16.257347591789582,2.241823953101523,11.559560566222135,4.520401469591766,9.80422153720874,5.86947082541783,18.975213214474223,5.317084768159933,7.592355342475463,16.535505959048045,22.10880192721467,8.786826726861298,3.845736227985623,2.995017350867364,9.29425595844804,14.8845601005614,38.458006525618735,5.399953244357593,11.497876832224755,6.1385171517880055,3.4496500748428165,3.0874374246902567,6.848463585072382,3.109882826869325,18.188746769610635,14.410241299017994,8.442203741069854,3.801775367971638,4.299325191273257,18.05485917313435,25.516654299311803,9.999487220941958,17.502432164358037,6.639978957345589,12.02781542752488,15.101381416186962,13.767106049684491,11.05990935886624,11.549341672911263,10.591207063174023,29.307788458868302,4.077156258244681,4.794205829140957,10.521272845621452,14.908608630144338,7.775938996769963],\"type\":\"scatter3d\"}],                        {\"template\":{\"data\":{\"histogram2dcontour\":[{\"type\":\"histogram2dcontour\",\"colorbar\":{\"outlinewidth\":0,\"ticks\":\"\"},\"colorscale\":[[0.0,\"#0d0887\"],[0.1111111111111111,\"#46039f\"],[0.2222222222222222,\"#7201a8\"],[0.3333333333333333,\"#9c179e\"],[0.4444444444444444,\"#bd3786\"],[0.5555555555555556,\"#d8576b\"],[0.6666666666666666,\"#ed7953\"],[0.7777777777777778,\"#fb9f3a\"],[0.8888888888888888,\"#fdca26\"],[1.0,\"#f0f921\"]]}],\"choropleth\":[{\"type\":\"choropleth\",\"colorbar\":{\"outlinewidth\":0,\"ticks\":\"\"}}],\"histogram2d\":[{\"type\":\"histogram2d\",\"colorbar\":{\"outlinewidth\":0,\"ticks\":\"\"},\"colorscale\":[[0.0,\"#0d0887\"],[0.1111111111111111,\"#46039f\"],[0.2222222222222222,\"#7201a8\"],[0.3333333333333333,\"#9c179e\"],[0.4444444444444444,\"#bd3786\"],[0.5555555555555556,\"#d8576b\"],[0.6666666666666666,\"#ed7953\"],[0.7777777777777778,\"#fb9f3a\"],[0.8888888888888888,\"#fdca26\"],[1.0,\"#f0f921\"]]}],\"heatmap\":[{\"type\":\"heatmap\",\"colorbar\":{\"outlinewidth\":0,\"ticks\":\"\"},\"colorscale\":[[0.0,\"#0d0887\"],[0.1111111111111111,\"#46039f\"],[0.2222222222222222,\"#7201a8\"],[0.3333333333333333,\"#9c179e\"],[0.4444444444444444,\"#bd3786\"],[0.5555555555555556,\"#d8576b\"],[0.6666666666666666,\"#ed7953\"],[0.7777777777777778,\"#fb9f3a\"],[0.8888888888888888,\"#fdca26\"],[1.0,\"#f0f921\"]]}],\"heatmapgl\":[{\"type\":\"heatmapgl\",\"colorbar\":{\"outlinewidth\":0,\"ticks\":\"\"},\"colorscale\":[[0.0,\"#0d0887\"],[0.1111111111111111,\"#46039f\"],[0.2222222222222222,\"#7201a8\"],[0.3333333333333333,\"#9c179e\"],[0.4444444444444444,\"#bd3786\"],[0.5555555555555556,\"#d8576b\"],[0.6666666666666666,\"#ed7953\"],[0.7777777777777778,\"#fb9f3a\"],[0.8888888888888888,\"#fdca26\"],[1.0,\"#f0f921\"]]}],\"contourcarpet\":[{\"type\":\"contourcarpet\",\"colorbar\":{\"outlinewidth\":0,\"ticks\":\"\"}}],\"contour\":[{\"type\":\"contour\",\"colorbar\":{\"outlinewidth\":0,\"ticks\":\"\"},\"colorscale\":[[0.0,\"#0d0887\"],[0.1111111111111111,\"#46039f\"],[0.2222222222222222,\"#7201a8\"],[0.3333333333333333,\"#9c179e\"],[0.4444444444444444,\"#bd3786\"],[0.5555555555555556,\"#d8576b\"],[0.6666666666666666,\"#ed7953\"],[0.7777777777777778,\"#fb9f3a\"],[0.8888888888888888,\"#fdca26\"],[1.0,\"#f0f921\"]]}],\"surface\":[{\"type\":\"surface\",\"colorbar\":{\"outlinewidth\":0,\"ticks\":\"\"},\"colorscale\":[[0.0,\"#0d0887\"],[0.1111111111111111,\"#46039f\"],[0.2222222222222222,\"#7201a8\"],[0.3333333333333333,\"#9c179e\"],[0.4444444444444444,\"#bd3786\"],[0.5555555555555556,\"#d8576b\"],[0.6666666666666666,\"#ed7953\"],[0.7777777777777778,\"#fb9f3a\"],[0.8888888888888888,\"#fdca26\"],[1.0,\"#f0f921\"]]}],\"mesh3d\":[{\"type\":\"mesh3d\",\"colorbar\":{\"outlinewidth\":0,\"ticks\":\"\"}}],\"scatter\":[{\"fillpattern\":{\"fillmode\":\"overlay\",\"size\":10,\"solidity\":0.2},\"type\":\"scatter\"}],\"parcoords\":[{\"type\":\"parcoords\",\"line\":{\"colorbar\":{\"outlinewidth\":0,\"ticks\":\"\"}}}],\"scatterpolargl\":[{\"type\":\"scatterpolargl\",\"marker\":{\"colorbar\":{\"outlinewidth\":0,\"ticks\":\"\"}}}],\"bar\":[{\"error_x\":{\"color\":\"#2a3f5f\"},\"error_y\":{\"color\":\"#2a3f5f\"},\"marker\":{\"line\":{\"color\":\"#E5ECF6\",\"width\":0.5},\"pattern\":{\"fillmode\":\"overlay\",\"size\":10,\"solidity\":0.2}},\"type\":\"bar\"}],\"scattergeo\":[{\"type\":\"scattergeo\",\"marker\":{\"colorbar\":{\"outlinewidth\":0,\"ticks\":\"\"}}}],\"scatterpolar\":[{\"type\":\"scatterpolar\",\"marker\":{\"colorbar\":{\"outlinewidth\":0,\"ticks\":\"\"}}}],\"histogram\":[{\"marker\":{\"pattern\":{\"fillmode\":\"overlay\",\"size\":10,\"solidity\":0.2}},\"type\":\"histogram\"}],\"scattergl\":[{\"type\":\"scattergl\",\"marker\":{\"colorbar\":{\"outlinewidth\":0,\"ticks\":\"\"}}}],\"scatter3d\":[{\"type\":\"scatter3d\",\"line\":{\"colorbar\":{\"outlinewidth\":0,\"ticks\":\"\"}},\"marker\":{\"colorbar\":{\"outlinewidth\":0,\"ticks\":\"\"}}}],\"scattermapbox\":[{\"type\":\"scattermapbox\",\"marker\":{\"colorbar\":{\"outlinewidth\":0,\"ticks\":\"\"}}}],\"scatterternary\":[{\"type\":\"scatterternary\",\"marker\":{\"colorbar\":{\"outlinewidth\":0,\"ticks\":\"\"}}}],\"scattercarpet\":[{\"type\":\"scattercarpet\",\"marker\":{\"colorbar\":{\"outlinewidth\":0,\"ticks\":\"\"}}}],\"carpet\":[{\"aaxis\":{\"endlinecolor\":\"#2a3f5f\",\"gridcolor\":\"white\",\"linecolor\":\"white\",\"minorgridcolor\":\"white\",\"startlinecolor\":\"#2a3f5f\"},\"baxis\":{\"endlinecolor\":\"#2a3f5f\",\"gridcolor\":\"white\",\"linecolor\":\"white\",\"minorgridcolor\":\"white\",\"startlinecolor\":\"#2a3f5f\"},\"type\":\"carpet\"}],\"table\":[{\"cells\":{\"fill\":{\"color\":\"#EBF0F8\"},\"line\":{\"color\":\"white\"}},\"header\":{\"fill\":{\"color\":\"#C8D4E3\"},\"line\":{\"color\":\"white\"}},\"type\":\"table\"}],\"barpolar\":[{\"marker\":{\"line\":{\"color\":\"#E5ECF6\",\"width\":0.5},\"pattern\":{\"fillmode\":\"overlay\",\"size\":10,\"solidity\":0.2}},\"type\":\"barpolar\"}],\"pie\":[{\"automargin\":true,\"type\":\"pie\"}]},\"layout\":{\"autotypenumbers\":\"strict\",\"colorway\":[\"#636efa\",\"#EF553B\",\"#00cc96\",\"#ab63fa\",\"#FFA15A\",\"#19d3f3\",\"#FF6692\",\"#B6E880\",\"#FF97FF\",\"#FECB52\"],\"font\":{\"color\":\"#2a3f5f\"},\"hovermode\":\"closest\",\"hoverlabel\":{\"align\":\"left\"},\"paper_bgcolor\":\"white\",\"plot_bgcolor\":\"#E5ECF6\",\"polar\":{\"bgcolor\":\"#E5ECF6\",\"angularaxis\":{\"gridcolor\":\"white\",\"linecolor\":\"white\",\"ticks\":\"\"},\"radialaxis\":{\"gridcolor\":\"white\",\"linecolor\":\"white\",\"ticks\":\"\"}},\"ternary\":{\"bgcolor\":\"#E5ECF6\",\"aaxis\":{\"gridcolor\":\"white\",\"linecolor\":\"white\",\"ticks\":\"\"},\"baxis\":{\"gridcolor\":\"white\",\"linecolor\":\"white\",\"ticks\":\"\"},\"caxis\":{\"gridcolor\":\"white\",\"linecolor\":\"white\",\"ticks\":\"\"}},\"coloraxis\":{\"colorbar\":{\"outlinewidth\":0,\"ticks\":\"\"}},\"colorscale\":{\"sequential\":[[0.0,\"#0d0887\"],[0.1111111111111111,\"#46039f\"],[0.2222222222222222,\"#7201a8\"],[0.3333333333333333,\"#9c179e\"],[0.4444444444444444,\"#bd3786\"],[0.5555555555555556,\"#d8576b\"],[0.6666666666666666,\"#ed7953\"],[0.7777777777777778,\"#fb9f3a\"],[0.8888888888888888,\"#fdca26\"],[1.0,\"#f0f921\"]],\"sequentialminus\":[[0.0,\"#0d0887\"],[0.1111111111111111,\"#46039f\"],[0.2222222222222222,\"#7201a8\"],[0.3333333333333333,\"#9c179e\"],[0.4444444444444444,\"#bd3786\"],[0.5555555555555556,\"#d8576b\"],[0.6666666666666666,\"#ed7953\"],[0.7777777777777778,\"#fb9f3a\"],[0.8888888888888888,\"#fdca26\"],[1.0,\"#f0f921\"]],\"diverging\":[[0,\"#8e0152\"],[0.1,\"#c51b7d\"],[0.2,\"#de77ae\"],[0.3,\"#f1b6da\"],[0.4,\"#fde0ef\"],[0.5,\"#f7f7f7\"],[0.6,\"#e6f5d0\"],[0.7,\"#b8e186\"],[0.8,\"#7fbc41\"],[0.9,\"#4d9221\"],[1,\"#276419\"]]},\"xaxis\":{\"gridcolor\":\"white\",\"linecolor\":\"white\",\"ticks\":\"\",\"title\":{\"standoff\":15},\"zerolinecolor\":\"white\",\"automargin\":true,\"zerolinewidth\":2},\"yaxis\":{\"gridcolor\":\"white\",\"linecolor\":\"white\",\"ticks\":\"\",\"title\":{\"standoff\":15},\"zerolinecolor\":\"white\",\"automargin\":true,\"zerolinewidth\":2},\"scene\":{\"xaxis\":{\"backgroundcolor\":\"#E5ECF6\",\"gridcolor\":\"white\",\"linecolor\":\"white\",\"showbackground\":true,\"ticks\":\"\",\"zerolinecolor\":\"white\",\"gridwidth\":2},\"yaxis\":{\"backgroundcolor\":\"#E5ECF6\",\"gridcolor\":\"white\",\"linecolor\":\"white\",\"showbackground\":true,\"ticks\":\"\",\"zerolinecolor\":\"white\",\"gridwidth\":2},\"zaxis\":{\"backgroundcolor\":\"#E5ECF6\",\"gridcolor\":\"white\",\"linecolor\":\"white\",\"showbackground\":true,\"ticks\":\"\",\"zerolinecolor\":\"white\",\"gridwidth\":2}},\"shapedefaults\":{\"line\":{\"color\":\"#2a3f5f\"}},\"annotationdefaults\":{\"arrowcolor\":\"#2a3f5f\",\"arrowhead\":0,\"arrowwidth\":1},\"geo\":{\"bgcolor\":\"white\",\"landcolor\":\"#E5ECF6\",\"subunitcolor\":\"white\",\"showland\":true,\"showlakes\":true,\"lakecolor\":\"white\"},\"title\":{\"x\":0.05},\"mapbox\":{\"style\":\"light\"}}},\"scene\":{\"domain\":{\"x\":[0.0,1.0],\"y\":[0.0,1.0]},\"xaxis\":{\"title\":{\"text\":\"x\"}},\"yaxis\":{\"title\":{\"text\":\"y\"}},\"zaxis\":{\"title\":{\"text\":\"z\"}}},\"legend\":{\"tracegroupgap\":0},\"margin\":{\"t\":60}},                        {\"responsive\": true}                    ).then(function(){\n",
       "                            \n",
       "var gd = document.getElementById('e464daba-4fcf-43c7-a8cc-0cef29d82cb2');\n",
       "var x = new MutationObserver(function (mutations, observer) {{\n",
       "        var display = window.getComputedStyle(gd).display;\n",
       "        if (!display || display === 'none') {{\n",
       "            console.log([gd, 'removed!']);\n",
       "            Plotly.purge(gd);\n",
       "            observer.disconnect();\n",
       "        }}\n",
       "}});\n",
       "\n",
       "// Listen for the removal of the full notebook cells\n",
       "var notebookContainer = gd.closest('#notebook-container');\n",
       "if (notebookContainer) {{\n",
       "    x.observe(notebookContainer, {childList: true});\n",
       "}}\n",
       "\n",
       "// Listen for the clearing of the current output cell\n",
       "var outputEl = gd.closest('.output');\n",
       "if (outputEl) {{\n",
       "    x.observe(outputEl, {childList: true});\n",
       "}}\n",
       "\n",
       "                        })                };                });            </script>        </div>"
      ]
     },
     "metadata": {},
     "output_type": "display_data"
    }
   ],
   "execution_count": 45
  },
  {
   "metadata": {},
   "cell_type": "markdown",
   "source": "#### Linear Regression",
   "id": "44e00861dd491036"
  },
  {
   "metadata": {
    "ExecuteTime": {
     "end_time": "2024-06-28T10:27:07.168830Z",
     "start_time": "2024-06-28T10:27:07.161692Z"
    }
   },
   "cell_type": "code",
   "source": [
    "lr = LinearRegression()\n",
    "lr.fit(np.array([x,y]).reshape(100,2),z)\n",
    "\n",
    "x_input = np.linspace(x.min(), x.max(), 10)\n",
    "y_input = np.linspace(y.min(), y.max(), 10)\n",
    "xGrid, yGrid = np.meshgrid(x_input,y_input)\n",
    "\n",
    "final = np.vstack((xGrid.ravel().reshape(1,100),yGrid.ravel().reshape(1,100))).T\n",
    "\n",
    "z_final = lr.predict(final).reshape(10,10)\n",
    "\n"
   ],
   "id": "8b6d8eb2ec26a083",
   "outputs": [],
   "execution_count": 46
  },
  {
   "metadata": {
    "ExecuteTime": {
     "end_time": "2024-06-28T10:27:07.210804Z",
     "start_time": "2024-06-28T10:27:07.169831Z"
    }
   },
   "cell_type": "code",
   "source": [
    "import plotly.graph_objects as go\n",
    "\n",
    "fig = px.scatter_3d(df, x=x.ravel(), y=y.ravel(), z=z.ravel())\n",
    "\n",
    "fig.add_trace(go.Surface(x = x_input, y = y_input, z =z_final ))\n",
    "\n",
    "fig.show()"
   ],
   "id": "43bf158482e005c7",
   "outputs": [
    {
     "data": {
      "application/vnd.plotly.v1+json": {
       "data": [
        {
         "hovertemplate": "x=%{x}<br>y=%{y}<br>z=%{z}<extra></extra>",
         "legendgroup": "",
         "marker": {
          "color": "#636efa",
          "symbol": "circle"
         },
         "mode": "markers",
         "name": "",
         "scene": "scene",
         "showlegend": false,
         "x": [
          3.751190324556995,
          -0.9563716232614747,
          -0.6011958407097593,
          0.4536453494058037,
          0.8249720002377621,
          3.0505531531544126,
          3.347169249077403,
          1.5561973053235798,
          1.7513018550022936,
          2.7047710103906883,
          3.564796056172903,
          1.0069971132320967,
          1.5596051241088356,
          2.729463045515679,
          2.370587567203131,
          2.202835313201212,
          3.976292585071282,
          -0.4365977346210177,
          4.066701134489436,
          1.009672516808783,
          1.2676929712301765,
          0.1404348328122378,
          0.05632607097686737,
          -0.401984368348109,
          2.9139406706604216,
          -2.355265223035235,
          -0.4099017524790449,
          3.22641834991001,
          1.67267480317512,
          2.6623367900151242,
          0.5092541856633428,
          0.43900202498016316,
          2.335668385145369,
          -2.253627056439791,
          3.127436316666972,
          1.290766289071251,
          0.12055462614512535,
          2.9410166630252172,
          3.4075431388935336,
          -1.7946632890170484,
          -0.13604803524909315,
          -0.03654131856114162,
          -1.3389292627881195,
          -0.8447032887410022,
          1.124527282779919,
          2.971349508903323,
          3.7735426716221747,
          -2.6496627781923108,
          2.0934012716828834,
          -1.0701731893131667,
          1.2931626528890572,
          -2.1863714307731765,
          3.413552965820892,
          0.8889715303002834,
          3.1519972799886586,
          -1.2806412354006014,
          2.3511009735985535,
          -0.79899290185219,
          0.6245940255100049,
          -0.07677261014913483,
          1.814306998742726,
          -1.5843161452901993,
          -1.0843521767508513,
          3.523043788372859,
          2.9127493276219987,
          -1.0962368641713796,
          0.8208079807310731,
          -1.0175712066074802,
          -2.372744727324026,
          -2.6789043399139087,
          4.071025413532273,
          0.9058723992638233,
          -2.3761330488327497,
          1.7606066655084192,
          -0.13033332818456067,
          0.613157944145287,
          -2.4673224948314605,
          0.26797378446620446,
          3.831492104248314,
          -0.862459343659232,
          0.23686208289817623,
          0.8447114562301024,
          1.1327213493039094,
          3.2407794714610025,
          3.943235871284407,
          -1.2315885528917607,
          3.8340151862917393,
          1.5434701133458155,
          -2.7206173645538896,
          -1.1280457323222786,
          2.9935124232729278,
          1.0694783495264994,
          -0.9240122622266278,
          1.4410279398966388,
          3.8850884535909858,
          -0.8851254198031331,
          0.5972621025488785,
          -0.8995441299881519,
          3.292173592348415,
          -2.2808644414719152
         ],
         "y": [
          3.9506081588614013,
          3.434487919667516,
          -1.634618146254473,
          1.5406466987469338,
          -2.1154067575180555,
          1.4580913776250952,
          1.5059091750336817,
          -0.46403446053212205,
          1.2361781572315156,
          1.699701778658846,
          2.786173484554422,
          0.0916218979432668,
          -0.29877407845095805,
          0.1803682482140312,
          -0.894323563007041,
          -1.627806112997587,
          3.900691625301228,
          -2.2205877039066984,
          0.0029651727735244826,
          3.4941042786407177,
          -2.0998327367756184,
          0.7944780522019563,
          -1.3001699323261324,
          1.7773594954025835,
          -2.6497053994547044,
          -1.022881118845687,
          0.7756612888188705,
          -1.152078771669192,
          2.2958626389566446,
          2.979871986223645,
          2.1820172401746802,
          3.093250889987269,
          -2.117372636716003,
          3.871118427879848,
          -1.7619531173631775,
          -1.4867549296489817,
          4.171741776204125,
          -2.258931714155469,
          -0.13862631636406686,
          2.0795979178745796,
          -1.618803082084077,
          3.2503758177959563,
          -2.0108458314683504,
          -2.615284942496967,
          -2.3930435669240997,
          2.398695935286396,
          -0.7229147547398891,
          2.4003479092327167,
          0.8288261289636893,
          3.4345923330392836,
          4.159246662985855,
          0.1977305000389027,
          -0.4588842877763004,
          0.4814845524894733,
          -2.254656959648889,
          0.8276120164240619,
          -1.360129398953473,
          1.056864403043237,
          2.7762005842998727,
          -1.9980200494791631,
          3.565140175675295,
          -1.449130257298383,
          -1.6139825184009104,
          0.44316441261837136,
          3.1427439070341583,
          2.2448610753971856,
          1.0461717625701232,
          0.050845182693100455,
          0.5366385393533806,
          2.494232544272741,
          4.153455635904044,
          1.3008099595931677,
          2.004565279640329,
          0.07936515450019854,
          -0.1363290547325362,
          0.6558959230339485,
          0.7708096757920329,
          0.1541573696140328,
          0.5813816928196722,
          3.0305416562984773,
          -2.7947451161066996,
          -0.29586085426859743,
          -0.1833129159605411,
          2.062357328103462,
          2.151661088110979,
          2.8690950134270947,
          -0.15797412112256337,
          -1.9859377449447022,
          -1.94423837853084,
          3.4813515756742186,
          1.420571303450739,
          2.6629272263216848,
          2.8526429657385943,
          2.1920011209330834,
          3.0948709687864193,
          -1.0873511967102356,
          -1.7181524652824347,
          2.8857551219458566,
          -0.7283261087462458,
          -0.07486796283407271
         ],
         "z": [
          34.17245097271767,
          13.11868096126879,
          4.296531101476564,
          5.806896669516505,
          7.389666942981362,
          14.593317484950353,
          17.534571446408066,
          3.9251379214141773,
          7.380712033852865,
          12.279253044385353,
          24.574546296950608,
          3.22127754794079,
          6.471374945404498,
          11.656050590836683,
          7.603096637247782,
          9.418490205913658,
          35.72497094764797,
          5.888168169664242,
          18.828183801073312,
          15.873148257532925,
          8.278127486267362,
          1.4316410905626857,
          2.921198853645213,
          5.399469797396208,
          17.09437880793797,
          8.226639764814601,
          4.872554194177844,
          12.861480154749986,
          11.149274850335186,
          19.890139049415087,
          7.983821997665313,
          12.06769107746526,
          11.859746439007134,
          21.94885181541381,
          13.696030805028284,
          5.143815020677708,
          20.374777443727744,
          14.419280447335197,
          14.077649360195917,
          9.348338494839108,
          4.4786141406363935,
          12.543345955240477,
          8.965251561037567,
          10.94548149099097,
          9.820642463530154,
          19.177151160012734,
          17.158951881505082,
          15.928066677674677,
          6.851963286931409,
          13.74490943640843,
          22.639392264207377,
          6.429099991763097,
          14.818624584823777,
          3.7302149952760066,
          16.257347591789582,
          2.241823953101523,
          11.559560566222135,
          4.520401469591766,
          9.80422153720874,
          5.86947082541783,
          18.975213214474223,
          5.317084768159933,
          7.592355342475463,
          16.535505959048045,
          22.10880192721467,
          8.786826726861298,
          3.845736227985623,
          2.995017350867364,
          9.29425595844804,
          14.8845601005614,
          38.458006525618735,
          5.399953244357593,
          11.497876832224755,
          6.1385171517880055,
          3.4496500748428165,
          3.0874374246902567,
          6.848463585072382,
          3.109882826869325,
          18.188746769610635,
          14.410241299017994,
          8.442203741069854,
          3.801775367971638,
          4.299325191273257,
          18.05485917313435,
          25.516654299311803,
          9.999487220941958,
          17.502432164358037,
          6.639978957345589,
          12.02781542752488,
          15.101381416186962,
          13.767106049684491,
          11.05990935886624,
          11.549341672911263,
          10.591207063174023,
          29.307788458868302,
          4.077156258244681,
          4.794205829140957,
          10.521272845621452,
          14.908608630144338,
          7.775938996769963
         ],
         "type": "scatter3d"
        },
        {
         "x": [
          -2.7206173645538896,
          -1.9659903892109827,
          -1.2113634138680758,
          -0.4567364385251689,
          0.297890536817738,
          1.052517512160645,
          1.8071444875035518,
          2.5617714628464587,
          3.3163984381893656,
          4.071025413532273
         ],
         "y": [
          -2.7947451161066996,
          -2.0206910169610524,
          -1.2466369178154053,
          -0.47258281866975826,
          0.301471280475889,
          1.0755253796215363,
          1.849579478767183,
          2.623633577912831,
          3.3976876770584776,
          4.171741776204125
         ],
         "z": [
          [
           11.094950569902965,
           11.049578571401602,
           11.004206572900237,
           10.958834574398873,
           10.913462575897508,
           10.868090577396146,
           10.822718578894781,
           10.777346580393417,
           10.731974581892054,
           10.68660258339069
          ],
          [
           11.262474379593794,
           11.21710238109243,
           11.171730382591067,
           11.126358384089702,
           11.080986385588337,
           11.035614387086975,
           10.99024238858561,
           10.944870390084246,
           10.899498391582883,
           10.854126393081518
          ],
          [
           11.429998189284623,
           11.384626190783258,
           11.339254192281896,
           11.293882193780531,
           11.248510195279167,
           11.203138196777804,
           11.15776619827644,
           11.112394199775075,
           11.06702220127371,
           11.021650202772348
          ],
          [
           11.597521998975452,
           11.552150000474088,
           11.506778001972723,
           11.46140600347136,
           11.416034004969996,
           11.370662006468631,
           11.325290007967268,
           11.279918009465904,
           11.23454601096454,
           11.189174012463177
          ],
          [
           11.765045808666281,
           11.719673810164917,
           11.674301811663552,
           11.62892981316219,
           11.583557814660825,
           11.53818581615946,
           11.492813817658098,
           11.447441819156733,
           11.402069820655369,
           11.356697822154004
          ],
          [
           11.93256961835711,
           11.887197619855746,
           11.841825621354381,
           11.796453622853017,
           11.751081624351654,
           11.70570962585029,
           11.660337627348925,
           11.614965628847562,
           11.569593630346198,
           11.524221631844833
          ],
          [
           12.100093428047938,
           12.054721429546575,
           12.00934943104521,
           11.963977432543846,
           11.918605434042483,
           11.873233435541119,
           11.827861437039754,
           11.782489438538391,
           11.737117440037027,
           11.691745441535662
          ],
          [
           12.267617237738767,
           12.222245239237404,
           12.17687324073604,
           12.131501242234675,
           12.08612924373331,
           12.040757245231948,
           11.995385246730583,
           11.950013248229219,
           11.904641249727856,
           11.859269251226491
          ],
          [
           12.435141047429596,
           12.389769048928231,
           12.344397050426869,
           12.299025051925504,
           12.25365305342414,
           12.208281054922777,
           12.162909056421412,
           12.117537057920048,
           12.072165059418685,
           12.02679306091732
          ],
          [
           12.602664857120425,
           12.55729285861906,
           12.511920860117698,
           12.466548861616333,
           12.421176863114969,
           12.375804864613606,
           12.330432866112242,
           12.285060867610877,
           12.239688869109512,
           12.19431687060815
          ]
         ],
         "type": "surface"
        }
       ],
       "layout": {
        "template": {
         "data": {
          "histogram2dcontour": [
           {
            "type": "histogram2dcontour",
            "colorbar": {
             "outlinewidth": 0,
             "ticks": ""
            },
            "colorscale": [
             [
              0.0,
              "#0d0887"
             ],
             [
              0.1111111111111111,
              "#46039f"
             ],
             [
              0.2222222222222222,
              "#7201a8"
             ],
             [
              0.3333333333333333,
              "#9c179e"
             ],
             [
              0.4444444444444444,
              "#bd3786"
             ],
             [
              0.5555555555555556,
              "#d8576b"
             ],
             [
              0.6666666666666666,
              "#ed7953"
             ],
             [
              0.7777777777777778,
              "#fb9f3a"
             ],
             [
              0.8888888888888888,
              "#fdca26"
             ],
             [
              1.0,
              "#f0f921"
             ]
            ]
           }
          ],
          "choropleth": [
           {
            "type": "choropleth",
            "colorbar": {
             "outlinewidth": 0,
             "ticks": ""
            }
           }
          ],
          "histogram2d": [
           {
            "type": "histogram2d",
            "colorbar": {
             "outlinewidth": 0,
             "ticks": ""
            },
            "colorscale": [
             [
              0.0,
              "#0d0887"
             ],
             [
              0.1111111111111111,
              "#46039f"
             ],
             [
              0.2222222222222222,
              "#7201a8"
             ],
             [
              0.3333333333333333,
              "#9c179e"
             ],
             [
              0.4444444444444444,
              "#bd3786"
             ],
             [
              0.5555555555555556,
              "#d8576b"
             ],
             [
              0.6666666666666666,
              "#ed7953"
             ],
             [
              0.7777777777777778,
              "#fb9f3a"
             ],
             [
              0.8888888888888888,
              "#fdca26"
             ],
             [
              1.0,
              "#f0f921"
             ]
            ]
           }
          ],
          "heatmap": [
           {
            "type": "heatmap",
            "colorbar": {
             "outlinewidth": 0,
             "ticks": ""
            },
            "colorscale": [
             [
              0.0,
              "#0d0887"
             ],
             [
              0.1111111111111111,
              "#46039f"
             ],
             [
              0.2222222222222222,
              "#7201a8"
             ],
             [
              0.3333333333333333,
              "#9c179e"
             ],
             [
              0.4444444444444444,
              "#bd3786"
             ],
             [
              0.5555555555555556,
              "#d8576b"
             ],
             [
              0.6666666666666666,
              "#ed7953"
             ],
             [
              0.7777777777777778,
              "#fb9f3a"
             ],
             [
              0.8888888888888888,
              "#fdca26"
             ],
             [
              1.0,
              "#f0f921"
             ]
            ]
           }
          ],
          "heatmapgl": [
           {
            "type": "heatmapgl",
            "colorbar": {
             "outlinewidth": 0,
             "ticks": ""
            },
            "colorscale": [
             [
              0.0,
              "#0d0887"
             ],
             [
              0.1111111111111111,
              "#46039f"
             ],
             [
              0.2222222222222222,
              "#7201a8"
             ],
             [
              0.3333333333333333,
              "#9c179e"
             ],
             [
              0.4444444444444444,
              "#bd3786"
             ],
             [
              0.5555555555555556,
              "#d8576b"
             ],
             [
              0.6666666666666666,
              "#ed7953"
             ],
             [
              0.7777777777777778,
              "#fb9f3a"
             ],
             [
              0.8888888888888888,
              "#fdca26"
             ],
             [
              1.0,
              "#f0f921"
             ]
            ]
           }
          ],
          "contourcarpet": [
           {
            "type": "contourcarpet",
            "colorbar": {
             "outlinewidth": 0,
             "ticks": ""
            }
           }
          ],
          "contour": [
           {
            "type": "contour",
            "colorbar": {
             "outlinewidth": 0,
             "ticks": ""
            },
            "colorscale": [
             [
              0.0,
              "#0d0887"
             ],
             [
              0.1111111111111111,
              "#46039f"
             ],
             [
              0.2222222222222222,
              "#7201a8"
             ],
             [
              0.3333333333333333,
              "#9c179e"
             ],
             [
              0.4444444444444444,
              "#bd3786"
             ],
             [
              0.5555555555555556,
              "#d8576b"
             ],
             [
              0.6666666666666666,
              "#ed7953"
             ],
             [
              0.7777777777777778,
              "#fb9f3a"
             ],
             [
              0.8888888888888888,
              "#fdca26"
             ],
             [
              1.0,
              "#f0f921"
             ]
            ]
           }
          ],
          "surface": [
           {
            "type": "surface",
            "colorbar": {
             "outlinewidth": 0,
             "ticks": ""
            },
            "colorscale": [
             [
              0.0,
              "#0d0887"
             ],
             [
              0.1111111111111111,
              "#46039f"
             ],
             [
              0.2222222222222222,
              "#7201a8"
             ],
             [
              0.3333333333333333,
              "#9c179e"
             ],
             [
              0.4444444444444444,
              "#bd3786"
             ],
             [
              0.5555555555555556,
              "#d8576b"
             ],
             [
              0.6666666666666666,
              "#ed7953"
             ],
             [
              0.7777777777777778,
              "#fb9f3a"
             ],
             [
              0.8888888888888888,
              "#fdca26"
             ],
             [
              1.0,
              "#f0f921"
             ]
            ]
           }
          ],
          "mesh3d": [
           {
            "type": "mesh3d",
            "colorbar": {
             "outlinewidth": 0,
             "ticks": ""
            }
           }
          ],
          "scatter": [
           {
            "fillpattern": {
             "fillmode": "overlay",
             "size": 10,
             "solidity": 0.2
            },
            "type": "scatter"
           }
          ],
          "parcoords": [
           {
            "type": "parcoords",
            "line": {
             "colorbar": {
              "outlinewidth": 0,
              "ticks": ""
             }
            }
           }
          ],
          "scatterpolargl": [
           {
            "type": "scatterpolargl",
            "marker": {
             "colorbar": {
              "outlinewidth": 0,
              "ticks": ""
             }
            }
           }
          ],
          "bar": [
           {
            "error_x": {
             "color": "#2a3f5f"
            },
            "error_y": {
             "color": "#2a3f5f"
            },
            "marker": {
             "line": {
              "color": "#E5ECF6",
              "width": 0.5
             },
             "pattern": {
              "fillmode": "overlay",
              "size": 10,
              "solidity": 0.2
             }
            },
            "type": "bar"
           }
          ],
          "scattergeo": [
           {
            "type": "scattergeo",
            "marker": {
             "colorbar": {
              "outlinewidth": 0,
              "ticks": ""
             }
            }
           }
          ],
          "scatterpolar": [
           {
            "type": "scatterpolar",
            "marker": {
             "colorbar": {
              "outlinewidth": 0,
              "ticks": ""
             }
            }
           }
          ],
          "histogram": [
           {
            "marker": {
             "pattern": {
              "fillmode": "overlay",
              "size": 10,
              "solidity": 0.2
             }
            },
            "type": "histogram"
           }
          ],
          "scattergl": [
           {
            "type": "scattergl",
            "marker": {
             "colorbar": {
              "outlinewidth": 0,
              "ticks": ""
             }
            }
           }
          ],
          "scatter3d": [
           {
            "type": "scatter3d",
            "line": {
             "colorbar": {
              "outlinewidth": 0,
              "ticks": ""
             }
            },
            "marker": {
             "colorbar": {
              "outlinewidth": 0,
              "ticks": ""
             }
            }
           }
          ],
          "scattermapbox": [
           {
            "type": "scattermapbox",
            "marker": {
             "colorbar": {
              "outlinewidth": 0,
              "ticks": ""
             }
            }
           }
          ],
          "scatterternary": [
           {
            "type": "scatterternary",
            "marker": {
             "colorbar": {
              "outlinewidth": 0,
              "ticks": ""
             }
            }
           }
          ],
          "scattercarpet": [
           {
            "type": "scattercarpet",
            "marker": {
             "colorbar": {
              "outlinewidth": 0,
              "ticks": ""
             }
            }
           }
          ],
          "carpet": [
           {
            "aaxis": {
             "endlinecolor": "#2a3f5f",
             "gridcolor": "white",
             "linecolor": "white",
             "minorgridcolor": "white",
             "startlinecolor": "#2a3f5f"
            },
            "baxis": {
             "endlinecolor": "#2a3f5f",
             "gridcolor": "white",
             "linecolor": "white",
             "minorgridcolor": "white",
             "startlinecolor": "#2a3f5f"
            },
            "type": "carpet"
           }
          ],
          "table": [
           {
            "cells": {
             "fill": {
              "color": "#EBF0F8"
             },
             "line": {
              "color": "white"
             }
            },
            "header": {
             "fill": {
              "color": "#C8D4E3"
             },
             "line": {
              "color": "white"
             }
            },
            "type": "table"
           }
          ],
          "barpolar": [
           {
            "marker": {
             "line": {
              "color": "#E5ECF6",
              "width": 0.5
             },
             "pattern": {
              "fillmode": "overlay",
              "size": 10,
              "solidity": 0.2
             }
            },
            "type": "barpolar"
           }
          ],
          "pie": [
           {
            "automargin": true,
            "type": "pie"
           }
          ]
         },
         "layout": {
          "autotypenumbers": "strict",
          "colorway": [
           "#636efa",
           "#EF553B",
           "#00cc96",
           "#ab63fa",
           "#FFA15A",
           "#19d3f3",
           "#FF6692",
           "#B6E880",
           "#FF97FF",
           "#FECB52"
          ],
          "font": {
           "color": "#2a3f5f"
          },
          "hovermode": "closest",
          "hoverlabel": {
           "align": "left"
          },
          "paper_bgcolor": "white",
          "plot_bgcolor": "#E5ECF6",
          "polar": {
           "bgcolor": "#E5ECF6",
           "angularaxis": {
            "gridcolor": "white",
            "linecolor": "white",
            "ticks": ""
           },
           "radialaxis": {
            "gridcolor": "white",
            "linecolor": "white",
            "ticks": ""
           }
          },
          "ternary": {
           "bgcolor": "#E5ECF6",
           "aaxis": {
            "gridcolor": "white",
            "linecolor": "white",
            "ticks": ""
           },
           "baxis": {
            "gridcolor": "white",
            "linecolor": "white",
            "ticks": ""
           },
           "caxis": {
            "gridcolor": "white",
            "linecolor": "white",
            "ticks": ""
           }
          },
          "coloraxis": {
           "colorbar": {
            "outlinewidth": 0,
            "ticks": ""
           }
          },
          "colorscale": {
           "sequential": [
            [
             0.0,
             "#0d0887"
            ],
            [
             0.1111111111111111,
             "#46039f"
            ],
            [
             0.2222222222222222,
             "#7201a8"
            ],
            [
             0.3333333333333333,
             "#9c179e"
            ],
            [
             0.4444444444444444,
             "#bd3786"
            ],
            [
             0.5555555555555556,
             "#d8576b"
            ],
            [
             0.6666666666666666,
             "#ed7953"
            ],
            [
             0.7777777777777778,
             "#fb9f3a"
            ],
            [
             0.8888888888888888,
             "#fdca26"
            ],
            [
             1.0,
             "#f0f921"
            ]
           ],
           "sequentialminus": [
            [
             0.0,
             "#0d0887"
            ],
            [
             0.1111111111111111,
             "#46039f"
            ],
            [
             0.2222222222222222,
             "#7201a8"
            ],
            [
             0.3333333333333333,
             "#9c179e"
            ],
            [
             0.4444444444444444,
             "#bd3786"
            ],
            [
             0.5555555555555556,
             "#d8576b"
            ],
            [
             0.6666666666666666,
             "#ed7953"
            ],
            [
             0.7777777777777778,
             "#fb9f3a"
            ],
            [
             0.8888888888888888,
             "#fdca26"
            ],
            [
             1.0,
             "#f0f921"
            ]
           ],
           "diverging": [
            [
             0,
             "#8e0152"
            ],
            [
             0.1,
             "#c51b7d"
            ],
            [
             0.2,
             "#de77ae"
            ],
            [
             0.3,
             "#f1b6da"
            ],
            [
             0.4,
             "#fde0ef"
            ],
            [
             0.5,
             "#f7f7f7"
            ],
            [
             0.6,
             "#e6f5d0"
            ],
            [
             0.7,
             "#b8e186"
            ],
            [
             0.8,
             "#7fbc41"
            ],
            [
             0.9,
             "#4d9221"
            ],
            [
             1,
             "#276419"
            ]
           ]
          },
          "xaxis": {
           "gridcolor": "white",
           "linecolor": "white",
           "ticks": "",
           "title": {
            "standoff": 15
           },
           "zerolinecolor": "white",
           "automargin": true,
           "zerolinewidth": 2
          },
          "yaxis": {
           "gridcolor": "white",
           "linecolor": "white",
           "ticks": "",
           "title": {
            "standoff": 15
           },
           "zerolinecolor": "white",
           "automargin": true,
           "zerolinewidth": 2
          },
          "scene": {
           "xaxis": {
            "backgroundcolor": "#E5ECF6",
            "gridcolor": "white",
            "linecolor": "white",
            "showbackground": true,
            "ticks": "",
            "zerolinecolor": "white",
            "gridwidth": 2
           },
           "yaxis": {
            "backgroundcolor": "#E5ECF6",
            "gridcolor": "white",
            "linecolor": "white",
            "showbackground": true,
            "ticks": "",
            "zerolinecolor": "white",
            "gridwidth": 2
           },
           "zaxis": {
            "backgroundcolor": "#E5ECF6",
            "gridcolor": "white",
            "linecolor": "white",
            "showbackground": true,
            "ticks": "",
            "zerolinecolor": "white",
            "gridwidth": 2
           }
          },
          "shapedefaults": {
           "line": {
            "color": "#2a3f5f"
           }
          },
          "annotationdefaults": {
           "arrowcolor": "#2a3f5f",
           "arrowhead": 0,
           "arrowwidth": 1
          },
          "geo": {
           "bgcolor": "white",
           "landcolor": "#E5ECF6",
           "subunitcolor": "white",
           "showland": true,
           "showlakes": true,
           "lakecolor": "white"
          },
          "title": {
           "x": 0.05
          },
          "mapbox": {
           "style": "light"
          }
         }
        },
        "scene": {
         "domain": {
          "x": [
           0.0,
           1.0
          ],
          "y": [
           0.0,
           1.0
          ]
         },
         "xaxis": {
          "title": {
           "text": "x"
          }
         },
         "yaxis": {
          "title": {
           "text": "y"
          }
         },
         "zaxis": {
          "title": {
           "text": "z"
          }
         }
        },
        "legend": {
         "tracegroupgap": 0
        },
        "margin": {
         "t": 60
        }
       },
       "config": {
        "plotlyServerURL": "https://plot.ly"
       }
      },
      "text/html": [
       "<div>                            <div id=\"660920e9-7397-45cb-aa72-0462e36ce7f5\" class=\"plotly-graph-div\" style=\"height:525px; width:100%;\"></div>            <script type=\"text/javascript\">                require([\"plotly\"], function(Plotly) {                    window.PLOTLYENV=window.PLOTLYENV || {};                                    if (document.getElementById(\"660920e9-7397-45cb-aa72-0462e36ce7f5\")) {                    Plotly.newPlot(                        \"660920e9-7397-45cb-aa72-0462e36ce7f5\",                        [{\"hovertemplate\":\"x=%{x}<br>y=%{y}<br>z=%{z}<extra></extra>\",\"legendgroup\":\"\",\"marker\":{\"color\":\"#636efa\",\"symbol\":\"circle\"},\"mode\":\"markers\",\"name\":\"\",\"scene\":\"scene\",\"showlegend\":false,\"x\":[3.751190324556995,-0.9563716232614747,-0.6011958407097593,0.4536453494058037,0.8249720002377621,3.0505531531544126,3.347169249077403,1.5561973053235798,1.7513018550022936,2.7047710103906883,3.564796056172903,1.0069971132320967,1.5596051241088356,2.729463045515679,2.370587567203131,2.202835313201212,3.976292585071282,-0.4365977346210177,4.066701134489436,1.009672516808783,1.2676929712301765,0.1404348328122378,0.05632607097686737,-0.401984368348109,2.9139406706604216,-2.355265223035235,-0.4099017524790449,3.22641834991001,1.67267480317512,2.6623367900151242,0.5092541856633428,0.43900202498016316,2.335668385145369,-2.253627056439791,3.127436316666972,1.290766289071251,0.12055462614512535,2.9410166630252172,3.4075431388935336,-1.7946632890170484,-0.13604803524909315,-0.03654131856114162,-1.3389292627881195,-0.8447032887410022,1.124527282779919,2.971349508903323,3.7735426716221747,-2.6496627781923108,2.0934012716828834,-1.0701731893131667,1.2931626528890572,-2.1863714307731765,3.413552965820892,0.8889715303002834,3.1519972799886586,-1.2806412354006014,2.3511009735985535,-0.79899290185219,0.6245940255100049,-0.07677261014913483,1.814306998742726,-1.5843161452901993,-1.0843521767508513,3.523043788372859,2.9127493276219987,-1.0962368641713796,0.8208079807310731,-1.0175712066074802,-2.372744727324026,-2.6789043399139087,4.071025413532273,0.9058723992638233,-2.3761330488327497,1.7606066655084192,-0.13033332818456067,0.613157944145287,-2.4673224948314605,0.26797378446620446,3.831492104248314,-0.862459343659232,0.23686208289817623,0.8447114562301024,1.1327213493039094,3.2407794714610025,3.943235871284407,-1.2315885528917607,3.8340151862917393,1.5434701133458155,-2.7206173645538896,-1.1280457323222786,2.9935124232729278,1.0694783495264994,-0.9240122622266278,1.4410279398966388,3.8850884535909858,-0.8851254198031331,0.5972621025488785,-0.8995441299881519,3.292173592348415,-2.2808644414719152],\"y\":[3.9506081588614013,3.434487919667516,-1.634618146254473,1.5406466987469338,-2.1154067575180555,1.4580913776250952,1.5059091750336817,-0.46403446053212205,1.2361781572315156,1.699701778658846,2.786173484554422,0.0916218979432668,-0.29877407845095805,0.1803682482140312,-0.894323563007041,-1.627806112997587,3.900691625301228,-2.2205877039066984,0.0029651727735244826,3.4941042786407177,-2.0998327367756184,0.7944780522019563,-1.3001699323261324,1.7773594954025835,-2.6497053994547044,-1.022881118845687,0.7756612888188705,-1.152078771669192,2.2958626389566446,2.979871986223645,2.1820172401746802,3.093250889987269,-2.117372636716003,3.871118427879848,-1.7619531173631775,-1.4867549296489817,4.171741776204125,-2.258931714155469,-0.13862631636406686,2.0795979178745796,-1.618803082084077,3.2503758177959563,-2.0108458314683504,-2.615284942496967,-2.3930435669240997,2.398695935286396,-0.7229147547398891,2.4003479092327167,0.8288261289636893,3.4345923330392836,4.159246662985855,0.1977305000389027,-0.4588842877763004,0.4814845524894733,-2.254656959648889,0.8276120164240619,-1.360129398953473,1.056864403043237,2.7762005842998727,-1.9980200494791631,3.565140175675295,-1.449130257298383,-1.6139825184009104,0.44316441261837136,3.1427439070341583,2.2448610753971856,1.0461717625701232,0.050845182693100455,0.5366385393533806,2.494232544272741,4.153455635904044,1.3008099595931677,2.004565279640329,0.07936515450019854,-0.1363290547325362,0.6558959230339485,0.7708096757920329,0.1541573696140328,0.5813816928196722,3.0305416562984773,-2.7947451161066996,-0.29586085426859743,-0.1833129159605411,2.062357328103462,2.151661088110979,2.8690950134270947,-0.15797412112256337,-1.9859377449447022,-1.94423837853084,3.4813515756742186,1.420571303450739,2.6629272263216848,2.8526429657385943,2.1920011209330834,3.0948709687864193,-1.0873511967102356,-1.7181524652824347,2.8857551219458566,-0.7283261087462458,-0.07486796283407271],\"z\":[34.17245097271767,13.11868096126879,4.296531101476564,5.806896669516505,7.389666942981362,14.593317484950353,17.534571446408066,3.9251379214141773,7.380712033852865,12.279253044385353,24.574546296950608,3.22127754794079,6.471374945404498,11.656050590836683,7.603096637247782,9.418490205913658,35.72497094764797,5.888168169664242,18.828183801073312,15.873148257532925,8.278127486267362,1.4316410905626857,2.921198853645213,5.399469797396208,17.09437880793797,8.226639764814601,4.872554194177844,12.861480154749986,11.149274850335186,19.890139049415087,7.983821997665313,12.06769107746526,11.859746439007134,21.94885181541381,13.696030805028284,5.143815020677708,20.374777443727744,14.419280447335197,14.077649360195917,9.348338494839108,4.4786141406363935,12.543345955240477,8.965251561037567,10.94548149099097,9.820642463530154,19.177151160012734,17.158951881505082,15.928066677674677,6.851963286931409,13.74490943640843,22.639392264207377,6.429099991763097,14.818624584823777,3.7302149952760066,16.257347591789582,2.241823953101523,11.559560566222135,4.520401469591766,9.80422153720874,5.86947082541783,18.975213214474223,5.317084768159933,7.592355342475463,16.535505959048045,22.10880192721467,8.786826726861298,3.845736227985623,2.995017350867364,9.29425595844804,14.8845601005614,38.458006525618735,5.399953244357593,11.497876832224755,6.1385171517880055,3.4496500748428165,3.0874374246902567,6.848463585072382,3.109882826869325,18.188746769610635,14.410241299017994,8.442203741069854,3.801775367971638,4.299325191273257,18.05485917313435,25.516654299311803,9.999487220941958,17.502432164358037,6.639978957345589,12.02781542752488,15.101381416186962,13.767106049684491,11.05990935886624,11.549341672911263,10.591207063174023,29.307788458868302,4.077156258244681,4.794205829140957,10.521272845621452,14.908608630144338,7.775938996769963],\"type\":\"scatter3d\"},{\"x\":[-2.7206173645538896,-1.9659903892109827,-1.2113634138680758,-0.4567364385251689,0.297890536817738,1.052517512160645,1.8071444875035518,2.5617714628464587,3.3163984381893656,4.071025413532273],\"y\":[-2.7947451161066996,-2.0206910169610524,-1.2466369178154053,-0.47258281866975826,0.301471280475889,1.0755253796215363,1.849579478767183,2.623633577912831,3.3976876770584776,4.171741776204125],\"z\":[[11.094950569902965,11.049578571401602,11.004206572900237,10.958834574398873,10.913462575897508,10.868090577396146,10.822718578894781,10.777346580393417,10.731974581892054,10.68660258339069],[11.262474379593794,11.21710238109243,11.171730382591067,11.126358384089702,11.080986385588337,11.035614387086975,10.99024238858561,10.944870390084246,10.899498391582883,10.854126393081518],[11.429998189284623,11.384626190783258,11.339254192281896,11.293882193780531,11.248510195279167,11.203138196777804,11.15776619827644,11.112394199775075,11.06702220127371,11.021650202772348],[11.597521998975452,11.552150000474088,11.506778001972723,11.46140600347136,11.416034004969996,11.370662006468631,11.325290007967268,11.279918009465904,11.23454601096454,11.189174012463177],[11.765045808666281,11.719673810164917,11.674301811663552,11.62892981316219,11.583557814660825,11.53818581615946,11.492813817658098,11.447441819156733,11.402069820655369,11.356697822154004],[11.93256961835711,11.887197619855746,11.841825621354381,11.796453622853017,11.751081624351654,11.70570962585029,11.660337627348925,11.614965628847562,11.569593630346198,11.524221631844833],[12.100093428047938,12.054721429546575,12.00934943104521,11.963977432543846,11.918605434042483,11.873233435541119,11.827861437039754,11.782489438538391,11.737117440037027,11.691745441535662],[12.267617237738767,12.222245239237404,12.17687324073604,12.131501242234675,12.08612924373331,12.040757245231948,11.995385246730583,11.950013248229219,11.904641249727856,11.859269251226491],[12.435141047429596,12.389769048928231,12.344397050426869,12.299025051925504,12.25365305342414,12.208281054922777,12.162909056421412,12.117537057920048,12.072165059418685,12.02679306091732],[12.602664857120425,12.55729285861906,12.511920860117698,12.466548861616333,12.421176863114969,12.375804864613606,12.330432866112242,12.285060867610877,12.239688869109512,12.19431687060815]],\"type\":\"surface\"}],                        {\"template\":{\"data\":{\"histogram2dcontour\":[{\"type\":\"histogram2dcontour\",\"colorbar\":{\"outlinewidth\":0,\"ticks\":\"\"},\"colorscale\":[[0.0,\"#0d0887\"],[0.1111111111111111,\"#46039f\"],[0.2222222222222222,\"#7201a8\"],[0.3333333333333333,\"#9c179e\"],[0.4444444444444444,\"#bd3786\"],[0.5555555555555556,\"#d8576b\"],[0.6666666666666666,\"#ed7953\"],[0.7777777777777778,\"#fb9f3a\"],[0.8888888888888888,\"#fdca26\"],[1.0,\"#f0f921\"]]}],\"choropleth\":[{\"type\":\"choropleth\",\"colorbar\":{\"outlinewidth\":0,\"ticks\":\"\"}}],\"histogram2d\":[{\"type\":\"histogram2d\",\"colorbar\":{\"outlinewidth\":0,\"ticks\":\"\"},\"colorscale\":[[0.0,\"#0d0887\"],[0.1111111111111111,\"#46039f\"],[0.2222222222222222,\"#7201a8\"],[0.3333333333333333,\"#9c179e\"],[0.4444444444444444,\"#bd3786\"],[0.5555555555555556,\"#d8576b\"],[0.6666666666666666,\"#ed7953\"],[0.7777777777777778,\"#fb9f3a\"],[0.8888888888888888,\"#fdca26\"],[1.0,\"#f0f921\"]]}],\"heatmap\":[{\"type\":\"heatmap\",\"colorbar\":{\"outlinewidth\":0,\"ticks\":\"\"},\"colorscale\":[[0.0,\"#0d0887\"],[0.1111111111111111,\"#46039f\"],[0.2222222222222222,\"#7201a8\"],[0.3333333333333333,\"#9c179e\"],[0.4444444444444444,\"#bd3786\"],[0.5555555555555556,\"#d8576b\"],[0.6666666666666666,\"#ed7953\"],[0.7777777777777778,\"#fb9f3a\"],[0.8888888888888888,\"#fdca26\"],[1.0,\"#f0f921\"]]}],\"heatmapgl\":[{\"type\":\"heatmapgl\",\"colorbar\":{\"outlinewidth\":0,\"ticks\":\"\"},\"colorscale\":[[0.0,\"#0d0887\"],[0.1111111111111111,\"#46039f\"],[0.2222222222222222,\"#7201a8\"],[0.3333333333333333,\"#9c179e\"],[0.4444444444444444,\"#bd3786\"],[0.5555555555555556,\"#d8576b\"],[0.6666666666666666,\"#ed7953\"],[0.7777777777777778,\"#fb9f3a\"],[0.8888888888888888,\"#fdca26\"],[1.0,\"#f0f921\"]]}],\"contourcarpet\":[{\"type\":\"contourcarpet\",\"colorbar\":{\"outlinewidth\":0,\"ticks\":\"\"}}],\"contour\":[{\"type\":\"contour\",\"colorbar\":{\"outlinewidth\":0,\"ticks\":\"\"},\"colorscale\":[[0.0,\"#0d0887\"],[0.1111111111111111,\"#46039f\"],[0.2222222222222222,\"#7201a8\"],[0.3333333333333333,\"#9c179e\"],[0.4444444444444444,\"#bd3786\"],[0.5555555555555556,\"#d8576b\"],[0.6666666666666666,\"#ed7953\"],[0.7777777777777778,\"#fb9f3a\"],[0.8888888888888888,\"#fdca26\"],[1.0,\"#f0f921\"]]}],\"surface\":[{\"type\":\"surface\",\"colorbar\":{\"outlinewidth\":0,\"ticks\":\"\"},\"colorscale\":[[0.0,\"#0d0887\"],[0.1111111111111111,\"#46039f\"],[0.2222222222222222,\"#7201a8\"],[0.3333333333333333,\"#9c179e\"],[0.4444444444444444,\"#bd3786\"],[0.5555555555555556,\"#d8576b\"],[0.6666666666666666,\"#ed7953\"],[0.7777777777777778,\"#fb9f3a\"],[0.8888888888888888,\"#fdca26\"],[1.0,\"#f0f921\"]]}],\"mesh3d\":[{\"type\":\"mesh3d\",\"colorbar\":{\"outlinewidth\":0,\"ticks\":\"\"}}],\"scatter\":[{\"fillpattern\":{\"fillmode\":\"overlay\",\"size\":10,\"solidity\":0.2},\"type\":\"scatter\"}],\"parcoords\":[{\"type\":\"parcoords\",\"line\":{\"colorbar\":{\"outlinewidth\":0,\"ticks\":\"\"}}}],\"scatterpolargl\":[{\"type\":\"scatterpolargl\",\"marker\":{\"colorbar\":{\"outlinewidth\":0,\"ticks\":\"\"}}}],\"bar\":[{\"error_x\":{\"color\":\"#2a3f5f\"},\"error_y\":{\"color\":\"#2a3f5f\"},\"marker\":{\"line\":{\"color\":\"#E5ECF6\",\"width\":0.5},\"pattern\":{\"fillmode\":\"overlay\",\"size\":10,\"solidity\":0.2}},\"type\":\"bar\"}],\"scattergeo\":[{\"type\":\"scattergeo\",\"marker\":{\"colorbar\":{\"outlinewidth\":0,\"ticks\":\"\"}}}],\"scatterpolar\":[{\"type\":\"scatterpolar\",\"marker\":{\"colorbar\":{\"outlinewidth\":0,\"ticks\":\"\"}}}],\"histogram\":[{\"marker\":{\"pattern\":{\"fillmode\":\"overlay\",\"size\":10,\"solidity\":0.2}},\"type\":\"histogram\"}],\"scattergl\":[{\"type\":\"scattergl\",\"marker\":{\"colorbar\":{\"outlinewidth\":0,\"ticks\":\"\"}}}],\"scatter3d\":[{\"type\":\"scatter3d\",\"line\":{\"colorbar\":{\"outlinewidth\":0,\"ticks\":\"\"}},\"marker\":{\"colorbar\":{\"outlinewidth\":0,\"ticks\":\"\"}}}],\"scattermapbox\":[{\"type\":\"scattermapbox\",\"marker\":{\"colorbar\":{\"outlinewidth\":0,\"ticks\":\"\"}}}],\"scatterternary\":[{\"type\":\"scatterternary\",\"marker\":{\"colorbar\":{\"outlinewidth\":0,\"ticks\":\"\"}}}],\"scattercarpet\":[{\"type\":\"scattercarpet\",\"marker\":{\"colorbar\":{\"outlinewidth\":0,\"ticks\":\"\"}}}],\"carpet\":[{\"aaxis\":{\"endlinecolor\":\"#2a3f5f\",\"gridcolor\":\"white\",\"linecolor\":\"white\",\"minorgridcolor\":\"white\",\"startlinecolor\":\"#2a3f5f\"},\"baxis\":{\"endlinecolor\":\"#2a3f5f\",\"gridcolor\":\"white\",\"linecolor\":\"white\",\"minorgridcolor\":\"white\",\"startlinecolor\":\"#2a3f5f\"},\"type\":\"carpet\"}],\"table\":[{\"cells\":{\"fill\":{\"color\":\"#EBF0F8\"},\"line\":{\"color\":\"white\"}},\"header\":{\"fill\":{\"color\":\"#C8D4E3\"},\"line\":{\"color\":\"white\"}},\"type\":\"table\"}],\"barpolar\":[{\"marker\":{\"line\":{\"color\":\"#E5ECF6\",\"width\":0.5},\"pattern\":{\"fillmode\":\"overlay\",\"size\":10,\"solidity\":0.2}},\"type\":\"barpolar\"}],\"pie\":[{\"automargin\":true,\"type\":\"pie\"}]},\"layout\":{\"autotypenumbers\":\"strict\",\"colorway\":[\"#636efa\",\"#EF553B\",\"#00cc96\",\"#ab63fa\",\"#FFA15A\",\"#19d3f3\",\"#FF6692\",\"#B6E880\",\"#FF97FF\",\"#FECB52\"],\"font\":{\"color\":\"#2a3f5f\"},\"hovermode\":\"closest\",\"hoverlabel\":{\"align\":\"left\"},\"paper_bgcolor\":\"white\",\"plot_bgcolor\":\"#E5ECF6\",\"polar\":{\"bgcolor\":\"#E5ECF6\",\"angularaxis\":{\"gridcolor\":\"white\",\"linecolor\":\"white\",\"ticks\":\"\"},\"radialaxis\":{\"gridcolor\":\"white\",\"linecolor\":\"white\",\"ticks\":\"\"}},\"ternary\":{\"bgcolor\":\"#E5ECF6\",\"aaxis\":{\"gridcolor\":\"white\",\"linecolor\":\"white\",\"ticks\":\"\"},\"baxis\":{\"gridcolor\":\"white\",\"linecolor\":\"white\",\"ticks\":\"\"},\"caxis\":{\"gridcolor\":\"white\",\"linecolor\":\"white\",\"ticks\":\"\"}},\"coloraxis\":{\"colorbar\":{\"outlinewidth\":0,\"ticks\":\"\"}},\"colorscale\":{\"sequential\":[[0.0,\"#0d0887\"],[0.1111111111111111,\"#46039f\"],[0.2222222222222222,\"#7201a8\"],[0.3333333333333333,\"#9c179e\"],[0.4444444444444444,\"#bd3786\"],[0.5555555555555556,\"#d8576b\"],[0.6666666666666666,\"#ed7953\"],[0.7777777777777778,\"#fb9f3a\"],[0.8888888888888888,\"#fdca26\"],[1.0,\"#f0f921\"]],\"sequentialminus\":[[0.0,\"#0d0887\"],[0.1111111111111111,\"#46039f\"],[0.2222222222222222,\"#7201a8\"],[0.3333333333333333,\"#9c179e\"],[0.4444444444444444,\"#bd3786\"],[0.5555555555555556,\"#d8576b\"],[0.6666666666666666,\"#ed7953\"],[0.7777777777777778,\"#fb9f3a\"],[0.8888888888888888,\"#fdca26\"],[1.0,\"#f0f921\"]],\"diverging\":[[0,\"#8e0152\"],[0.1,\"#c51b7d\"],[0.2,\"#de77ae\"],[0.3,\"#f1b6da\"],[0.4,\"#fde0ef\"],[0.5,\"#f7f7f7\"],[0.6,\"#e6f5d0\"],[0.7,\"#b8e186\"],[0.8,\"#7fbc41\"],[0.9,\"#4d9221\"],[1,\"#276419\"]]},\"xaxis\":{\"gridcolor\":\"white\",\"linecolor\":\"white\",\"ticks\":\"\",\"title\":{\"standoff\":15},\"zerolinecolor\":\"white\",\"automargin\":true,\"zerolinewidth\":2},\"yaxis\":{\"gridcolor\":\"white\",\"linecolor\":\"white\",\"ticks\":\"\",\"title\":{\"standoff\":15},\"zerolinecolor\":\"white\",\"automargin\":true,\"zerolinewidth\":2},\"scene\":{\"xaxis\":{\"backgroundcolor\":\"#E5ECF6\",\"gridcolor\":\"white\",\"linecolor\":\"white\",\"showbackground\":true,\"ticks\":\"\",\"zerolinecolor\":\"white\",\"gridwidth\":2},\"yaxis\":{\"backgroundcolor\":\"#E5ECF6\",\"gridcolor\":\"white\",\"linecolor\":\"white\",\"showbackground\":true,\"ticks\":\"\",\"zerolinecolor\":\"white\",\"gridwidth\":2},\"zaxis\":{\"backgroundcolor\":\"#E5ECF6\",\"gridcolor\":\"white\",\"linecolor\":\"white\",\"showbackground\":true,\"ticks\":\"\",\"zerolinecolor\":\"white\",\"gridwidth\":2}},\"shapedefaults\":{\"line\":{\"color\":\"#2a3f5f\"}},\"annotationdefaults\":{\"arrowcolor\":\"#2a3f5f\",\"arrowhead\":0,\"arrowwidth\":1},\"geo\":{\"bgcolor\":\"white\",\"landcolor\":\"#E5ECF6\",\"subunitcolor\":\"white\",\"showland\":true,\"showlakes\":true,\"lakecolor\":\"white\"},\"title\":{\"x\":0.05},\"mapbox\":{\"style\":\"light\"}}},\"scene\":{\"domain\":{\"x\":[0.0,1.0],\"y\":[0.0,1.0]},\"xaxis\":{\"title\":{\"text\":\"x\"}},\"yaxis\":{\"title\":{\"text\":\"y\"}},\"zaxis\":{\"title\":{\"text\":\"z\"}}},\"legend\":{\"tracegroupgap\":0},\"margin\":{\"t\":60}},                        {\"responsive\": true}                    ).then(function(){\n",
       "                            \n",
       "var gd = document.getElementById('660920e9-7397-45cb-aa72-0462e36ce7f5');\n",
       "var x = new MutationObserver(function (mutations, observer) {{\n",
       "        var display = window.getComputedStyle(gd).display;\n",
       "        if (!display || display === 'none') {{\n",
       "            console.log([gd, 'removed!']);\n",
       "            Plotly.purge(gd);\n",
       "            observer.disconnect();\n",
       "        }}\n",
       "}});\n",
       "\n",
       "// Listen for the removal of the full notebook cells\n",
       "var notebookContainer = gd.closest('#notebook-container');\n",
       "if (notebookContainer) {{\n",
       "    x.observe(notebookContainer, {childList: true});\n",
       "}}\n",
       "\n",
       "// Listen for the clearing of the current output cell\n",
       "var outputEl = gd.closest('.output');\n",
       "if (outputEl) {{\n",
       "    x.observe(outputEl, {childList: true});\n",
       "}}\n",
       "\n",
       "                        })                };                });            </script>        </div>"
      ]
     },
     "metadata": {},
     "output_type": "display_data"
    }
   ],
   "execution_count": 47
  },
  {
   "metadata": {},
   "cell_type": "markdown",
   "source": "#### Applying Polynomial Linear Regression",
   "id": "95bcae649ae4b129"
  },
  {
   "metadata": {
    "ExecuteTime": {
     "end_time": "2024-06-28T10:27:07.217899Z",
     "start_time": "2024-06-28T10:27:07.211811Z"
    }
   },
   "cell_type": "code",
   "source": [
    "X_multi = np.array([x,y]).reshape(100,2)\n",
    "X_multi.shape"
   ],
   "id": "25ca9829d1c7fed4",
   "outputs": [
    {
     "data": {
      "text/plain": [
       "(100, 2)"
      ]
     },
     "execution_count": 48,
     "metadata": {},
     "output_type": "execute_result"
    }
   ],
   "execution_count": 48
  },
  {
   "metadata": {
    "ExecuteTime": {
     "end_time": "2024-06-28T10:31:14.170108Z",
     "start_time": "2024-06-28T10:31:14.165538Z"
    }
   },
   "cell_type": "code",
   "source": [
    "poly = PolynomialFeatures(degree=30)\n",
    "X_multi_trans = poly.fit_transform(X_multi)"
   ],
   "id": "9ccfa0793d04199c",
   "outputs": [],
   "execution_count": 61
  },
  {
   "metadata": {
    "ExecuteTime": {
     "end_time": "2024-06-28T10:31:14.582568Z",
     "start_time": "2024-06-28T10:31:14.560786Z"
    }
   },
   "cell_type": "code",
   "source": [
    "print(\"Input\",poly.n_input_features_)\n",
    "print(\"Ouput\",poly.n_output_features_)\n",
    "print(\"Powers\\n\",poly.powers_)"
   ],
   "id": "ed342cf1337d9010",
   "outputs": [
    {
     "ename": "AttributeError",
     "evalue": "'PolynomialFeatures' object has no attribute 'n_input_features_'",
     "output_type": "error",
     "traceback": [
      "\u001B[1;31m---------------------------------------------------------------------------\u001B[0m",
      "\u001B[1;31mAttributeError\u001B[0m                            Traceback (most recent call last)",
      "Cell \u001B[1;32mIn[62], line 1\u001B[0m\n\u001B[1;32m----> 1\u001B[0m \u001B[38;5;28mprint\u001B[39m(\u001B[38;5;124m\"\u001B[39m\u001B[38;5;124mInput\u001B[39m\u001B[38;5;124m\"\u001B[39m,poly\u001B[38;5;241m.\u001B[39mn_input_features_)\n\u001B[0;32m      2\u001B[0m \u001B[38;5;28mprint\u001B[39m(\u001B[38;5;124m\"\u001B[39m\u001B[38;5;124mOuput\u001B[39m\u001B[38;5;124m\"\u001B[39m,poly\u001B[38;5;241m.\u001B[39mn_output_features_)\n\u001B[0;32m      3\u001B[0m \u001B[38;5;28mprint\u001B[39m(\u001B[38;5;124m\"\u001B[39m\u001B[38;5;124mPowers\u001B[39m\u001B[38;5;130;01m\\n\u001B[39;00m\u001B[38;5;124m\"\u001B[39m,poly\u001B[38;5;241m.\u001B[39mpowers_)\n",
      "\u001B[1;31mAttributeError\u001B[0m: 'PolynomialFeatures' object has no attribute 'n_input_features_'"
     ]
    }
   ],
   "execution_count": 62
  },
  {
   "metadata": {
    "ExecuteTime": {
     "end_time": "2024-06-28T10:31:15.098554Z",
     "start_time": "2024-06-28T10:31:15.088773Z"
    }
   },
   "cell_type": "code",
   "source": [
    "lr = LinearRegression()\n",
    "lr.fit(X_multi_trans,z)"
   ],
   "id": "2f02c43a1f01cf8e",
   "outputs": [
    {
     "data": {
      "text/plain": [
       "LinearRegression()"
      ],
      "text/html": [
       "<style>#sk-container-id-7 {color: black;background-color: white;}#sk-container-id-7 pre{padding: 0;}#sk-container-id-7 div.sk-toggleable {background-color: white;}#sk-container-id-7 label.sk-toggleable__label {cursor: pointer;display: block;width: 100%;margin-bottom: 0;padding: 0.3em;box-sizing: border-box;text-align: center;}#sk-container-id-7 label.sk-toggleable__label-arrow:before {content: \"▸\";float: left;margin-right: 0.25em;color: #696969;}#sk-container-id-7 label.sk-toggleable__label-arrow:hover:before {color: black;}#sk-container-id-7 div.sk-estimator:hover label.sk-toggleable__label-arrow:before {color: black;}#sk-container-id-7 div.sk-toggleable__content {max-height: 0;max-width: 0;overflow: hidden;text-align: left;background-color: #f0f8ff;}#sk-container-id-7 div.sk-toggleable__content pre {margin: 0.2em;color: black;border-radius: 0.25em;background-color: #f0f8ff;}#sk-container-id-7 input.sk-toggleable__control:checked~div.sk-toggleable__content {max-height: 200px;max-width: 100%;overflow: auto;}#sk-container-id-7 input.sk-toggleable__control:checked~label.sk-toggleable__label-arrow:before {content: \"▾\";}#sk-container-id-7 div.sk-estimator input.sk-toggleable__control:checked~label.sk-toggleable__label {background-color: #d4ebff;}#sk-container-id-7 div.sk-label input.sk-toggleable__control:checked~label.sk-toggleable__label {background-color: #d4ebff;}#sk-container-id-7 input.sk-hidden--visually {border: 0;clip: rect(1px 1px 1px 1px);clip: rect(1px, 1px, 1px, 1px);height: 1px;margin: -1px;overflow: hidden;padding: 0;position: absolute;width: 1px;}#sk-container-id-7 div.sk-estimator {font-family: monospace;background-color: #f0f8ff;border: 1px dotted black;border-radius: 0.25em;box-sizing: border-box;margin-bottom: 0.5em;}#sk-container-id-7 div.sk-estimator:hover {background-color: #d4ebff;}#sk-container-id-7 div.sk-parallel-item::after {content: \"\";width: 100%;border-bottom: 1px solid gray;flex-grow: 1;}#sk-container-id-7 div.sk-label:hover label.sk-toggleable__label {background-color: #d4ebff;}#sk-container-id-7 div.sk-serial::before {content: \"\";position: absolute;border-left: 1px solid gray;box-sizing: border-box;top: 0;bottom: 0;left: 50%;z-index: 0;}#sk-container-id-7 div.sk-serial {display: flex;flex-direction: column;align-items: center;background-color: white;padding-right: 0.2em;padding-left: 0.2em;position: relative;}#sk-container-id-7 div.sk-item {position: relative;z-index: 1;}#sk-container-id-7 div.sk-parallel {display: flex;align-items: stretch;justify-content: center;background-color: white;position: relative;}#sk-container-id-7 div.sk-item::before, #sk-container-id-7 div.sk-parallel-item::before {content: \"\";position: absolute;border-left: 1px solid gray;box-sizing: border-box;top: 0;bottom: 0;left: 50%;z-index: -1;}#sk-container-id-7 div.sk-parallel-item {display: flex;flex-direction: column;z-index: 1;position: relative;background-color: white;}#sk-container-id-7 div.sk-parallel-item:first-child::after {align-self: flex-end;width: 50%;}#sk-container-id-7 div.sk-parallel-item:last-child::after {align-self: flex-start;width: 50%;}#sk-container-id-7 div.sk-parallel-item:only-child::after {width: 0;}#sk-container-id-7 div.sk-dashed-wrapped {border: 1px dashed gray;margin: 0 0.4em 0.5em 0.4em;box-sizing: border-box;padding-bottom: 0.4em;background-color: white;}#sk-container-id-7 div.sk-label label {font-family: monospace;font-weight: bold;display: inline-block;line-height: 1.2em;}#sk-container-id-7 div.sk-label-container {text-align: center;}#sk-container-id-7 div.sk-container {/* jupyter's `normalize.less` sets `[hidden] { display: none; }` but bootstrap.min.css set `[hidden] { display: none !important; }` so we also need the `!important` here to be able to override the default hidden behavior on the sphinx rendered scikit-learn.org. See: https://github.com/scikit-learn/scikit-learn/issues/21755 */display: inline-block !important;position: relative;}#sk-container-id-7 div.sk-text-repr-fallback {display: none;}</style><div id=\"sk-container-id-7\" class=\"sk-top-container\"><div class=\"sk-text-repr-fallback\"><pre>LinearRegression()</pre><b>In a Jupyter environment, please rerun this cell to show the HTML representation or trust the notebook. <br />On GitHub, the HTML representation is unable to render, please try loading this page with nbviewer.org.</b></div><div class=\"sk-container\" hidden><div class=\"sk-item\"><div class=\"sk-estimator sk-toggleable\"><input class=\"sk-toggleable__control sk-hidden--visually\" id=\"sk-estimator-id-7\" type=\"checkbox\" checked><label for=\"sk-estimator-id-7\" class=\"sk-toggleable__label sk-toggleable__label-arrow\">LinearRegression</label><div class=\"sk-toggleable__content\"><pre>LinearRegression()</pre></div></div></div></div></div>"
      ]
     },
     "execution_count": 63,
     "metadata": {},
     "output_type": "execute_result"
    }
   ],
   "execution_count": 63
  },
  {
   "metadata": {
    "ExecuteTime": {
     "end_time": "2024-06-28T10:31:15.717953Z",
     "start_time": "2024-06-28T10:31:15.712953Z"
    }
   },
   "cell_type": "code",
   "source": "X_test_multi = poly.transform(final)",
   "id": "5beba8de34531010",
   "outputs": [],
   "execution_count": 64
  },
  {
   "metadata": {
    "ExecuteTime": {
     "end_time": "2024-06-28T10:31:16.181091Z",
     "start_time": "2024-06-28T10:31:16.176443Z"
    }
   },
   "cell_type": "code",
   "source": "z_final = lr.predict(X_multi_trans).reshape(10,10)",
   "id": "2642f38fa6724b9b",
   "outputs": [],
   "execution_count": 65
  },
  {
   "metadata": {
    "ExecuteTime": {
     "end_time": "2024-06-28T10:31:16.728870Z",
     "start_time": "2024-06-28T10:31:16.682319Z"
    }
   },
   "cell_type": "code",
   "source": [
    "fig = px.scatter_3d(x=x.ravel(), y=y.ravel(), z=z.ravel())\n",
    "\n",
    "fig.add_trace(go.Surface(x = x_input, y = y_input, z =z_final))\n",
    "\n",
    "fig.update_layout(scene = dict(zaxis = dict(range=[0,35])))\n",
    "\n",
    "fig.show()"
   ],
   "id": "851aff9df363da52",
   "outputs": [
    {
     "data": {
      "application/vnd.plotly.v1+json": {
       "data": [
        {
         "hovertemplate": "x=%{x}<br>y=%{y}<br>z=%{z}<extra></extra>",
         "legendgroup": "",
         "marker": {
          "color": "#636efa",
          "symbol": "circle"
         },
         "mode": "markers",
         "name": "",
         "scene": "scene",
         "showlegend": false,
         "x": [
          3.751190324556995,
          -0.9563716232614747,
          -0.6011958407097593,
          0.4536453494058037,
          0.8249720002377621,
          3.0505531531544126,
          3.347169249077403,
          1.5561973053235798,
          1.7513018550022936,
          2.7047710103906883,
          3.564796056172903,
          1.0069971132320967,
          1.5596051241088356,
          2.729463045515679,
          2.370587567203131,
          2.202835313201212,
          3.976292585071282,
          -0.4365977346210177,
          4.066701134489436,
          1.009672516808783,
          1.2676929712301765,
          0.1404348328122378,
          0.05632607097686737,
          -0.401984368348109,
          2.9139406706604216,
          -2.355265223035235,
          -0.4099017524790449,
          3.22641834991001,
          1.67267480317512,
          2.6623367900151242,
          0.5092541856633428,
          0.43900202498016316,
          2.335668385145369,
          -2.253627056439791,
          3.127436316666972,
          1.290766289071251,
          0.12055462614512535,
          2.9410166630252172,
          3.4075431388935336,
          -1.7946632890170484,
          -0.13604803524909315,
          -0.03654131856114162,
          -1.3389292627881195,
          -0.8447032887410022,
          1.124527282779919,
          2.971349508903323,
          3.7735426716221747,
          -2.6496627781923108,
          2.0934012716828834,
          -1.0701731893131667,
          1.2931626528890572,
          -2.1863714307731765,
          3.413552965820892,
          0.8889715303002834,
          3.1519972799886586,
          -1.2806412354006014,
          2.3511009735985535,
          -0.79899290185219,
          0.6245940255100049,
          -0.07677261014913483,
          1.814306998742726,
          -1.5843161452901993,
          -1.0843521767508513,
          3.523043788372859,
          2.9127493276219987,
          -1.0962368641713796,
          0.8208079807310731,
          -1.0175712066074802,
          -2.372744727324026,
          -2.6789043399139087,
          4.071025413532273,
          0.9058723992638233,
          -2.3761330488327497,
          1.7606066655084192,
          -0.13033332818456067,
          0.613157944145287,
          -2.4673224948314605,
          0.26797378446620446,
          3.831492104248314,
          -0.862459343659232,
          0.23686208289817623,
          0.8447114562301024,
          1.1327213493039094,
          3.2407794714610025,
          3.943235871284407,
          -1.2315885528917607,
          3.8340151862917393,
          1.5434701133458155,
          -2.7206173645538896,
          -1.1280457323222786,
          2.9935124232729278,
          1.0694783495264994,
          -0.9240122622266278,
          1.4410279398966388,
          3.8850884535909858,
          -0.8851254198031331,
          0.5972621025488785,
          -0.8995441299881519,
          3.292173592348415,
          -2.2808644414719152
         ],
         "y": [
          3.9506081588614013,
          3.434487919667516,
          -1.634618146254473,
          1.5406466987469338,
          -2.1154067575180555,
          1.4580913776250952,
          1.5059091750336817,
          -0.46403446053212205,
          1.2361781572315156,
          1.699701778658846,
          2.786173484554422,
          0.0916218979432668,
          -0.29877407845095805,
          0.1803682482140312,
          -0.894323563007041,
          -1.627806112997587,
          3.900691625301228,
          -2.2205877039066984,
          0.0029651727735244826,
          3.4941042786407177,
          -2.0998327367756184,
          0.7944780522019563,
          -1.3001699323261324,
          1.7773594954025835,
          -2.6497053994547044,
          -1.022881118845687,
          0.7756612888188705,
          -1.152078771669192,
          2.2958626389566446,
          2.979871986223645,
          2.1820172401746802,
          3.093250889987269,
          -2.117372636716003,
          3.871118427879848,
          -1.7619531173631775,
          -1.4867549296489817,
          4.171741776204125,
          -2.258931714155469,
          -0.13862631636406686,
          2.0795979178745796,
          -1.618803082084077,
          3.2503758177959563,
          -2.0108458314683504,
          -2.615284942496967,
          -2.3930435669240997,
          2.398695935286396,
          -0.7229147547398891,
          2.4003479092327167,
          0.8288261289636893,
          3.4345923330392836,
          4.159246662985855,
          0.1977305000389027,
          -0.4588842877763004,
          0.4814845524894733,
          -2.254656959648889,
          0.8276120164240619,
          -1.360129398953473,
          1.056864403043237,
          2.7762005842998727,
          -1.9980200494791631,
          3.565140175675295,
          -1.449130257298383,
          -1.6139825184009104,
          0.44316441261837136,
          3.1427439070341583,
          2.2448610753971856,
          1.0461717625701232,
          0.050845182693100455,
          0.5366385393533806,
          2.494232544272741,
          4.153455635904044,
          1.3008099595931677,
          2.004565279640329,
          0.07936515450019854,
          -0.1363290547325362,
          0.6558959230339485,
          0.7708096757920329,
          0.1541573696140328,
          0.5813816928196722,
          3.0305416562984773,
          -2.7947451161066996,
          -0.29586085426859743,
          -0.1833129159605411,
          2.062357328103462,
          2.151661088110979,
          2.8690950134270947,
          -0.15797412112256337,
          -1.9859377449447022,
          -1.94423837853084,
          3.4813515756742186,
          1.420571303450739,
          2.6629272263216848,
          2.8526429657385943,
          2.1920011209330834,
          3.0948709687864193,
          -1.0873511967102356,
          -1.7181524652824347,
          2.8857551219458566,
          -0.7283261087462458,
          -0.07486796283407271
         ],
         "z": [
          34.17245097271767,
          13.11868096126879,
          4.296531101476564,
          5.806896669516505,
          7.389666942981362,
          14.593317484950353,
          17.534571446408066,
          3.9251379214141773,
          7.380712033852865,
          12.279253044385353,
          24.574546296950608,
          3.22127754794079,
          6.471374945404498,
          11.656050590836683,
          7.603096637247782,
          9.418490205913658,
          35.72497094764797,
          5.888168169664242,
          18.828183801073312,
          15.873148257532925,
          8.278127486267362,
          1.4316410905626857,
          2.921198853645213,
          5.399469797396208,
          17.09437880793797,
          8.226639764814601,
          4.872554194177844,
          12.861480154749986,
          11.149274850335186,
          19.890139049415087,
          7.983821997665313,
          12.06769107746526,
          11.859746439007134,
          21.94885181541381,
          13.696030805028284,
          5.143815020677708,
          20.374777443727744,
          14.419280447335197,
          14.077649360195917,
          9.348338494839108,
          4.4786141406363935,
          12.543345955240477,
          8.965251561037567,
          10.94548149099097,
          9.820642463530154,
          19.177151160012734,
          17.158951881505082,
          15.928066677674677,
          6.851963286931409,
          13.74490943640843,
          22.639392264207377,
          6.429099991763097,
          14.818624584823777,
          3.7302149952760066,
          16.257347591789582,
          2.241823953101523,
          11.559560566222135,
          4.520401469591766,
          9.80422153720874,
          5.86947082541783,
          18.975213214474223,
          5.317084768159933,
          7.592355342475463,
          16.535505959048045,
          22.10880192721467,
          8.786826726861298,
          3.845736227985623,
          2.995017350867364,
          9.29425595844804,
          14.8845601005614,
          38.458006525618735,
          5.399953244357593,
          11.497876832224755,
          6.1385171517880055,
          3.4496500748428165,
          3.0874374246902567,
          6.848463585072382,
          3.109882826869325,
          18.188746769610635,
          14.410241299017994,
          8.442203741069854,
          3.801775367971638,
          4.299325191273257,
          18.05485917313435,
          25.516654299311803,
          9.999487220941958,
          17.502432164358037,
          6.639978957345589,
          12.02781542752488,
          15.101381416186962,
          13.767106049684491,
          11.05990935886624,
          11.549341672911263,
          10.591207063174023,
          29.307788458868302,
          4.077156258244681,
          4.794205829140957,
          10.521272845621452,
          14.908608630144338,
          7.775938996769963
         ],
         "type": "scatter3d"
        },
        {
         "x": [
          -2.7206173645538896,
          -1.9659903892109827,
          -1.2113634138680758,
          -0.4567364385251689,
          0.297890536817738,
          1.052517512160645,
          1.8071444875035518,
          2.5617714628464587,
          3.3163984381893656,
          4.071025413532273
         ],
         "y": [
          -2.7947451161066996,
          -2.0206910169610524,
          -1.2466369178154053,
          -0.47258281866975826,
          0.301471280475889,
          1.0755253796215363,
          1.849579478767183,
          2.623633577912831,
          3.3976876770584776,
          4.171741776204125
         ],
         "z": [
          [
           34.178302640631316,
           12.044789988101506,
           4.298220510199187,
           5.790294522955534,
           7.467115821852801,
           14.62755190820944,
           17.628412472620127,
           3.9484495116169427,
           7.3919562050844405,
           12.22203433008444
          ],
          [
           11.679515786792535,
           12.04515443815322,
           6.4657500931764815,
           11.685357207968352,
           7.652897285833475,
           12.044462030710177,
           35.776938440814135,
           5.644962186529753,
           18.83183145017874,
           15.880807752325651
          ],
          [
           12.04496309049349,
           1.0448834884651212,
           3.0478973338152144,
           5.4134405800844405,
           17.102029679093263,
           8.22594435287219,
           4.862865323736784,
           12.840601200773833,
           11.14887428651609,
           12.044787145592954
          ],
          [
           7.9996545966744605,
           12.080539579107878,
           11.860514635756132,
           12.045900461890138,
           13.715679998114226,
           5.0457647988344405,
           20.40893656348389,
           12.0445944558894,
           14.07610444405627,
           9.35423647852194
          ],
          [
           12.04432861291376,
           12.519576902105925,
           8.961627835943816,
           10.95738589258444,
           9.803693445935366,
           19.075861329748747,
           17.108403081802205,
           15.93065249414694,
           12.045597955053193,
           13.75913607568991
          ],
          [
           22.486530179693816,
           6.43511221423897,
           14.837485968496637,
           4.4319930379558485,
           16.24680490263104,
           2.263555678143618,
           12.044868974313227,
           4.5165083544146825,
           9.80504214258444,
           5.868200177862761
          ],
          [
           18.984281246671614,
           5.321886788320896,
           7.612425298034665,
           12.04322649337776,
           22.091121072485564,
           8.788189763739226,
           3.9219855019594405,
           3.0022451748653083,
           9.01353823633444,
           14.894960586830436
          ],
          [
           38.46157109232199,
           5.3754069158579085,
           11.444716645940659,
           6.145535439555985,
           3.4616278359438155,
           2.9061163613344405,
           12.044743264174267,
           3.1096255396380883,
           19.299733177071026,
           14.43974673242819
          ],
          [
           8.46346556635153,
           3.8133781066135377,
           4.302486295416472,
           12.031698030725774,
           25.509832141525564,
           10.05846011133444,
           17.50713846969147,
           12.04456868906858,
           12.044426316212103,
           15.063635463430998
          ],
          [
           13.79221015663397,
           11.0699913576439,
           11.6722803065325,
           10.599723598302532,
           29.326568479254362,
           4.121870244457838,
           4.836345190718291,
           10.503402347281096,
           14.8592680642153,
           12.044983735541344
          ]
         ],
         "type": "surface"
        }
       ],
       "layout": {
        "template": {
         "data": {
          "histogram2dcontour": [
           {
            "type": "histogram2dcontour",
            "colorbar": {
             "outlinewidth": 0,
             "ticks": ""
            },
            "colorscale": [
             [
              0.0,
              "#0d0887"
             ],
             [
              0.1111111111111111,
              "#46039f"
             ],
             [
              0.2222222222222222,
              "#7201a8"
             ],
             [
              0.3333333333333333,
              "#9c179e"
             ],
             [
              0.4444444444444444,
              "#bd3786"
             ],
             [
              0.5555555555555556,
              "#d8576b"
             ],
             [
              0.6666666666666666,
              "#ed7953"
             ],
             [
              0.7777777777777778,
              "#fb9f3a"
             ],
             [
              0.8888888888888888,
              "#fdca26"
             ],
             [
              1.0,
              "#f0f921"
             ]
            ]
           }
          ],
          "choropleth": [
           {
            "type": "choropleth",
            "colorbar": {
             "outlinewidth": 0,
             "ticks": ""
            }
           }
          ],
          "histogram2d": [
           {
            "type": "histogram2d",
            "colorbar": {
             "outlinewidth": 0,
             "ticks": ""
            },
            "colorscale": [
             [
              0.0,
              "#0d0887"
             ],
             [
              0.1111111111111111,
              "#46039f"
             ],
             [
              0.2222222222222222,
              "#7201a8"
             ],
             [
              0.3333333333333333,
              "#9c179e"
             ],
             [
              0.4444444444444444,
              "#bd3786"
             ],
             [
              0.5555555555555556,
              "#d8576b"
             ],
             [
              0.6666666666666666,
              "#ed7953"
             ],
             [
              0.7777777777777778,
              "#fb9f3a"
             ],
             [
              0.8888888888888888,
              "#fdca26"
             ],
             [
              1.0,
              "#f0f921"
             ]
            ]
           }
          ],
          "heatmap": [
           {
            "type": "heatmap",
            "colorbar": {
             "outlinewidth": 0,
             "ticks": ""
            },
            "colorscale": [
             [
              0.0,
              "#0d0887"
             ],
             [
              0.1111111111111111,
              "#46039f"
             ],
             [
              0.2222222222222222,
              "#7201a8"
             ],
             [
              0.3333333333333333,
              "#9c179e"
             ],
             [
              0.4444444444444444,
              "#bd3786"
             ],
             [
              0.5555555555555556,
              "#d8576b"
             ],
             [
              0.6666666666666666,
              "#ed7953"
             ],
             [
              0.7777777777777778,
              "#fb9f3a"
             ],
             [
              0.8888888888888888,
              "#fdca26"
             ],
             [
              1.0,
              "#f0f921"
             ]
            ]
           }
          ],
          "heatmapgl": [
           {
            "type": "heatmapgl",
            "colorbar": {
             "outlinewidth": 0,
             "ticks": ""
            },
            "colorscale": [
             [
              0.0,
              "#0d0887"
             ],
             [
              0.1111111111111111,
              "#46039f"
             ],
             [
              0.2222222222222222,
              "#7201a8"
             ],
             [
              0.3333333333333333,
              "#9c179e"
             ],
             [
              0.4444444444444444,
              "#bd3786"
             ],
             [
              0.5555555555555556,
              "#d8576b"
             ],
             [
              0.6666666666666666,
              "#ed7953"
             ],
             [
              0.7777777777777778,
              "#fb9f3a"
             ],
             [
              0.8888888888888888,
              "#fdca26"
             ],
             [
              1.0,
              "#f0f921"
             ]
            ]
           }
          ],
          "contourcarpet": [
           {
            "type": "contourcarpet",
            "colorbar": {
             "outlinewidth": 0,
             "ticks": ""
            }
           }
          ],
          "contour": [
           {
            "type": "contour",
            "colorbar": {
             "outlinewidth": 0,
             "ticks": ""
            },
            "colorscale": [
             [
              0.0,
              "#0d0887"
             ],
             [
              0.1111111111111111,
              "#46039f"
             ],
             [
              0.2222222222222222,
              "#7201a8"
             ],
             [
              0.3333333333333333,
              "#9c179e"
             ],
             [
              0.4444444444444444,
              "#bd3786"
             ],
             [
              0.5555555555555556,
              "#d8576b"
             ],
             [
              0.6666666666666666,
              "#ed7953"
             ],
             [
              0.7777777777777778,
              "#fb9f3a"
             ],
             [
              0.8888888888888888,
              "#fdca26"
             ],
             [
              1.0,
              "#f0f921"
             ]
            ]
           }
          ],
          "surface": [
           {
            "type": "surface",
            "colorbar": {
             "outlinewidth": 0,
             "ticks": ""
            },
            "colorscale": [
             [
              0.0,
              "#0d0887"
             ],
             [
              0.1111111111111111,
              "#46039f"
             ],
             [
              0.2222222222222222,
              "#7201a8"
             ],
             [
              0.3333333333333333,
              "#9c179e"
             ],
             [
              0.4444444444444444,
              "#bd3786"
             ],
             [
              0.5555555555555556,
              "#d8576b"
             ],
             [
              0.6666666666666666,
              "#ed7953"
             ],
             [
              0.7777777777777778,
              "#fb9f3a"
             ],
             [
              0.8888888888888888,
              "#fdca26"
             ],
             [
              1.0,
              "#f0f921"
             ]
            ]
           }
          ],
          "mesh3d": [
           {
            "type": "mesh3d",
            "colorbar": {
             "outlinewidth": 0,
             "ticks": ""
            }
           }
          ],
          "scatter": [
           {
            "fillpattern": {
             "fillmode": "overlay",
             "size": 10,
             "solidity": 0.2
            },
            "type": "scatter"
           }
          ],
          "parcoords": [
           {
            "type": "parcoords",
            "line": {
             "colorbar": {
              "outlinewidth": 0,
              "ticks": ""
             }
            }
           }
          ],
          "scatterpolargl": [
           {
            "type": "scatterpolargl",
            "marker": {
             "colorbar": {
              "outlinewidth": 0,
              "ticks": ""
             }
            }
           }
          ],
          "bar": [
           {
            "error_x": {
             "color": "#2a3f5f"
            },
            "error_y": {
             "color": "#2a3f5f"
            },
            "marker": {
             "line": {
              "color": "#E5ECF6",
              "width": 0.5
             },
             "pattern": {
              "fillmode": "overlay",
              "size": 10,
              "solidity": 0.2
             }
            },
            "type": "bar"
           }
          ],
          "scattergeo": [
           {
            "type": "scattergeo",
            "marker": {
             "colorbar": {
              "outlinewidth": 0,
              "ticks": ""
             }
            }
           }
          ],
          "scatterpolar": [
           {
            "type": "scatterpolar",
            "marker": {
             "colorbar": {
              "outlinewidth": 0,
              "ticks": ""
             }
            }
           }
          ],
          "histogram": [
           {
            "marker": {
             "pattern": {
              "fillmode": "overlay",
              "size": 10,
              "solidity": 0.2
             }
            },
            "type": "histogram"
           }
          ],
          "scattergl": [
           {
            "type": "scattergl",
            "marker": {
             "colorbar": {
              "outlinewidth": 0,
              "ticks": ""
             }
            }
           }
          ],
          "scatter3d": [
           {
            "type": "scatter3d",
            "line": {
             "colorbar": {
              "outlinewidth": 0,
              "ticks": ""
             }
            },
            "marker": {
             "colorbar": {
              "outlinewidth": 0,
              "ticks": ""
             }
            }
           }
          ],
          "scattermapbox": [
           {
            "type": "scattermapbox",
            "marker": {
             "colorbar": {
              "outlinewidth": 0,
              "ticks": ""
             }
            }
           }
          ],
          "scatterternary": [
           {
            "type": "scatterternary",
            "marker": {
             "colorbar": {
              "outlinewidth": 0,
              "ticks": ""
             }
            }
           }
          ],
          "scattercarpet": [
           {
            "type": "scattercarpet",
            "marker": {
             "colorbar": {
              "outlinewidth": 0,
              "ticks": ""
             }
            }
           }
          ],
          "carpet": [
           {
            "aaxis": {
             "endlinecolor": "#2a3f5f",
             "gridcolor": "white",
             "linecolor": "white",
             "minorgridcolor": "white",
             "startlinecolor": "#2a3f5f"
            },
            "baxis": {
             "endlinecolor": "#2a3f5f",
             "gridcolor": "white",
             "linecolor": "white",
             "minorgridcolor": "white",
             "startlinecolor": "#2a3f5f"
            },
            "type": "carpet"
           }
          ],
          "table": [
           {
            "cells": {
             "fill": {
              "color": "#EBF0F8"
             },
             "line": {
              "color": "white"
             }
            },
            "header": {
             "fill": {
              "color": "#C8D4E3"
             },
             "line": {
              "color": "white"
             }
            },
            "type": "table"
           }
          ],
          "barpolar": [
           {
            "marker": {
             "line": {
              "color": "#E5ECF6",
              "width": 0.5
             },
             "pattern": {
              "fillmode": "overlay",
              "size": 10,
              "solidity": 0.2
             }
            },
            "type": "barpolar"
           }
          ],
          "pie": [
           {
            "automargin": true,
            "type": "pie"
           }
          ]
         },
         "layout": {
          "autotypenumbers": "strict",
          "colorway": [
           "#636efa",
           "#EF553B",
           "#00cc96",
           "#ab63fa",
           "#FFA15A",
           "#19d3f3",
           "#FF6692",
           "#B6E880",
           "#FF97FF",
           "#FECB52"
          ],
          "font": {
           "color": "#2a3f5f"
          },
          "hovermode": "closest",
          "hoverlabel": {
           "align": "left"
          },
          "paper_bgcolor": "white",
          "plot_bgcolor": "#E5ECF6",
          "polar": {
           "bgcolor": "#E5ECF6",
           "angularaxis": {
            "gridcolor": "white",
            "linecolor": "white",
            "ticks": ""
           },
           "radialaxis": {
            "gridcolor": "white",
            "linecolor": "white",
            "ticks": ""
           }
          },
          "ternary": {
           "bgcolor": "#E5ECF6",
           "aaxis": {
            "gridcolor": "white",
            "linecolor": "white",
            "ticks": ""
           },
           "baxis": {
            "gridcolor": "white",
            "linecolor": "white",
            "ticks": ""
           },
           "caxis": {
            "gridcolor": "white",
            "linecolor": "white",
            "ticks": ""
           }
          },
          "coloraxis": {
           "colorbar": {
            "outlinewidth": 0,
            "ticks": ""
           }
          },
          "colorscale": {
           "sequential": [
            [
             0.0,
             "#0d0887"
            ],
            [
             0.1111111111111111,
             "#46039f"
            ],
            [
             0.2222222222222222,
             "#7201a8"
            ],
            [
             0.3333333333333333,
             "#9c179e"
            ],
            [
             0.4444444444444444,
             "#bd3786"
            ],
            [
             0.5555555555555556,
             "#d8576b"
            ],
            [
             0.6666666666666666,
             "#ed7953"
            ],
            [
             0.7777777777777778,
             "#fb9f3a"
            ],
            [
             0.8888888888888888,
             "#fdca26"
            ],
            [
             1.0,
             "#f0f921"
            ]
           ],
           "sequentialminus": [
            [
             0.0,
             "#0d0887"
            ],
            [
             0.1111111111111111,
             "#46039f"
            ],
            [
             0.2222222222222222,
             "#7201a8"
            ],
            [
             0.3333333333333333,
             "#9c179e"
            ],
            [
             0.4444444444444444,
             "#bd3786"
            ],
            [
             0.5555555555555556,
             "#d8576b"
            ],
            [
             0.6666666666666666,
             "#ed7953"
            ],
            [
             0.7777777777777778,
             "#fb9f3a"
            ],
            [
             0.8888888888888888,
             "#fdca26"
            ],
            [
             1.0,
             "#f0f921"
            ]
           ],
           "diverging": [
            [
             0,
             "#8e0152"
            ],
            [
             0.1,
             "#c51b7d"
            ],
            [
             0.2,
             "#de77ae"
            ],
            [
             0.3,
             "#f1b6da"
            ],
            [
             0.4,
             "#fde0ef"
            ],
            [
             0.5,
             "#f7f7f7"
            ],
            [
             0.6,
             "#e6f5d0"
            ],
            [
             0.7,
             "#b8e186"
            ],
            [
             0.8,
             "#7fbc41"
            ],
            [
             0.9,
             "#4d9221"
            ],
            [
             1,
             "#276419"
            ]
           ]
          },
          "xaxis": {
           "gridcolor": "white",
           "linecolor": "white",
           "ticks": "",
           "title": {
            "standoff": 15
           },
           "zerolinecolor": "white",
           "automargin": true,
           "zerolinewidth": 2
          },
          "yaxis": {
           "gridcolor": "white",
           "linecolor": "white",
           "ticks": "",
           "title": {
            "standoff": 15
           },
           "zerolinecolor": "white",
           "automargin": true,
           "zerolinewidth": 2
          },
          "scene": {
           "xaxis": {
            "backgroundcolor": "#E5ECF6",
            "gridcolor": "white",
            "linecolor": "white",
            "showbackground": true,
            "ticks": "",
            "zerolinecolor": "white",
            "gridwidth": 2
           },
           "yaxis": {
            "backgroundcolor": "#E5ECF6",
            "gridcolor": "white",
            "linecolor": "white",
            "showbackground": true,
            "ticks": "",
            "zerolinecolor": "white",
            "gridwidth": 2
           },
           "zaxis": {
            "backgroundcolor": "#E5ECF6",
            "gridcolor": "white",
            "linecolor": "white",
            "showbackground": true,
            "ticks": "",
            "zerolinecolor": "white",
            "gridwidth": 2
           }
          },
          "shapedefaults": {
           "line": {
            "color": "#2a3f5f"
           }
          },
          "annotationdefaults": {
           "arrowcolor": "#2a3f5f",
           "arrowhead": 0,
           "arrowwidth": 1
          },
          "geo": {
           "bgcolor": "white",
           "landcolor": "#E5ECF6",
           "subunitcolor": "white",
           "showland": true,
           "showlakes": true,
           "lakecolor": "white"
          },
          "title": {
           "x": 0.05
          },
          "mapbox": {
           "style": "light"
          }
         }
        },
        "scene": {
         "domain": {
          "x": [
           0.0,
           1.0
          ],
          "y": [
           0.0,
           1.0
          ]
         },
         "xaxis": {
          "title": {
           "text": "x"
          }
         },
         "yaxis": {
          "title": {
           "text": "y"
          }
         },
         "zaxis": {
          "title": {
           "text": "z"
          },
          "range": [
           0,
           35
          ]
         }
        },
        "legend": {
         "tracegroupgap": 0
        },
        "margin": {
         "t": 60
        }
       },
       "config": {
        "plotlyServerURL": "https://plot.ly"
       }
      },
      "text/html": [
       "<div>                            <div id=\"fe2ab197-2bec-4cfc-90b8-357210989b6c\" class=\"plotly-graph-div\" style=\"height:525px; width:100%;\"></div>            <script type=\"text/javascript\">                require([\"plotly\"], function(Plotly) {                    window.PLOTLYENV=window.PLOTLYENV || {};                                    if (document.getElementById(\"fe2ab197-2bec-4cfc-90b8-357210989b6c\")) {                    Plotly.newPlot(                        \"fe2ab197-2bec-4cfc-90b8-357210989b6c\",                        [{\"hovertemplate\":\"x=%{x}<br>y=%{y}<br>z=%{z}<extra></extra>\",\"legendgroup\":\"\",\"marker\":{\"color\":\"#636efa\",\"symbol\":\"circle\"},\"mode\":\"markers\",\"name\":\"\",\"scene\":\"scene\",\"showlegend\":false,\"x\":[3.751190324556995,-0.9563716232614747,-0.6011958407097593,0.4536453494058037,0.8249720002377621,3.0505531531544126,3.347169249077403,1.5561973053235798,1.7513018550022936,2.7047710103906883,3.564796056172903,1.0069971132320967,1.5596051241088356,2.729463045515679,2.370587567203131,2.202835313201212,3.976292585071282,-0.4365977346210177,4.066701134489436,1.009672516808783,1.2676929712301765,0.1404348328122378,0.05632607097686737,-0.401984368348109,2.9139406706604216,-2.355265223035235,-0.4099017524790449,3.22641834991001,1.67267480317512,2.6623367900151242,0.5092541856633428,0.43900202498016316,2.335668385145369,-2.253627056439791,3.127436316666972,1.290766289071251,0.12055462614512535,2.9410166630252172,3.4075431388935336,-1.7946632890170484,-0.13604803524909315,-0.03654131856114162,-1.3389292627881195,-0.8447032887410022,1.124527282779919,2.971349508903323,3.7735426716221747,-2.6496627781923108,2.0934012716828834,-1.0701731893131667,1.2931626528890572,-2.1863714307731765,3.413552965820892,0.8889715303002834,3.1519972799886586,-1.2806412354006014,2.3511009735985535,-0.79899290185219,0.6245940255100049,-0.07677261014913483,1.814306998742726,-1.5843161452901993,-1.0843521767508513,3.523043788372859,2.9127493276219987,-1.0962368641713796,0.8208079807310731,-1.0175712066074802,-2.372744727324026,-2.6789043399139087,4.071025413532273,0.9058723992638233,-2.3761330488327497,1.7606066655084192,-0.13033332818456067,0.613157944145287,-2.4673224948314605,0.26797378446620446,3.831492104248314,-0.862459343659232,0.23686208289817623,0.8447114562301024,1.1327213493039094,3.2407794714610025,3.943235871284407,-1.2315885528917607,3.8340151862917393,1.5434701133458155,-2.7206173645538896,-1.1280457323222786,2.9935124232729278,1.0694783495264994,-0.9240122622266278,1.4410279398966388,3.8850884535909858,-0.8851254198031331,0.5972621025488785,-0.8995441299881519,3.292173592348415,-2.2808644414719152],\"y\":[3.9506081588614013,3.434487919667516,-1.634618146254473,1.5406466987469338,-2.1154067575180555,1.4580913776250952,1.5059091750336817,-0.46403446053212205,1.2361781572315156,1.699701778658846,2.786173484554422,0.0916218979432668,-0.29877407845095805,0.1803682482140312,-0.894323563007041,-1.627806112997587,3.900691625301228,-2.2205877039066984,0.0029651727735244826,3.4941042786407177,-2.0998327367756184,0.7944780522019563,-1.3001699323261324,1.7773594954025835,-2.6497053994547044,-1.022881118845687,0.7756612888188705,-1.152078771669192,2.2958626389566446,2.979871986223645,2.1820172401746802,3.093250889987269,-2.117372636716003,3.871118427879848,-1.7619531173631775,-1.4867549296489817,4.171741776204125,-2.258931714155469,-0.13862631636406686,2.0795979178745796,-1.618803082084077,3.2503758177959563,-2.0108458314683504,-2.615284942496967,-2.3930435669240997,2.398695935286396,-0.7229147547398891,2.4003479092327167,0.8288261289636893,3.4345923330392836,4.159246662985855,0.1977305000389027,-0.4588842877763004,0.4814845524894733,-2.254656959648889,0.8276120164240619,-1.360129398953473,1.056864403043237,2.7762005842998727,-1.9980200494791631,3.565140175675295,-1.449130257298383,-1.6139825184009104,0.44316441261837136,3.1427439070341583,2.2448610753971856,1.0461717625701232,0.050845182693100455,0.5366385393533806,2.494232544272741,4.153455635904044,1.3008099595931677,2.004565279640329,0.07936515450019854,-0.1363290547325362,0.6558959230339485,0.7708096757920329,0.1541573696140328,0.5813816928196722,3.0305416562984773,-2.7947451161066996,-0.29586085426859743,-0.1833129159605411,2.062357328103462,2.151661088110979,2.8690950134270947,-0.15797412112256337,-1.9859377449447022,-1.94423837853084,3.4813515756742186,1.420571303450739,2.6629272263216848,2.8526429657385943,2.1920011209330834,3.0948709687864193,-1.0873511967102356,-1.7181524652824347,2.8857551219458566,-0.7283261087462458,-0.07486796283407271],\"z\":[34.17245097271767,13.11868096126879,4.296531101476564,5.806896669516505,7.389666942981362,14.593317484950353,17.534571446408066,3.9251379214141773,7.380712033852865,12.279253044385353,24.574546296950608,3.22127754794079,6.471374945404498,11.656050590836683,7.603096637247782,9.418490205913658,35.72497094764797,5.888168169664242,18.828183801073312,15.873148257532925,8.278127486267362,1.4316410905626857,2.921198853645213,5.399469797396208,17.09437880793797,8.226639764814601,4.872554194177844,12.861480154749986,11.149274850335186,19.890139049415087,7.983821997665313,12.06769107746526,11.859746439007134,21.94885181541381,13.696030805028284,5.143815020677708,20.374777443727744,14.419280447335197,14.077649360195917,9.348338494839108,4.4786141406363935,12.543345955240477,8.965251561037567,10.94548149099097,9.820642463530154,19.177151160012734,17.158951881505082,15.928066677674677,6.851963286931409,13.74490943640843,22.639392264207377,6.429099991763097,14.818624584823777,3.7302149952760066,16.257347591789582,2.241823953101523,11.559560566222135,4.520401469591766,9.80422153720874,5.86947082541783,18.975213214474223,5.317084768159933,7.592355342475463,16.535505959048045,22.10880192721467,8.786826726861298,3.845736227985623,2.995017350867364,9.29425595844804,14.8845601005614,38.458006525618735,5.399953244357593,11.497876832224755,6.1385171517880055,3.4496500748428165,3.0874374246902567,6.848463585072382,3.109882826869325,18.188746769610635,14.410241299017994,8.442203741069854,3.801775367971638,4.299325191273257,18.05485917313435,25.516654299311803,9.999487220941958,17.502432164358037,6.639978957345589,12.02781542752488,15.101381416186962,13.767106049684491,11.05990935886624,11.549341672911263,10.591207063174023,29.307788458868302,4.077156258244681,4.794205829140957,10.521272845621452,14.908608630144338,7.775938996769963],\"type\":\"scatter3d\"},{\"x\":[-2.7206173645538896,-1.9659903892109827,-1.2113634138680758,-0.4567364385251689,0.297890536817738,1.052517512160645,1.8071444875035518,2.5617714628464587,3.3163984381893656,4.071025413532273],\"y\":[-2.7947451161066996,-2.0206910169610524,-1.2466369178154053,-0.47258281866975826,0.301471280475889,1.0755253796215363,1.849579478767183,2.623633577912831,3.3976876770584776,4.171741776204125],\"z\":[[34.178302640631316,12.044789988101506,4.298220510199187,5.790294522955534,7.467115821852801,14.62755190820944,17.628412472620127,3.9484495116169427,7.3919562050844405,12.22203433008444],[11.679515786792535,12.04515443815322,6.4657500931764815,11.685357207968352,7.652897285833475,12.044462030710177,35.776938440814135,5.644962186529753,18.83183145017874,15.880807752325651],[12.04496309049349,1.0448834884651212,3.0478973338152144,5.4134405800844405,17.102029679093263,8.22594435287219,4.862865323736784,12.840601200773833,11.14887428651609,12.044787145592954],[7.9996545966744605,12.080539579107878,11.860514635756132,12.045900461890138,13.715679998114226,5.0457647988344405,20.40893656348389,12.0445944558894,14.07610444405627,9.35423647852194],[12.04432861291376,12.519576902105925,8.961627835943816,10.95738589258444,9.803693445935366,19.075861329748747,17.108403081802205,15.93065249414694,12.045597955053193,13.75913607568991],[22.486530179693816,6.43511221423897,14.837485968496637,4.4319930379558485,16.24680490263104,2.263555678143618,12.044868974313227,4.5165083544146825,9.80504214258444,5.868200177862761],[18.984281246671614,5.321886788320896,7.612425298034665,12.04322649337776,22.091121072485564,8.788189763739226,3.9219855019594405,3.0022451748653083,9.01353823633444,14.894960586830436],[38.46157109232199,5.3754069158579085,11.444716645940659,6.145535439555985,3.4616278359438155,2.9061163613344405,12.044743264174267,3.1096255396380883,19.299733177071026,14.43974673242819],[8.46346556635153,3.8133781066135377,4.302486295416472,12.031698030725774,25.509832141525564,10.05846011133444,17.50713846969147,12.04456868906858,12.044426316212103,15.063635463430998],[13.79221015663397,11.0699913576439,11.6722803065325,10.599723598302532,29.326568479254362,4.121870244457838,4.836345190718291,10.503402347281096,14.8592680642153,12.044983735541344]],\"type\":\"surface\"}],                        {\"template\":{\"data\":{\"histogram2dcontour\":[{\"type\":\"histogram2dcontour\",\"colorbar\":{\"outlinewidth\":0,\"ticks\":\"\"},\"colorscale\":[[0.0,\"#0d0887\"],[0.1111111111111111,\"#46039f\"],[0.2222222222222222,\"#7201a8\"],[0.3333333333333333,\"#9c179e\"],[0.4444444444444444,\"#bd3786\"],[0.5555555555555556,\"#d8576b\"],[0.6666666666666666,\"#ed7953\"],[0.7777777777777778,\"#fb9f3a\"],[0.8888888888888888,\"#fdca26\"],[1.0,\"#f0f921\"]]}],\"choropleth\":[{\"type\":\"choropleth\",\"colorbar\":{\"outlinewidth\":0,\"ticks\":\"\"}}],\"histogram2d\":[{\"type\":\"histogram2d\",\"colorbar\":{\"outlinewidth\":0,\"ticks\":\"\"},\"colorscale\":[[0.0,\"#0d0887\"],[0.1111111111111111,\"#46039f\"],[0.2222222222222222,\"#7201a8\"],[0.3333333333333333,\"#9c179e\"],[0.4444444444444444,\"#bd3786\"],[0.5555555555555556,\"#d8576b\"],[0.6666666666666666,\"#ed7953\"],[0.7777777777777778,\"#fb9f3a\"],[0.8888888888888888,\"#fdca26\"],[1.0,\"#f0f921\"]]}],\"heatmap\":[{\"type\":\"heatmap\",\"colorbar\":{\"outlinewidth\":0,\"ticks\":\"\"},\"colorscale\":[[0.0,\"#0d0887\"],[0.1111111111111111,\"#46039f\"],[0.2222222222222222,\"#7201a8\"],[0.3333333333333333,\"#9c179e\"],[0.4444444444444444,\"#bd3786\"],[0.5555555555555556,\"#d8576b\"],[0.6666666666666666,\"#ed7953\"],[0.7777777777777778,\"#fb9f3a\"],[0.8888888888888888,\"#fdca26\"],[1.0,\"#f0f921\"]]}],\"heatmapgl\":[{\"type\":\"heatmapgl\",\"colorbar\":{\"outlinewidth\":0,\"ticks\":\"\"},\"colorscale\":[[0.0,\"#0d0887\"],[0.1111111111111111,\"#46039f\"],[0.2222222222222222,\"#7201a8\"],[0.3333333333333333,\"#9c179e\"],[0.4444444444444444,\"#bd3786\"],[0.5555555555555556,\"#d8576b\"],[0.6666666666666666,\"#ed7953\"],[0.7777777777777778,\"#fb9f3a\"],[0.8888888888888888,\"#fdca26\"],[1.0,\"#f0f921\"]]}],\"contourcarpet\":[{\"type\":\"contourcarpet\",\"colorbar\":{\"outlinewidth\":0,\"ticks\":\"\"}}],\"contour\":[{\"type\":\"contour\",\"colorbar\":{\"outlinewidth\":0,\"ticks\":\"\"},\"colorscale\":[[0.0,\"#0d0887\"],[0.1111111111111111,\"#46039f\"],[0.2222222222222222,\"#7201a8\"],[0.3333333333333333,\"#9c179e\"],[0.4444444444444444,\"#bd3786\"],[0.5555555555555556,\"#d8576b\"],[0.6666666666666666,\"#ed7953\"],[0.7777777777777778,\"#fb9f3a\"],[0.8888888888888888,\"#fdca26\"],[1.0,\"#f0f921\"]]}],\"surface\":[{\"type\":\"surface\",\"colorbar\":{\"outlinewidth\":0,\"ticks\":\"\"},\"colorscale\":[[0.0,\"#0d0887\"],[0.1111111111111111,\"#46039f\"],[0.2222222222222222,\"#7201a8\"],[0.3333333333333333,\"#9c179e\"],[0.4444444444444444,\"#bd3786\"],[0.5555555555555556,\"#d8576b\"],[0.6666666666666666,\"#ed7953\"],[0.7777777777777778,\"#fb9f3a\"],[0.8888888888888888,\"#fdca26\"],[1.0,\"#f0f921\"]]}],\"mesh3d\":[{\"type\":\"mesh3d\",\"colorbar\":{\"outlinewidth\":0,\"ticks\":\"\"}}],\"scatter\":[{\"fillpattern\":{\"fillmode\":\"overlay\",\"size\":10,\"solidity\":0.2},\"type\":\"scatter\"}],\"parcoords\":[{\"type\":\"parcoords\",\"line\":{\"colorbar\":{\"outlinewidth\":0,\"ticks\":\"\"}}}],\"scatterpolargl\":[{\"type\":\"scatterpolargl\",\"marker\":{\"colorbar\":{\"outlinewidth\":0,\"ticks\":\"\"}}}],\"bar\":[{\"error_x\":{\"color\":\"#2a3f5f\"},\"error_y\":{\"color\":\"#2a3f5f\"},\"marker\":{\"line\":{\"color\":\"#E5ECF6\",\"width\":0.5},\"pattern\":{\"fillmode\":\"overlay\",\"size\":10,\"solidity\":0.2}},\"type\":\"bar\"}],\"scattergeo\":[{\"type\":\"scattergeo\",\"marker\":{\"colorbar\":{\"outlinewidth\":0,\"ticks\":\"\"}}}],\"scatterpolar\":[{\"type\":\"scatterpolar\",\"marker\":{\"colorbar\":{\"outlinewidth\":0,\"ticks\":\"\"}}}],\"histogram\":[{\"marker\":{\"pattern\":{\"fillmode\":\"overlay\",\"size\":10,\"solidity\":0.2}},\"type\":\"histogram\"}],\"scattergl\":[{\"type\":\"scattergl\",\"marker\":{\"colorbar\":{\"outlinewidth\":0,\"ticks\":\"\"}}}],\"scatter3d\":[{\"type\":\"scatter3d\",\"line\":{\"colorbar\":{\"outlinewidth\":0,\"ticks\":\"\"}},\"marker\":{\"colorbar\":{\"outlinewidth\":0,\"ticks\":\"\"}}}],\"scattermapbox\":[{\"type\":\"scattermapbox\",\"marker\":{\"colorbar\":{\"outlinewidth\":0,\"ticks\":\"\"}}}],\"scatterternary\":[{\"type\":\"scatterternary\",\"marker\":{\"colorbar\":{\"outlinewidth\":0,\"ticks\":\"\"}}}],\"scattercarpet\":[{\"type\":\"scattercarpet\",\"marker\":{\"colorbar\":{\"outlinewidth\":0,\"ticks\":\"\"}}}],\"carpet\":[{\"aaxis\":{\"endlinecolor\":\"#2a3f5f\",\"gridcolor\":\"white\",\"linecolor\":\"white\",\"minorgridcolor\":\"white\",\"startlinecolor\":\"#2a3f5f\"},\"baxis\":{\"endlinecolor\":\"#2a3f5f\",\"gridcolor\":\"white\",\"linecolor\":\"white\",\"minorgridcolor\":\"white\",\"startlinecolor\":\"#2a3f5f\"},\"type\":\"carpet\"}],\"table\":[{\"cells\":{\"fill\":{\"color\":\"#EBF0F8\"},\"line\":{\"color\":\"white\"}},\"header\":{\"fill\":{\"color\":\"#C8D4E3\"},\"line\":{\"color\":\"white\"}},\"type\":\"table\"}],\"barpolar\":[{\"marker\":{\"line\":{\"color\":\"#E5ECF6\",\"width\":0.5},\"pattern\":{\"fillmode\":\"overlay\",\"size\":10,\"solidity\":0.2}},\"type\":\"barpolar\"}],\"pie\":[{\"automargin\":true,\"type\":\"pie\"}]},\"layout\":{\"autotypenumbers\":\"strict\",\"colorway\":[\"#636efa\",\"#EF553B\",\"#00cc96\",\"#ab63fa\",\"#FFA15A\",\"#19d3f3\",\"#FF6692\",\"#B6E880\",\"#FF97FF\",\"#FECB52\"],\"font\":{\"color\":\"#2a3f5f\"},\"hovermode\":\"closest\",\"hoverlabel\":{\"align\":\"left\"},\"paper_bgcolor\":\"white\",\"plot_bgcolor\":\"#E5ECF6\",\"polar\":{\"bgcolor\":\"#E5ECF6\",\"angularaxis\":{\"gridcolor\":\"white\",\"linecolor\":\"white\",\"ticks\":\"\"},\"radialaxis\":{\"gridcolor\":\"white\",\"linecolor\":\"white\",\"ticks\":\"\"}},\"ternary\":{\"bgcolor\":\"#E5ECF6\",\"aaxis\":{\"gridcolor\":\"white\",\"linecolor\":\"white\",\"ticks\":\"\"},\"baxis\":{\"gridcolor\":\"white\",\"linecolor\":\"white\",\"ticks\":\"\"},\"caxis\":{\"gridcolor\":\"white\",\"linecolor\":\"white\",\"ticks\":\"\"}},\"coloraxis\":{\"colorbar\":{\"outlinewidth\":0,\"ticks\":\"\"}},\"colorscale\":{\"sequential\":[[0.0,\"#0d0887\"],[0.1111111111111111,\"#46039f\"],[0.2222222222222222,\"#7201a8\"],[0.3333333333333333,\"#9c179e\"],[0.4444444444444444,\"#bd3786\"],[0.5555555555555556,\"#d8576b\"],[0.6666666666666666,\"#ed7953\"],[0.7777777777777778,\"#fb9f3a\"],[0.8888888888888888,\"#fdca26\"],[1.0,\"#f0f921\"]],\"sequentialminus\":[[0.0,\"#0d0887\"],[0.1111111111111111,\"#46039f\"],[0.2222222222222222,\"#7201a8\"],[0.3333333333333333,\"#9c179e\"],[0.4444444444444444,\"#bd3786\"],[0.5555555555555556,\"#d8576b\"],[0.6666666666666666,\"#ed7953\"],[0.7777777777777778,\"#fb9f3a\"],[0.8888888888888888,\"#fdca26\"],[1.0,\"#f0f921\"]],\"diverging\":[[0,\"#8e0152\"],[0.1,\"#c51b7d\"],[0.2,\"#de77ae\"],[0.3,\"#f1b6da\"],[0.4,\"#fde0ef\"],[0.5,\"#f7f7f7\"],[0.6,\"#e6f5d0\"],[0.7,\"#b8e186\"],[0.8,\"#7fbc41\"],[0.9,\"#4d9221\"],[1,\"#276419\"]]},\"xaxis\":{\"gridcolor\":\"white\",\"linecolor\":\"white\",\"ticks\":\"\",\"title\":{\"standoff\":15},\"zerolinecolor\":\"white\",\"automargin\":true,\"zerolinewidth\":2},\"yaxis\":{\"gridcolor\":\"white\",\"linecolor\":\"white\",\"ticks\":\"\",\"title\":{\"standoff\":15},\"zerolinecolor\":\"white\",\"automargin\":true,\"zerolinewidth\":2},\"scene\":{\"xaxis\":{\"backgroundcolor\":\"#E5ECF6\",\"gridcolor\":\"white\",\"linecolor\":\"white\",\"showbackground\":true,\"ticks\":\"\",\"zerolinecolor\":\"white\",\"gridwidth\":2},\"yaxis\":{\"backgroundcolor\":\"#E5ECF6\",\"gridcolor\":\"white\",\"linecolor\":\"white\",\"showbackground\":true,\"ticks\":\"\",\"zerolinecolor\":\"white\",\"gridwidth\":2},\"zaxis\":{\"backgroundcolor\":\"#E5ECF6\",\"gridcolor\":\"white\",\"linecolor\":\"white\",\"showbackground\":true,\"ticks\":\"\",\"zerolinecolor\":\"white\",\"gridwidth\":2}},\"shapedefaults\":{\"line\":{\"color\":\"#2a3f5f\"}},\"annotationdefaults\":{\"arrowcolor\":\"#2a3f5f\",\"arrowhead\":0,\"arrowwidth\":1},\"geo\":{\"bgcolor\":\"white\",\"landcolor\":\"#E5ECF6\",\"subunitcolor\":\"white\",\"showland\":true,\"showlakes\":true,\"lakecolor\":\"white\"},\"title\":{\"x\":0.05},\"mapbox\":{\"style\":\"light\"}}},\"scene\":{\"domain\":{\"x\":[0.0,1.0],\"y\":[0.0,1.0]},\"xaxis\":{\"title\":{\"text\":\"x\"}},\"yaxis\":{\"title\":{\"text\":\"y\"}},\"zaxis\":{\"title\":{\"text\":\"z\"},\"range\":[0,35]}},\"legend\":{\"tracegroupgap\":0},\"margin\":{\"t\":60}},                        {\"responsive\": true}                    ).then(function(){\n",
       "                            \n",
       "var gd = document.getElementById('fe2ab197-2bec-4cfc-90b8-357210989b6c');\n",
       "var x = new MutationObserver(function (mutations, observer) {{\n",
       "        var display = window.getComputedStyle(gd).display;\n",
       "        if (!display || display === 'none') {{\n",
       "            console.log([gd, 'removed!']);\n",
       "            Plotly.purge(gd);\n",
       "            observer.disconnect();\n",
       "        }}\n",
       "}});\n",
       "\n",
       "// Listen for the removal of the full notebook cells\n",
       "var notebookContainer = gd.closest('#notebook-container');\n",
       "if (notebookContainer) {{\n",
       "    x.observe(notebookContainer, {childList: true});\n",
       "}}\n",
       "\n",
       "// Listen for the clearing of the current output cell\n",
       "var outputEl = gd.closest('.output');\n",
       "if (outputEl) {{\n",
       "    x.observe(outputEl, {childList: true});\n",
       "}}\n",
       "\n",
       "                        })                };                });            </script>        </div>"
      ]
     },
     "metadata": {},
     "output_type": "display_data"
    }
   ],
   "execution_count": 66
  },
  {
   "metadata": {},
   "cell_type": "code",
   "outputs": [],
   "execution_count": null,
   "source": "",
   "id": "c8d30e46b93f0bb6"
  }
 ],
 "metadata": {
  "kernelspec": {
   "display_name": "Python 3",
   "language": "python",
   "name": "python3"
  },
  "language_info": {
   "codemirror_mode": {
    "name": "ipython",
    "version": 2
   },
   "file_extension": ".py",
   "mimetype": "text/x-python",
   "name": "python",
   "nbconvert_exporter": "python",
   "pygments_lexer": "ipython2",
   "version": "2.7.6"
  }
 },
 "nbformat": 4,
 "nbformat_minor": 5
}
