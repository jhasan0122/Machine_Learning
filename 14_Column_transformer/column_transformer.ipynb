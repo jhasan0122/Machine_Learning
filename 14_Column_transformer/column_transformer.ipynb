{
 "cells": [
  {
   "cell_type": "code",
   "id": "initial_id",
   "metadata": {
    "collapsed": true,
    "ExecuteTime": {
     "end_time": "2024-06-18T16:44:45.524516Z",
     "start_time": "2024-06-18T16:44:45.521561Z"
    }
   },
   "source": [
    "import numpy as np\n",
    "import pandas as pd"
   ],
   "outputs": [],
   "execution_count": 35
  },
  {
   "metadata": {
    "ExecuteTime": {
     "end_time": "2024-06-18T16:44:48.093961Z",
     "start_time": "2024-06-18T16:44:48.090530Z"
    }
   },
   "cell_type": "code",
   "source": [
    "from sklearn.impute import SimpleImputer\n",
    "from sklearn.preprocessing import OneHotEncoder\n",
    "from sklearn.preprocessing import OrdinalEncoder"
   ],
   "id": "96cbee5925441dbd",
   "outputs": [],
   "execution_count": 36
  },
  {
   "metadata": {
    "ExecuteTime": {
     "end_time": "2024-06-18T16:44:50.440014Z",
     "start_time": "2024-06-18T16:44:50.435219Z"
    }
   },
   "cell_type": "code",
   "source": "df = pd.read_csv('covid_toy.csv')",
   "id": "132ef9282cc87049",
   "outputs": [],
   "execution_count": 37
  },
  {
   "metadata": {
    "ExecuteTime": {
     "end_time": "2024-06-18T16:44:52.555633Z",
     "start_time": "2024-06-18T16:44:52.547889Z"
    }
   },
   "cell_type": "code",
   "source": "df.head()",
   "id": "5123f391e3239d1c",
   "outputs": [
    {
     "data": {
      "text/plain": [
       "   age  gender  fever cough     city has_covid\n",
       "0   60    Male  103.0  Mild  Kolkata        No\n",
       "1   27    Male  100.0  Mild    Delhi       Yes\n",
       "2   42    Male  101.0  Mild    Delhi        No\n",
       "3   31  Female   98.0  Mild  Kolkata        No\n",
       "4   65  Female  101.0  Mild   Mumbai        No"
      ],
      "text/html": [
       "<div>\n",
       "<style scoped>\n",
       "    .dataframe tbody tr th:only-of-type {\n",
       "        vertical-align: middle;\n",
       "    }\n",
       "\n",
       "    .dataframe tbody tr th {\n",
       "        vertical-align: top;\n",
       "    }\n",
       "\n",
       "    .dataframe thead th {\n",
       "        text-align: right;\n",
       "    }\n",
       "</style>\n",
       "<table border=\"1\" class=\"dataframe\">\n",
       "  <thead>\n",
       "    <tr style=\"text-align: right;\">\n",
       "      <th></th>\n",
       "      <th>age</th>\n",
       "      <th>gender</th>\n",
       "      <th>fever</th>\n",
       "      <th>cough</th>\n",
       "      <th>city</th>\n",
       "      <th>has_covid</th>\n",
       "    </tr>\n",
       "  </thead>\n",
       "  <tbody>\n",
       "    <tr>\n",
       "      <th>0</th>\n",
       "      <td>60</td>\n",
       "      <td>Male</td>\n",
       "      <td>103.0</td>\n",
       "      <td>Mild</td>\n",
       "      <td>Kolkata</td>\n",
       "      <td>No</td>\n",
       "    </tr>\n",
       "    <tr>\n",
       "      <th>1</th>\n",
       "      <td>27</td>\n",
       "      <td>Male</td>\n",
       "      <td>100.0</td>\n",
       "      <td>Mild</td>\n",
       "      <td>Delhi</td>\n",
       "      <td>Yes</td>\n",
       "    </tr>\n",
       "    <tr>\n",
       "      <th>2</th>\n",
       "      <td>42</td>\n",
       "      <td>Male</td>\n",
       "      <td>101.0</td>\n",
       "      <td>Mild</td>\n",
       "      <td>Delhi</td>\n",
       "      <td>No</td>\n",
       "    </tr>\n",
       "    <tr>\n",
       "      <th>3</th>\n",
       "      <td>31</td>\n",
       "      <td>Female</td>\n",
       "      <td>98.0</td>\n",
       "      <td>Mild</td>\n",
       "      <td>Kolkata</td>\n",
       "      <td>No</td>\n",
       "    </tr>\n",
       "    <tr>\n",
       "      <th>4</th>\n",
       "      <td>65</td>\n",
       "      <td>Female</td>\n",
       "      <td>101.0</td>\n",
       "      <td>Mild</td>\n",
       "      <td>Mumbai</td>\n",
       "      <td>No</td>\n",
       "    </tr>\n",
       "  </tbody>\n",
       "</table>\n",
       "</div>"
      ]
     },
     "execution_count": 38,
     "metadata": {},
     "output_type": "execute_result"
    }
   ],
   "execution_count": 38
  },
  {
   "metadata": {},
   "cell_type": "code",
   "source": "df['cough'].value_counts()",
   "id": "3d3c19df4b9e7b39",
   "outputs": [],
   "execution_count": null
  },
  {
   "metadata": {},
   "cell_type": "code",
   "source": "df.isnull().sum()",
   "id": "160d8c900d8f4f80",
   "outputs": [],
   "execution_count": null
  },
  {
   "metadata": {},
   "cell_type": "code",
   "source": [
    "from sklearn.model_selection import train_test_split\n",
    "X_train, X_test, y_train, y_test = train_test_split(df.drop(columns=['has_covid']),df['has_covid'],test_size=0.2)"
   ],
   "id": "8acee64bb04e9091",
   "outputs": [],
   "execution_count": null
  },
  {
   "metadata": {},
   "cell_type": "code",
   "source": "X_train",
   "id": "ae4b78e0f4a220c6",
   "outputs": [],
   "execution_count": null
  },
  {
   "metadata": {},
   "cell_type": "markdown",
   "source": "# 1. Without column transform",
   "id": "44f6f3d711b822d8"
  },
  {
   "metadata": {},
   "cell_type": "markdown",
   "source": "### adding simple imputer -> (fever)",
   "id": "eae425a128940d1d"
  },
  {
   "metadata": {},
   "cell_type": "code",
   "source": [
    "si = SimpleImputer()\n",
    "X_train_fever = si.fit_transform(X_train[['fever']])\n",
    "\n",
    "X_test_fever = si.fit_transform(X_test[['fever']])\n",
    "X_train_fever.shape"
   ],
   "id": "eaf211410d77686a",
   "outputs": [],
   "execution_count": null
  },
  {
   "metadata": {},
   "cell_type": "markdown",
   "source": "### OrdinalCoding -> (cough)",
   "id": "d2ccb2e583d0d3c6"
  },
  {
   "metadata": {},
   "cell_type": "code",
   "source": [
    "oe = OrdinalEncoder(categories=[['Mild','Strong']])\n",
    "X_train_cough = oe.fit_transform(X_train[['cough']])\n",
    "\n",
    "X_test_cough = oe.fit_transform(X_test[['cough']])\n",
    "X_train_cough.shape"
   ],
   "id": "6933bc58cc00b200",
   "outputs": [],
   "execution_count": null
  },
  {
   "metadata": {},
   "cell_type": "markdown",
   "source": "### OneHotEncoding -> (gender,city)",
   "id": "7f40d64b84bf1a6c"
  },
  {
   "metadata": {},
   "cell_type": "code",
   "source": [
    "ohe = OneHotEncoder(drop='first',sparse=False)\n",
    "X_train_gender_city = ohe.fit_transform(X_train[['gender','city']])\n",
    "\n",
    "X_test_gender_city = ohe.fit_transform(X_test[['gender','city']])\n",
    "\n",
    "X_train_gender_city.shape"
   ],
   "id": "e032659a952a9440",
   "outputs": [],
   "execution_count": null
  },
  {
   "metadata": {},
   "cell_type": "markdown",
   "source": "### Extract Age",
   "id": "e3fdd0f9307650a5"
  },
  {
   "metadata": {},
   "cell_type": "code",
   "source": [
    "X_train_age = X_train.drop(columns=['gender','fever','cough','city']).values\n",
    "X_test_age = X_test.drop(columns=['gender','fever','cough','city']).values\n",
    "X_train_age.shape"
   ],
   "id": "5f274193fe8a6485",
   "outputs": [],
   "execution_count": null
  },
  {
   "metadata": {},
   "cell_type": "markdown",
   "source": "### concatenate",
   "id": "9202e5bc8a65a17e"
  },
  {
   "metadata": {},
   "cell_type": "code",
   "source": [
    "X_train_transformed = np.concatenate((X_train_age,X_train_fever,X_train_gender_city,X_train_cough),axis=1)\n",
    "X_test_transformed = np.concatenate((X_test_age,X_test_fever,X_test_gender_city,X_test_cough),axis=1)\n",
    "X_train_transformed.shape"
   ],
   "id": "37a36f2c1791b67f",
   "outputs": [],
   "execution_count": null
  },
  {
   "metadata": {},
   "cell_type": "markdown",
   "source": "# Column transform",
   "id": "24420cfa91e2ecf6"
  },
  {
   "metadata": {
    "ExecuteTime": {
     "end_time": "2024-06-18T16:44:59.048647Z",
     "start_time": "2024-06-18T16:44:59.045947Z"
    }
   },
   "cell_type": "code",
   "source": "from sklearn.compose import ColumnTransformer",
   "id": "484a865c6d42c90e",
   "outputs": [],
   "execution_count": 39
  },
  {
   "metadata": {
    "ExecuteTime": {
     "end_time": "2024-06-18T16:44:59.774818Z",
     "start_time": "2024-06-18T16:44:59.771114Z"
    }
   },
   "cell_type": "code",
   "source": [
    "transformer = ColumnTransformer(transformers=[\n",
    "    ('tnf1',SimpleImputer(),['fever']),\n",
    "    ('tnf2',OrdinalEncoder(categories=[['Mild','Strong']]),['cough']),\n",
    "    ('tnf3',OneHotEncoder(sparse=False,drop='first'),['gender','city'])\n",
    "],remainder='passthrough')"
   ],
   "id": "2c30ce9c2303c9e8",
   "outputs": [],
   "execution_count": 40
  },
  {
   "metadata": {
    "ExecuteTime": {
     "end_time": "2024-06-18T16:45:01.012725Z",
     "start_time": "2024-06-18T16:45:01.001727Z"
    }
   },
   "cell_type": "code",
   "source": "transformer.fit_transform(X_train).shape",
   "id": "819449efd06c7882",
   "outputs": [
    {
     "name": "stderr",
     "output_type": "stream",
     "text": [
      "C:\\Users\\HP TECHNOLOGY\\anaconda3\\Lib\\site-packages\\sklearn\\preprocessing\\_encoders.py:868: FutureWarning: `sparse` was renamed to `sparse_output` in version 1.2 and will be removed in 1.4. `sparse_output` is ignored unless you leave `sparse` to its default value.\n",
      "  warnings.warn(\n"
     ]
    },
    {
     "data": {
      "text/plain": [
       "(80, 7)"
      ]
     },
     "execution_count": 41,
     "metadata": {},
     "output_type": "execute_result"
    }
   ],
   "execution_count": 41
  },
  {
   "metadata": {
    "ExecuteTime": {
     "end_time": "2024-06-18T16:45:02.129820Z",
     "start_time": "2024-06-18T16:45:02.121691Z"
    }
   },
   "cell_type": "code",
   "source": "transformer.transform(X_test).shape",
   "id": "f4e54821b2a4cf1e",
   "outputs": [
    {
     "data": {
      "text/plain": [
       "(20, 7)"
      ]
     },
     "execution_count": 42,
     "metadata": {},
     "output_type": "execute_result"
    }
   ],
   "execution_count": 42
  },
  {
   "metadata": {},
   "cell_type": "code",
   "source": "",
   "id": "cad14578621c65c0",
   "outputs": [],
   "execution_count": null
  }
 ],
 "metadata": {
  "kernelspec": {
   "display_name": "Python 3",
   "language": "python",
   "name": "python3"
  },
  "language_info": {
   "codemirror_mode": {
    "name": "ipython",
    "version": 2
   },
   "file_extension": ".py",
   "mimetype": "text/x-python",
   "name": "python",
   "nbconvert_exporter": "python",
   "pygments_lexer": "ipython2",
   "version": "2.7.6"
  }
 },
 "nbformat": 4,
 "nbformat_minor": 5
}
