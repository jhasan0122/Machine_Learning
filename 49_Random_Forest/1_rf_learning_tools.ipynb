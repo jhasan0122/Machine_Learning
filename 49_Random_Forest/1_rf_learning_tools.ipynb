{
 "cells": [
  {
   "cell_type": "code",
   "id": "initial_id",
   "metadata": {
    "collapsed": true,
    "ExecuteTime": {
     "end_time": "2024-09-09T03:41:04.523522Z",
     "start_time": "2024-09-09T03:41:04.520368Z"
    }
   },
   "source": [
    "import numpy as np\n",
    "import pandas as pd\n",
    "from sklearn.datasets import make_classification"
   ],
   "outputs": [],
   "execution_count": 140
  },
  {
   "metadata": {
    "ExecuteTime": {
     "end_time": "2024-09-09T03:41:04.686238Z",
     "start_time": "2024-09-09T03:41:04.682662Z"
    }
   },
   "cell_type": "code",
   "source": "X,y = make_classification(n_features=5, n_redundant=0, n_informative=5,n_clusters_per_class=1)",
   "id": "820c917b649302a4",
   "outputs": [],
   "execution_count": 141
  },
  {
   "metadata": {
    "ExecuteTime": {
     "end_time": "2024-09-09T03:41:04.718910Z",
     "start_time": "2024-09-09T03:41:04.708281Z"
    }
   },
   "cell_type": "code",
   "source": [
    "df = pd.DataFrame(X,columns=['col1','col2','col3','col4','col5'])\n",
    "df['target'] = y\n",
    "print(df.shape)\n",
    "df.head()"
   ],
   "id": "626cec1b26363712",
   "outputs": [
    {
     "name": "stdout",
     "output_type": "stream",
     "text": [
      "(100, 6)\n"
     ]
    },
    {
     "data": {
      "text/plain": [
       "       col1      col2      col3      col4      col5  target\n",
       "0 -3.677309 -0.650440  2.155299 -0.370415 -0.323023       1\n",
       "1 -1.199696  1.409995  0.464741  1.703169 -1.403092       0\n",
       "2 -1.009620  1.265085  0.849416 -0.940167 -0.988429       1\n",
       "3 -1.933879  1.140154  0.369548  1.526108 -2.333822       0\n",
       "4 -3.146379  1.435996 -0.763342  1.644232 -1.852775       0"
      ],
      "text/html": [
       "<div>\n",
       "<style scoped>\n",
       "    .dataframe tbody tr th:only-of-type {\n",
       "        vertical-align: middle;\n",
       "    }\n",
       "\n",
       "    .dataframe tbody tr th {\n",
       "        vertical-align: top;\n",
       "    }\n",
       "\n",
       "    .dataframe thead th {\n",
       "        text-align: right;\n",
       "    }\n",
       "</style>\n",
       "<table border=\"1\" class=\"dataframe\">\n",
       "  <thead>\n",
       "    <tr style=\"text-align: right;\">\n",
       "      <th></th>\n",
       "      <th>col1</th>\n",
       "      <th>col2</th>\n",
       "      <th>col3</th>\n",
       "      <th>col4</th>\n",
       "      <th>col5</th>\n",
       "      <th>target</th>\n",
       "    </tr>\n",
       "  </thead>\n",
       "  <tbody>\n",
       "    <tr>\n",
       "      <th>0</th>\n",
       "      <td>-3.677309</td>\n",
       "      <td>-0.650440</td>\n",
       "      <td>2.155299</td>\n",
       "      <td>-0.370415</td>\n",
       "      <td>-0.323023</td>\n",
       "      <td>1</td>\n",
       "    </tr>\n",
       "    <tr>\n",
       "      <th>1</th>\n",
       "      <td>-1.199696</td>\n",
       "      <td>1.409995</td>\n",
       "      <td>0.464741</td>\n",
       "      <td>1.703169</td>\n",
       "      <td>-1.403092</td>\n",
       "      <td>0</td>\n",
       "    </tr>\n",
       "    <tr>\n",
       "      <th>2</th>\n",
       "      <td>-1.009620</td>\n",
       "      <td>1.265085</td>\n",
       "      <td>0.849416</td>\n",
       "      <td>-0.940167</td>\n",
       "      <td>-0.988429</td>\n",
       "      <td>1</td>\n",
       "    </tr>\n",
       "    <tr>\n",
       "      <th>3</th>\n",
       "      <td>-1.933879</td>\n",
       "      <td>1.140154</td>\n",
       "      <td>0.369548</td>\n",
       "      <td>1.526108</td>\n",
       "      <td>-2.333822</td>\n",
       "      <td>0</td>\n",
       "    </tr>\n",
       "    <tr>\n",
       "      <th>4</th>\n",
       "      <td>-3.146379</td>\n",
       "      <td>1.435996</td>\n",
       "      <td>-0.763342</td>\n",
       "      <td>1.644232</td>\n",
       "      <td>-1.852775</td>\n",
       "      <td>0</td>\n",
       "    </tr>\n",
       "  </tbody>\n",
       "</table>\n",
       "</div>"
      ]
     },
     "execution_count": 142,
     "metadata": {},
     "output_type": "execute_result"
    }
   ],
   "execution_count": 142
  },
  {
   "metadata": {
    "ExecuteTime": {
     "end_time": "2024-09-09T03:41:04.742300Z",
     "start_time": "2024-09-09T03:41:04.737780Z"
    }
   },
   "cell_type": "code",
   "source": [
    "# function for row sampling\n",
    "\n",
    "def sample_rows(df,percent):\n",
    "  return df.sample(int(percent*df.shape[0]),replace=True)"
   ],
   "id": "80b0b7b9fe709e4",
   "outputs": [],
   "execution_count": 143
  },
  {
   "metadata": {
    "ExecuteTime": {
     "end_time": "2024-09-09T03:41:04.776106Z",
     "start_time": "2024-09-09T03:41:04.772727Z"
    }
   },
   "cell_type": "code",
   "source": [
    "# function for feature sampling\n",
    "import random\n",
    "\n",
    "def sample_features(df,percent):\n",
    "  cols = random.sample(df.columns.tolist()[:-1],int(percent*(df.shape[1]-1)))\n",
    "  new_df = df[cols]\n",
    "  new_df['target'] = df['target']\n",
    "  return new_df"
   ],
   "id": "bed6c4ca92706179",
   "outputs": [],
   "execution_count": 144
  },
  {
   "metadata": {
    "ExecuteTime": {
     "end_time": "2024-09-09T03:41:04.811497Z",
     "start_time": "2024-09-09T03:41:04.807857Z"
    }
   },
   "cell_type": "code",
   "source": [
    "# function for combined sampling\n",
    "\n",
    "def combined_sampling(df,row_percent,col_percent):\n",
    "  new_df = sample_rows(df,row_percent)\n",
    "  return sample_features(new_df,col_percent)"
   ],
   "id": "55631d790f7b7f6",
   "outputs": [],
   "execution_count": 145
  },
  {
   "metadata": {},
   "cell_type": "markdown",
   "source": "# Row Sampling",
   "id": "e43f4b7eb0eba0a"
  },
  {
   "metadata": {
    "ExecuteTime": {
     "end_time": "2024-09-09T03:41:04.879880Z",
     "start_time": "2024-09-09T03:41:04.875826Z"
    }
   },
   "cell_type": "code",
   "source": "df1 = sample_rows(df,0.2)",
   "id": "9d83a2d4e953c029",
   "outputs": [],
   "execution_count": 146
  },
  {
   "metadata": {
    "ExecuteTime": {
     "end_time": "2024-09-09T03:41:04.973088Z",
     "start_time": "2024-09-09T03:41:04.963371Z"
    }
   },
   "cell_type": "code",
   "source": "df1",
   "id": "e3a28726a1cbcf79",
   "outputs": [
    {
     "data": {
      "text/plain": [
       "        col1      col2      col3      col4      col5  target\n",
       "32 -1.392227  0.441842  2.515591 -0.173688 -1.964695       0\n",
       "30 -2.454236  1.134574  1.359973  0.577512 -1.148373       0\n",
       "12 -1.197490  0.006535  1.191685 -0.854002 -1.286232       1\n",
       "50  1.129080  0.383809  2.962440  0.229898 -0.377210       0\n",
       "17 -0.215645  1.651973  0.364065  2.884927 -0.279050       0\n",
       "68 -1.238899 -0.226313  1.744707 -1.246589 -2.043672       0\n",
       "86 -0.286027  2.365235  0.485913 -1.012475 -1.418679       1\n",
       "55 -0.293330  0.445158  2.284864 -0.137814 -1.185601       0\n",
       "90 -0.527410 -0.390786  1.116807 -1.614335 -1.217436       1\n",
       "1  -1.199696  1.409995  0.464741  1.703169 -1.403092       0\n",
       "22 -3.083047  1.990120 -2.234591  3.425928 -0.782285       0\n",
       "16 -1.029414 -0.895297  1.872492 -0.947562 -0.194728       1\n",
       "98 -0.979066  1.524987  0.861885  1.235754 -0.918135       0\n",
       "77 -0.604021 -0.660541  1.373801 -2.374382 -1.514444       1\n",
       "99 -0.507705  0.840446  3.599290 -0.657234 -0.732664       0\n",
       "91 -1.161334  1.849440  0.017377  2.032021 -1.041244       0\n",
       "60 -0.621643  1.619628 -0.339569  2.487790 -0.381663       0\n",
       "73 -0.832772  1.182711  0.913333  1.142203  0.114135       0\n",
       "90 -0.527410 -0.390786  1.116807 -1.614335 -1.217436       1\n",
       "18 -2.660164  1.133391 -0.710335  1.146563 -1.867418       0"
      ],
      "text/html": [
       "<div>\n",
       "<style scoped>\n",
       "    .dataframe tbody tr th:only-of-type {\n",
       "        vertical-align: middle;\n",
       "    }\n",
       "\n",
       "    .dataframe tbody tr th {\n",
       "        vertical-align: top;\n",
       "    }\n",
       "\n",
       "    .dataframe thead th {\n",
       "        text-align: right;\n",
       "    }\n",
       "</style>\n",
       "<table border=\"1\" class=\"dataframe\">\n",
       "  <thead>\n",
       "    <tr style=\"text-align: right;\">\n",
       "      <th></th>\n",
       "      <th>col1</th>\n",
       "      <th>col2</th>\n",
       "      <th>col3</th>\n",
       "      <th>col4</th>\n",
       "      <th>col5</th>\n",
       "      <th>target</th>\n",
       "    </tr>\n",
       "  </thead>\n",
       "  <tbody>\n",
       "    <tr>\n",
       "      <th>32</th>\n",
       "      <td>-1.392227</td>\n",
       "      <td>0.441842</td>\n",
       "      <td>2.515591</td>\n",
       "      <td>-0.173688</td>\n",
       "      <td>-1.964695</td>\n",
       "      <td>0</td>\n",
       "    </tr>\n",
       "    <tr>\n",
       "      <th>30</th>\n",
       "      <td>-2.454236</td>\n",
       "      <td>1.134574</td>\n",
       "      <td>1.359973</td>\n",
       "      <td>0.577512</td>\n",
       "      <td>-1.148373</td>\n",
       "      <td>0</td>\n",
       "    </tr>\n",
       "    <tr>\n",
       "      <th>12</th>\n",
       "      <td>-1.197490</td>\n",
       "      <td>0.006535</td>\n",
       "      <td>1.191685</td>\n",
       "      <td>-0.854002</td>\n",
       "      <td>-1.286232</td>\n",
       "      <td>1</td>\n",
       "    </tr>\n",
       "    <tr>\n",
       "      <th>50</th>\n",
       "      <td>1.129080</td>\n",
       "      <td>0.383809</td>\n",
       "      <td>2.962440</td>\n",
       "      <td>0.229898</td>\n",
       "      <td>-0.377210</td>\n",
       "      <td>0</td>\n",
       "    </tr>\n",
       "    <tr>\n",
       "      <th>17</th>\n",
       "      <td>-0.215645</td>\n",
       "      <td>1.651973</td>\n",
       "      <td>0.364065</td>\n",
       "      <td>2.884927</td>\n",
       "      <td>-0.279050</td>\n",
       "      <td>0</td>\n",
       "    </tr>\n",
       "    <tr>\n",
       "      <th>68</th>\n",
       "      <td>-1.238899</td>\n",
       "      <td>-0.226313</td>\n",
       "      <td>1.744707</td>\n",
       "      <td>-1.246589</td>\n",
       "      <td>-2.043672</td>\n",
       "      <td>0</td>\n",
       "    </tr>\n",
       "    <tr>\n",
       "      <th>86</th>\n",
       "      <td>-0.286027</td>\n",
       "      <td>2.365235</td>\n",
       "      <td>0.485913</td>\n",
       "      <td>-1.012475</td>\n",
       "      <td>-1.418679</td>\n",
       "      <td>1</td>\n",
       "    </tr>\n",
       "    <tr>\n",
       "      <th>55</th>\n",
       "      <td>-0.293330</td>\n",
       "      <td>0.445158</td>\n",
       "      <td>2.284864</td>\n",
       "      <td>-0.137814</td>\n",
       "      <td>-1.185601</td>\n",
       "      <td>0</td>\n",
       "    </tr>\n",
       "    <tr>\n",
       "      <th>90</th>\n",
       "      <td>-0.527410</td>\n",
       "      <td>-0.390786</td>\n",
       "      <td>1.116807</td>\n",
       "      <td>-1.614335</td>\n",
       "      <td>-1.217436</td>\n",
       "      <td>1</td>\n",
       "    </tr>\n",
       "    <tr>\n",
       "      <th>1</th>\n",
       "      <td>-1.199696</td>\n",
       "      <td>1.409995</td>\n",
       "      <td>0.464741</td>\n",
       "      <td>1.703169</td>\n",
       "      <td>-1.403092</td>\n",
       "      <td>0</td>\n",
       "    </tr>\n",
       "    <tr>\n",
       "      <th>22</th>\n",
       "      <td>-3.083047</td>\n",
       "      <td>1.990120</td>\n",
       "      <td>-2.234591</td>\n",
       "      <td>3.425928</td>\n",
       "      <td>-0.782285</td>\n",
       "      <td>0</td>\n",
       "    </tr>\n",
       "    <tr>\n",
       "      <th>16</th>\n",
       "      <td>-1.029414</td>\n",
       "      <td>-0.895297</td>\n",
       "      <td>1.872492</td>\n",
       "      <td>-0.947562</td>\n",
       "      <td>-0.194728</td>\n",
       "      <td>1</td>\n",
       "    </tr>\n",
       "    <tr>\n",
       "      <th>98</th>\n",
       "      <td>-0.979066</td>\n",
       "      <td>1.524987</td>\n",
       "      <td>0.861885</td>\n",
       "      <td>1.235754</td>\n",
       "      <td>-0.918135</td>\n",
       "      <td>0</td>\n",
       "    </tr>\n",
       "    <tr>\n",
       "      <th>77</th>\n",
       "      <td>-0.604021</td>\n",
       "      <td>-0.660541</td>\n",
       "      <td>1.373801</td>\n",
       "      <td>-2.374382</td>\n",
       "      <td>-1.514444</td>\n",
       "      <td>1</td>\n",
       "    </tr>\n",
       "    <tr>\n",
       "      <th>99</th>\n",
       "      <td>-0.507705</td>\n",
       "      <td>0.840446</td>\n",
       "      <td>3.599290</td>\n",
       "      <td>-0.657234</td>\n",
       "      <td>-0.732664</td>\n",
       "      <td>0</td>\n",
       "    </tr>\n",
       "    <tr>\n",
       "      <th>91</th>\n",
       "      <td>-1.161334</td>\n",
       "      <td>1.849440</td>\n",
       "      <td>0.017377</td>\n",
       "      <td>2.032021</td>\n",
       "      <td>-1.041244</td>\n",
       "      <td>0</td>\n",
       "    </tr>\n",
       "    <tr>\n",
       "      <th>60</th>\n",
       "      <td>-0.621643</td>\n",
       "      <td>1.619628</td>\n",
       "      <td>-0.339569</td>\n",
       "      <td>2.487790</td>\n",
       "      <td>-0.381663</td>\n",
       "      <td>0</td>\n",
       "    </tr>\n",
       "    <tr>\n",
       "      <th>73</th>\n",
       "      <td>-0.832772</td>\n",
       "      <td>1.182711</td>\n",
       "      <td>0.913333</td>\n",
       "      <td>1.142203</td>\n",
       "      <td>0.114135</td>\n",
       "      <td>0</td>\n",
       "    </tr>\n",
       "    <tr>\n",
       "      <th>90</th>\n",
       "      <td>-0.527410</td>\n",
       "      <td>-0.390786</td>\n",
       "      <td>1.116807</td>\n",
       "      <td>-1.614335</td>\n",
       "      <td>-1.217436</td>\n",
       "      <td>1</td>\n",
       "    </tr>\n",
       "    <tr>\n",
       "      <th>18</th>\n",
       "      <td>-2.660164</td>\n",
       "      <td>1.133391</td>\n",
       "      <td>-0.710335</td>\n",
       "      <td>1.146563</td>\n",
       "      <td>-1.867418</td>\n",
       "      <td>0</td>\n",
       "    </tr>\n",
       "  </tbody>\n",
       "</table>\n",
       "</div>"
      ]
     },
     "execution_count": 147,
     "metadata": {},
     "output_type": "execute_result"
    }
   ],
   "execution_count": 147
  },
  {
   "metadata": {
    "ExecuteTime": {
     "end_time": "2024-09-09T03:41:05.016602Z",
     "start_time": "2024-09-09T03:41:05.013195Z"
    }
   },
   "cell_type": "code",
   "source": "df2 = sample_rows(df,0.2)",
   "id": "c50e34560769895",
   "outputs": [],
   "execution_count": 148
  },
  {
   "metadata": {
    "ExecuteTime": {
     "end_time": "2024-09-09T03:41:05.063960Z",
     "start_time": "2024-09-09T03:41:05.060298Z"
    }
   },
   "cell_type": "code",
   "source": "df3 = sample_rows(df,0.2)",
   "id": "8d4d0921b5aad3d1",
   "outputs": [],
   "execution_count": 149
  },
  {
   "metadata": {
    "ExecuteTime": {
     "end_time": "2024-09-09T03:41:05.099741Z",
     "start_time": "2024-09-09T03:41:05.095902Z"
    }
   },
   "cell_type": "code",
   "source": "df3.shape",
   "id": "65b0ab3a4b41a4e2",
   "outputs": [
    {
     "data": {
      "text/plain": [
       "(20, 6)"
      ]
     },
     "execution_count": 150,
     "metadata": {},
     "output_type": "execute_result"
    }
   ],
   "execution_count": 150
  },
  {
   "metadata": {
    "ExecuteTime": {
     "end_time": "2024-09-09T03:41:05.200355Z",
     "start_time": "2024-09-09T03:41:05.196745Z"
    }
   },
   "cell_type": "code",
   "source": [
    "from sklearn.tree import DecisionTreeClassifier\n",
    "clf1 = DecisionTreeClassifier()\n",
    "clf2 = DecisionTreeClassifier()\n",
    "clf3 = DecisionTreeClassifier()"
   ],
   "id": "e21426b27d2586e0",
   "outputs": [],
   "execution_count": 151
  },
  {
   "metadata": {
    "ExecuteTime": {
     "end_time": "2024-09-09T03:41:05.246893Z",
     "start_time": "2024-09-09T03:41:05.235484Z"
    }
   },
   "cell_type": "code",
   "source": [
    "clf1.fit(df1.iloc[:,0:5],df1.iloc[:,-1])\n",
    "clf2.fit(df2.iloc[:,0:5],df2.iloc[:,-1])\n",
    "clf3.fit(df3.iloc[:,0:5],df3.iloc[:,-1])"
   ],
   "id": "1c20a8bacfc0c98d",
   "outputs": [
    {
     "data": {
      "text/plain": [
       "DecisionTreeClassifier()"
      ],
      "text/html": [
       "<style>#sk-container-id-10 {color: black;background-color: white;}#sk-container-id-10 pre{padding: 0;}#sk-container-id-10 div.sk-toggleable {background-color: white;}#sk-container-id-10 label.sk-toggleable__label {cursor: pointer;display: block;width: 100%;margin-bottom: 0;padding: 0.3em;box-sizing: border-box;text-align: center;}#sk-container-id-10 label.sk-toggleable__label-arrow:before {content: \"▸\";float: left;margin-right: 0.25em;color: #696969;}#sk-container-id-10 label.sk-toggleable__label-arrow:hover:before {color: black;}#sk-container-id-10 div.sk-estimator:hover label.sk-toggleable__label-arrow:before {color: black;}#sk-container-id-10 div.sk-toggleable__content {max-height: 0;max-width: 0;overflow: hidden;text-align: left;background-color: #f0f8ff;}#sk-container-id-10 div.sk-toggleable__content pre {margin: 0.2em;color: black;border-radius: 0.25em;background-color: #f0f8ff;}#sk-container-id-10 input.sk-toggleable__control:checked~div.sk-toggleable__content {max-height: 200px;max-width: 100%;overflow: auto;}#sk-container-id-10 input.sk-toggleable__control:checked~label.sk-toggleable__label-arrow:before {content: \"▾\";}#sk-container-id-10 div.sk-estimator input.sk-toggleable__control:checked~label.sk-toggleable__label {background-color: #d4ebff;}#sk-container-id-10 div.sk-label input.sk-toggleable__control:checked~label.sk-toggleable__label {background-color: #d4ebff;}#sk-container-id-10 input.sk-hidden--visually {border: 0;clip: rect(1px 1px 1px 1px);clip: rect(1px, 1px, 1px, 1px);height: 1px;margin: -1px;overflow: hidden;padding: 0;position: absolute;width: 1px;}#sk-container-id-10 div.sk-estimator {font-family: monospace;background-color: #f0f8ff;border: 1px dotted black;border-radius: 0.25em;box-sizing: border-box;margin-bottom: 0.5em;}#sk-container-id-10 div.sk-estimator:hover {background-color: #d4ebff;}#sk-container-id-10 div.sk-parallel-item::after {content: \"\";width: 100%;border-bottom: 1px solid gray;flex-grow: 1;}#sk-container-id-10 div.sk-label:hover label.sk-toggleable__label {background-color: #d4ebff;}#sk-container-id-10 div.sk-serial::before {content: \"\";position: absolute;border-left: 1px solid gray;box-sizing: border-box;top: 0;bottom: 0;left: 50%;z-index: 0;}#sk-container-id-10 div.sk-serial {display: flex;flex-direction: column;align-items: center;background-color: white;padding-right: 0.2em;padding-left: 0.2em;position: relative;}#sk-container-id-10 div.sk-item {position: relative;z-index: 1;}#sk-container-id-10 div.sk-parallel {display: flex;align-items: stretch;justify-content: center;background-color: white;position: relative;}#sk-container-id-10 div.sk-item::before, #sk-container-id-10 div.sk-parallel-item::before {content: \"\";position: absolute;border-left: 1px solid gray;box-sizing: border-box;top: 0;bottom: 0;left: 50%;z-index: -1;}#sk-container-id-10 div.sk-parallel-item {display: flex;flex-direction: column;z-index: 1;position: relative;background-color: white;}#sk-container-id-10 div.sk-parallel-item:first-child::after {align-self: flex-end;width: 50%;}#sk-container-id-10 div.sk-parallel-item:last-child::after {align-self: flex-start;width: 50%;}#sk-container-id-10 div.sk-parallel-item:only-child::after {width: 0;}#sk-container-id-10 div.sk-dashed-wrapped {border: 1px dashed gray;margin: 0 0.4em 0.5em 0.4em;box-sizing: border-box;padding-bottom: 0.4em;background-color: white;}#sk-container-id-10 div.sk-label label {font-family: monospace;font-weight: bold;display: inline-block;line-height: 1.2em;}#sk-container-id-10 div.sk-label-container {text-align: center;}#sk-container-id-10 div.sk-container {/* jupyter's `normalize.less` sets `[hidden] { display: none; }` but bootstrap.min.css set `[hidden] { display: none !important; }` so we also need the `!important` here to be able to override the default hidden behavior on the sphinx rendered scikit-learn.org. See: https://github.com/scikit-learn/scikit-learn/issues/21755 */display: inline-block !important;position: relative;}#sk-container-id-10 div.sk-text-repr-fallback {display: none;}</style><div id=\"sk-container-id-10\" class=\"sk-top-container\"><div class=\"sk-text-repr-fallback\"><pre>DecisionTreeClassifier()</pre><b>In a Jupyter environment, please rerun this cell to show the HTML representation or trust the notebook. <br />On GitHub, the HTML representation is unable to render, please try loading this page with nbviewer.org.</b></div><div class=\"sk-container\" hidden><div class=\"sk-item\"><div class=\"sk-estimator sk-toggleable\"><input class=\"sk-toggleable__control sk-hidden--visually\" id=\"sk-estimator-id-10\" type=\"checkbox\" checked><label for=\"sk-estimator-id-10\" class=\"sk-toggleable__label sk-toggleable__label-arrow\">DecisionTreeClassifier</label><div class=\"sk-toggleable__content\"><pre>DecisionTreeClassifier()</pre></div></div></div></div></div>"
      ]
     },
     "execution_count": 152,
     "metadata": {},
     "output_type": "execute_result"
    }
   ],
   "execution_count": 152
  },
  {
   "metadata": {
    "ExecuteTime": {
     "end_time": "2024-09-09T03:41:05.268677Z",
     "start_time": "2024-09-09T03:41:05.265302Z"
    }
   },
   "cell_type": "code",
   "source": "from sklearn.tree import plot_tree",
   "id": "fb762b57ba4d82b0",
   "outputs": [],
   "execution_count": 153
  },
  {
   "metadata": {
    "ExecuteTime": {
     "end_time": "2024-09-09T03:41:05.461443Z",
     "start_time": "2024-09-09T03:41:05.304645Z"
    }
   },
   "cell_type": "code",
   "source": "plot_tree(clf1)",
   "id": "5b145e15fbbc5009",
   "outputs": [
    {
     "data": {
      "text/plain": [
       "[Text(0.6, 0.8333333333333334, 'x[3] <= -0.756\\ngini = 0.42\\nsamples = 20\\nvalue = [14, 6]'),\n",
       " Text(0.4, 0.5, 'x[0] <= -1.218\\ngini = 0.245\\nsamples = 7\\nvalue = [1, 6]'),\n",
       " Text(0.2, 0.16666666666666666, 'gini = 0.0\\nsamples = 1\\nvalue = [1, 0]'),\n",
       " Text(0.6, 0.16666666666666666, 'gini = 0.0\\nsamples = 6\\nvalue = [0, 6]'),\n",
       " Text(0.8, 0.5, 'gini = 0.0\\nsamples = 13\\nvalue = [13, 0]')]"
      ]
     },
     "execution_count": 154,
     "metadata": {},
     "output_type": "execute_result"
    },
    {
     "data": {
      "text/plain": [
       "<Figure size 640x480 with 1 Axes>"
      ],
      "image/png": "[encoded data removed]"
     },
     "metadata": {},
     "output_type": "display_data"
    }
   ],
   "execution_count": 154
  },
  {
   "metadata": {
    "ExecuteTime": {
     "end_time": "2024-09-09T03:41:05.599564Z",
     "start_time": "2024-09-09T03:41:05.462950Z"
    }
   },
   "cell_type": "code",
   "source": "plot_tree(clf2)",
   "id": "3da9aa985c43bbc8",
   "outputs": [
    {
     "data": {
      "text/plain": [
       "[Text(0.6, 0.8333333333333334, 'x[3] <= 0.12\\ngini = 0.495\\nsamples = 20\\nvalue = [11, 9]'),\n",
       " Text(0.4, 0.5, 'x[2] <= 1.968\\ngini = 0.298\\nsamples = 11\\nvalue = [2, 9]'),\n",
       " Text(0.2, 0.16666666666666666, 'gini = 0.0\\nsamples = 9\\nvalue = [0, 9]'),\n",
       " Text(0.6, 0.16666666666666666, 'gini = 0.0\\nsamples = 2\\nvalue = [2, 0]'),\n",
       " Text(0.8, 0.5, 'gini = 0.0\\nsamples = 9\\nvalue = [9, 0]')]"
      ]
     },
     "execution_count": 155,
     "metadata": {},
     "output_type": "execute_result"
    },
    {
     "data": {
      "text/plain": [
       "<Figure size 640x480 with 1 Axes>"
      ],
      "image/png": "[encoded data removed]"
     },
     "metadata": {},
     "output_type": "display_data"
    }
   ],
   "execution_count": 155
  },
  {
   "metadata": {
    "ExecuteTime": {
     "end_time": "2024-09-09T03:41:05.700939Z",
     "start_time": "2024-09-09T03:41:05.600572Z"
    }
   },
   "cell_type": "code",
   "source": "plot_tree(clf3)",
   "id": "f78e208314b5dcf",
   "outputs": [
    {
     "data": {
      "text/plain": [
       "[Text(0.5, 0.75, 'x[3] <= 0.001\\ngini = 0.495\\nsamples = 20\\nvalue = [11, 9]'),\n",
       " Text(0.25, 0.25, 'gini = 0.0\\nsamples = 9\\nvalue = [0, 9]'),\n",
       " Text(0.75, 0.25, 'gini = 0.0\\nsamples = 11\\nvalue = [11, 0]')]"
      ]
     },
     "execution_count": 156,
     "metadata": {},
     "output_type": "execute_result"
    },
    {
     "data": {
      "text/plain": [
       "<Figure size 640x480 with 1 Axes>"
      ],
      "image/png": "[encoded data removed]"
     },
     "metadata": {},
     "output_type": "display_data"
    }
   ],
   "execution_count": 156
  },
  {
   "metadata": {
    "ExecuteTime": {
     "end_time": "2024-09-09T03:41:05.706959Z",
     "start_time": "2024-09-09T03:41:05.701946Z"
    }
   },
   "cell_type": "code",
   "source": "clf1.predict(np.array([1.780758,-0.487686,-0.892122,1.278995,-3.425382]).reshape(1,5))",
   "id": "5c68d555d8be0304",
   "outputs": [
    {
     "name": "stderr",
     "output_type": "stream",
     "text": [
      "C:\\Users\\HP TECHNOLOGY\\anaconda3\\Lib\\site-packages\\sklearn\\base.py:439: UserWarning: X does not have valid feature names, but DecisionTreeClassifier was fitted with feature names\n",
      "  warnings.warn(\n"
     ]
    },
    {
     "data": {
      "text/plain": [
       "array([0])"
      ]
     },
     "execution_count": 157,
     "metadata": {},
     "output_type": "execute_result"
    }
   ],
   "execution_count": 157
  },
  {
   "metadata": {
    "ExecuteTime": {
     "end_time": "2024-09-09T03:41:05.713732Z",
     "start_time": "2024-09-09T03:41:05.708968Z"
    }
   },
   "cell_type": "code",
   "source": "clf2.predict(np.array([1.780758,-0.487686,-0.892122,1.278995,-3.425382]).reshape(1,5))",
   "id": "7046d8e5fb8c3a69",
   "outputs": [
    {
     "name": "stderr",
     "output_type": "stream",
     "text": [
      "C:\\Users\\HP TECHNOLOGY\\anaconda3\\Lib\\site-packages\\sklearn\\base.py:439: UserWarning: X does not have valid feature names, but DecisionTreeClassifier was fitted with feature names\n",
      "  warnings.warn(\n"
     ]
    },
    {
     "data": {
      "text/plain": [
       "array([0])"
      ]
     },
     "execution_count": 158,
     "metadata": {},
     "output_type": "execute_result"
    }
   ],
   "execution_count": 158
  },
  {
   "metadata": {
    "ExecuteTime": {
     "end_time": "2024-09-09T03:41:05.720594Z",
     "start_time": "2024-09-09T03:41:05.714742Z"
    }
   },
   "cell_type": "code",
   "source": "clf2.predict(np.array([1.780758,-0.487686,-0.892122,1.278995,-3.425382]).reshape(1,5))",
   "id": "53e834a1a9b7dd3f",
   "outputs": [
    {
     "name": "stderr",
     "output_type": "stream",
     "text": [
      "C:\\Users\\HP TECHNOLOGY\\anaconda3\\Lib\\site-packages\\sklearn\\base.py:439: UserWarning: X does not have valid feature names, but DecisionTreeClassifier was fitted with feature names\n",
      "  warnings.warn(\n"
     ]
    },
    {
     "data": {
      "text/plain": [
       "array([0])"
      ]
     },
     "execution_count": 159,
     "metadata": {},
     "output_type": "execute_result"
    }
   ],
   "execution_count": 159
  },
  {
   "metadata": {},
   "cell_type": "markdown",
   "source": "# Col Sampling",
   "id": "4ac84aad1226f489"
  },
  {
   "metadata": {
    "ExecuteTime": {
     "end_time": "2024-09-09T03:41:05.727187Z",
     "start_time": "2024-09-09T03:41:05.721605Z"
    }
   },
   "cell_type": "code",
   "source": [
    "df1 = sample_features(df,0.8)\n",
    "df1.columns"
   ],
   "id": "1df8103c5bb29fb9",
   "outputs": [
    {
     "name": "stderr",
     "output_type": "stream",
     "text": [
      "C:\\Users\\HP TECHNOLOGY\\AppData\\Local\\Temp\\ipykernel_3200\\360997045.py:7: SettingWithCopyWarning: \n",
      "A value is trying to be set on a copy of a slice from a DataFrame.\n",
      "Try using .loc[row_indexer,col_indexer] = value instead\n",
      "\n",
      "See the caveats in the documentation: https://pandas.pydata.org/pandas-docs/stable/user_guide/indexing.html#returning-a-view-versus-a-copy\n",
      "  new_df['target'] = df['target']\n"
     ]
    },
    {
     "data": {
      "text/plain": [
       "Index(['col1', 'col5', 'col2', 'col4', 'target'], dtype='object')"
      ]
     },
     "execution_count": 160,
     "metadata": {},
     "output_type": "execute_result"
    }
   ],
   "execution_count": 160
  },
  {
   "metadata": {
    "ExecuteTime": {
     "end_time": "2024-09-09T03:41:05.734032Z",
     "start_time": "2024-09-09T03:41:05.728457Z"
    }
   },
   "cell_type": "code",
   "source": [
    "df2 = sample_features(df,0.8)\n",
    "df2.columns"
   ],
   "id": "1502e4533af1b539",
   "outputs": [
    {
     "name": "stderr",
     "output_type": "stream",
     "text": [
      "C:\\Users\\HP TECHNOLOGY\\AppData\\Local\\Temp\\ipykernel_3200\\360997045.py:7: SettingWithCopyWarning: \n",
      "A value is trying to be set on a copy of a slice from a DataFrame.\n",
      "Try using .loc[row_indexer,col_indexer] = value instead\n",
      "\n",
      "See the caveats in the documentation: https://pandas.pydata.org/pandas-docs/stable/user_guide/indexing.html#returning-a-view-versus-a-copy\n",
      "  new_df['target'] = df['target']\n"
     ]
    },
    {
     "data": {
      "text/plain": [
       "Index(['col4', 'col1', 'col5', 'col3', 'target'], dtype='object')"
      ]
     },
     "execution_count": 161,
     "metadata": {},
     "output_type": "execute_result"
    }
   ],
   "execution_count": 161
  },
  {
   "metadata": {
    "ExecuteTime": {
     "end_time": "2024-09-09T03:41:05.743365Z",
     "start_time": "2024-09-09T03:41:05.735039Z"
    }
   },
   "cell_type": "code",
   "source": [
    "df3 = sample_features(df,0.8)\n",
    "df3.columns"
   ],
   "id": "f13440881eadf29c",
   "outputs": [
    {
     "name": "stderr",
     "output_type": "stream",
     "text": [
      "C:\\Users\\HP TECHNOLOGY\\AppData\\Local\\Temp\\ipykernel_3200\\360997045.py:7: SettingWithCopyWarning: \n",
      "A value is trying to be set on a copy of a slice from a DataFrame.\n",
      "Try using .loc[row_indexer,col_indexer] = value instead\n",
      "\n",
      "See the caveats in the documentation: https://pandas.pydata.org/pandas-docs/stable/user_guide/indexing.html#returning-a-view-versus-a-copy\n",
      "  new_df['target'] = df['target']\n"
     ]
    },
    {
     "data": {
      "text/plain": [
       "Index(['col4', 'col3', 'col2', 'col5', 'target'], dtype='object')"
      ]
     },
     "execution_count": 162,
     "metadata": {},
     "output_type": "execute_result"
    }
   ],
   "execution_count": 162
  },
  {
   "metadata": {
    "ExecuteTime": {
     "end_time": "2024-09-09T03:41:05.754021Z",
     "start_time": "2024-09-09T03:41:05.744475Z"
    }
   },
   "cell_type": "code",
   "source": "df3",
   "id": "b8dfc877e032a550",
   "outputs": [
    {
     "data": {
      "text/plain": [
       "        col4      col3      col2      col5  target\n",
       "0  -0.370415  2.155299 -0.650440 -0.323023       1\n",
       "1   1.703169  0.464741  1.409995 -1.403092       0\n",
       "2  -0.940167  0.849416  1.265085 -0.988429       1\n",
       "3   1.526108  0.369548  1.140154 -2.333822       0\n",
       "4   1.644232 -0.763342  1.435996 -1.852775       0\n",
       "..       ...       ...       ...       ...     ...\n",
       "95  1.194464 -0.047934  1.151768 -1.246954       0\n",
       "96 -1.072420  2.562734  0.093036 -0.344994       0\n",
       "97  0.276290  1.492132  0.762650 -0.665893       0\n",
       "98  1.235754  0.861885  1.524987 -0.918135       0\n",
       "99 -0.657234  3.599290  0.840446 -0.732664       0\n",
       "\n",
       "[100 rows x 5 columns]"
      ],
      "text/html": [
       "<div>\n",
       "<style scoped>\n",
       "    .dataframe tbody tr th:only-of-type {\n",
       "        vertical-align: middle;\n",
       "    }\n",
       "\n",
       "    .dataframe tbody tr th {\n",
       "        vertical-align: top;\n",
       "    }\n",
       "\n",
       "    .dataframe thead th {\n",
       "        text-align: right;\n",
       "    }\n",
       "</style>\n",
       "<table border=\"1\" class=\"dataframe\">\n",
       "  <thead>\n",
       "    <tr style=\"text-align: right;\">\n",
       "      <th></th>\n",
       "      <th>col4</th>\n",
       "      <th>col3</th>\n",
       "      <th>col2</th>\n",
       "      <th>col5</th>\n",
       "      <th>target</th>\n",
       "    </tr>\n",
       "  </thead>\n",
       "  <tbody>\n",
       "    <tr>\n",
       "      <th>0</th>\n",
       "      <td>-0.370415</td>\n",
       "      <td>2.155299</td>\n",
       "      <td>-0.650440</td>\n",
       "      <td>-0.323023</td>\n",
       "      <td>1</td>\n",
       "    </tr>\n",
       "    <tr>\n",
       "      <th>1</th>\n",
       "      <td>1.703169</td>\n",
       "      <td>0.464741</td>\n",
       "      <td>1.409995</td>\n",
       "      <td>-1.403092</td>\n",
       "      <td>0</td>\n",
       "    </tr>\n",
       "    <tr>\n",
       "      <th>2</th>\n",
       "      <td>-0.940167</td>\n",
       "      <td>0.849416</td>\n",
       "      <td>1.265085</td>\n",
       "      <td>-0.988429</td>\n",
       "      <td>1</td>\n",
       "    </tr>\n",
       "    <tr>\n",
       "      <th>3</th>\n",
       "      <td>1.526108</td>\n",
       "      <td>0.369548</td>\n",
       "      <td>1.140154</td>\n",
       "      <td>-2.333822</td>\n",
       "      <td>0</td>\n",
       "    </tr>\n",
       "    <tr>\n",
       "      <th>4</th>\n",
       "      <td>1.644232</td>\n",
       "      <td>-0.763342</td>\n",
       "      <td>1.435996</td>\n",
       "      <td>-1.852775</td>\n",
       "      <td>0</td>\n",
       "    </tr>\n",
       "    <tr>\n",
       "      <th>...</th>\n",
       "      <td>...</td>\n",
       "      <td>...</td>\n",
       "      <td>...</td>\n",
       "      <td>...</td>\n",
       "      <td>...</td>\n",
       "    </tr>\n",
       "    <tr>\n",
       "      <th>95</th>\n",
       "      <td>1.194464</td>\n",
       "      <td>-0.047934</td>\n",
       "      <td>1.151768</td>\n",
       "      <td>-1.246954</td>\n",
       "      <td>0</td>\n",
       "    </tr>\n",
       "    <tr>\n",
       "      <th>96</th>\n",
       "      <td>-1.072420</td>\n",
       "      <td>2.562734</td>\n",
       "      <td>0.093036</td>\n",
       "      <td>-0.344994</td>\n",
       "      <td>0</td>\n",
       "    </tr>\n",
       "    <tr>\n",
       "      <th>97</th>\n",
       "      <td>0.276290</td>\n",
       "      <td>1.492132</td>\n",
       "      <td>0.762650</td>\n",
       "      <td>-0.665893</td>\n",
       "      <td>0</td>\n",
       "    </tr>\n",
       "    <tr>\n",
       "      <th>98</th>\n",
       "      <td>1.235754</td>\n",
       "      <td>0.861885</td>\n",
       "      <td>1.524987</td>\n",
       "      <td>-0.918135</td>\n",
       "      <td>0</td>\n",
       "    </tr>\n",
       "    <tr>\n",
       "      <th>99</th>\n",
       "      <td>-0.657234</td>\n",
       "      <td>3.599290</td>\n",
       "      <td>0.840446</td>\n",
       "      <td>-0.732664</td>\n",
       "      <td>0</td>\n",
       "    </tr>\n",
       "  </tbody>\n",
       "</table>\n",
       "<p>100 rows × 5 columns</p>\n",
       "</div>"
      ]
     },
     "execution_count": 163,
     "metadata": {},
     "output_type": "execute_result"
    }
   ],
   "execution_count": 163
  },
  {
   "metadata": {
    "ExecuteTime": {
     "end_time": "2024-09-09T03:41:05.758339Z",
     "start_time": "2024-09-09T03:41:05.755036Z"
    }
   },
   "cell_type": "code",
   "source": [
    "clf1 = DecisionTreeClassifier()\n",
    "clf2 = DecisionTreeClassifier()\n",
    "clf3 = DecisionTreeClassifier()"
   ],
   "id": "667c2f13e4475442",
   "outputs": [],
   "execution_count": 164
  },
  {
   "metadata": {
    "ExecuteTime": {
     "end_time": "2024-09-09T03:41:05.770622Z",
     "start_time": "2024-09-09T03:41:05.759356Z"
    }
   },
   "cell_type": "code",
   "source": [
    "clf1.fit(df1.iloc[:, 0:4], df1.iloc[:, -1])\n",
    "clf2.fit(df2.iloc[:, 0:4], df2.iloc[:, -1])\n",
    "clf3.fit(df3.iloc[:, 0:4], df3.iloc[:, -1])"
   ],
   "id": "19f89594423d609e",
   "outputs": [
    {
     "data": {
      "text/plain": [
       "DecisionTreeClassifier()"
      ],
      "text/html": [
       "<style>#sk-container-id-11 {color: black;background-color: white;}#sk-container-id-11 pre{padding: 0;}#sk-container-id-11 div.sk-toggleable {background-color: white;}#sk-container-id-11 label.sk-toggleable__label {cursor: pointer;display: block;width: 100%;margin-bottom: 0;padding: 0.3em;box-sizing: border-box;text-align: center;}#sk-container-id-11 label.sk-toggleable__label-arrow:before {content: \"▸\";float: left;margin-right: 0.25em;color: #696969;}#sk-container-id-11 label.sk-toggleable__label-arrow:hover:before {color: black;}#sk-container-id-11 div.sk-estimator:hover label.sk-toggleable__label-arrow:before {color: black;}#sk-container-id-11 div.sk-toggleable__content {max-height: 0;max-width: 0;overflow: hidden;text-align: left;background-color: #f0f8ff;}#sk-container-id-11 div.sk-toggleable__content pre {margin: 0.2em;color: black;border-radius: 0.25em;background-color: #f0f8ff;}#sk-container-id-11 input.sk-toggleable__control:checked~div.sk-toggleable__content {max-height: 200px;max-width: 100%;overflow: auto;}#sk-container-id-11 input.sk-toggleable__control:checked~label.sk-toggleable__label-arrow:before {content: \"▾\";}#sk-container-id-11 div.sk-estimator input.sk-toggleable__control:checked~label.sk-toggleable__label {background-color: #d4ebff;}#sk-container-id-11 div.sk-label input.sk-toggleable__control:checked~label.sk-toggleable__label {background-color: #d4ebff;}#sk-container-id-11 input.sk-hidden--visually {border: 0;clip: rect(1px 1px 1px 1px);clip: rect(1px, 1px, 1px, 1px);height: 1px;margin: -1px;overflow: hidden;padding: 0;position: absolute;width: 1px;}#sk-container-id-11 div.sk-estimator {font-family: monospace;background-color: #f0f8ff;border: 1px dotted black;border-radius: 0.25em;box-sizing: border-box;margin-bottom: 0.5em;}#sk-container-id-11 div.sk-estimator:hover {background-color: #d4ebff;}#sk-container-id-11 div.sk-parallel-item::after {content: \"\";width: 100%;border-bottom: 1px solid gray;flex-grow: 1;}#sk-container-id-11 div.sk-label:hover label.sk-toggleable__label {background-color: #d4ebff;}#sk-container-id-11 div.sk-serial::before {content: \"\";position: absolute;border-left: 1px solid gray;box-sizing: border-box;top: 0;bottom: 0;left: 50%;z-index: 0;}#sk-container-id-11 div.sk-serial {display: flex;flex-direction: column;align-items: center;background-color: white;padding-right: 0.2em;padding-left: 0.2em;position: relative;}#sk-container-id-11 div.sk-item {position: relative;z-index: 1;}#sk-container-id-11 div.sk-parallel {display: flex;align-items: stretch;justify-content: center;background-color: white;position: relative;}#sk-container-id-11 div.sk-item::before, #sk-container-id-11 div.sk-parallel-item::before {content: \"\";position: absolute;border-left: 1px solid gray;box-sizing: border-box;top: 0;bottom: 0;left: 50%;z-index: -1;}#sk-container-id-11 div.sk-parallel-item {display: flex;flex-direction: column;z-index: 1;position: relative;background-color: white;}#sk-container-id-11 div.sk-parallel-item:first-child::after {align-self: flex-end;width: 50%;}#sk-container-id-11 div.sk-parallel-item:last-child::after {align-self: flex-start;width: 50%;}#sk-container-id-11 div.sk-parallel-item:only-child::after {width: 0;}#sk-container-id-11 div.sk-dashed-wrapped {border: 1px dashed gray;margin: 0 0.4em 0.5em 0.4em;box-sizing: border-box;padding-bottom: 0.4em;background-color: white;}#sk-container-id-11 div.sk-label label {font-family: monospace;font-weight: bold;display: inline-block;line-height: 1.2em;}#sk-container-id-11 div.sk-label-container {text-align: center;}#sk-container-id-11 div.sk-container {/* jupyter's `normalize.less` sets `[hidden] { display: none; }` but bootstrap.min.css set `[hidden] { display: none !important; }` so we also need the `!important` here to be able to override the default hidden behavior on the sphinx rendered scikit-learn.org. See: https://github.com/scikit-learn/scikit-learn/issues/21755 */display: inline-block !important;position: relative;}#sk-container-id-11 div.sk-text-repr-fallback {display: none;}</style><div id=\"sk-container-id-11\" class=\"sk-top-container\"><div class=\"sk-text-repr-fallback\"><pre>DecisionTreeClassifier()</pre><b>In a Jupyter environment, please rerun this cell to show the HTML representation or trust the notebook. <br />On GitHub, the HTML representation is unable to render, please try loading this page with nbviewer.org.</b></div><div class=\"sk-container\" hidden><div class=\"sk-item\"><div class=\"sk-estimator sk-toggleable\"><input class=\"sk-toggleable__control sk-hidden--visually\" id=\"sk-estimator-id-11\" type=\"checkbox\" checked><label for=\"sk-estimator-id-11\" class=\"sk-toggleable__label sk-toggleable__label-arrow\">DecisionTreeClassifier</label><div class=\"sk-toggleable__content\"><pre>DecisionTreeClassifier()</pre></div></div></div></div></div>"
      ]
     },
     "execution_count": 165,
     "metadata": {},
     "output_type": "execute_result"
    }
   ],
   "execution_count": 165
  },
  {
   "metadata": {
    "ExecuteTime": {
     "end_time": "2024-09-09T03:41:06.423224Z",
     "start_time": "2024-09-09T03:41:05.771634Z"
    }
   },
   "cell_type": "code",
   "source": "plot_tree(clf1)",
   "id": "4995ab041dd20375",
   "outputs": [
    {
     "data": {
      "text/plain": [
       "[Text(0.5, 0.9285714285714286, 'x[3] <= -0.338\\ngini = 0.5\\nsamples = 100\\nvalue = [50, 50]'),\n",
       " Text(0.23529411764705882, 0.7857142857142857, 'x[0] <= 0.542\\ngini = 0.19\\nsamples = 47\\nvalue = [5, 42]'),\n",
       " Text(0.11764705882352941, 0.6428571428571429, 'x[1] <= -2.035\\ngini = 0.097\\nsamples = 39\\nvalue = [2, 37]'),\n",
       " Text(0.058823529411764705, 0.5, 'gini = 0.0\\nsamples = 1\\nvalue = [1, 0]'),\n",
       " Text(0.17647058823529413, 0.5, 'x[0] <= -0.518\\ngini = 0.051\\nsamples = 38\\nvalue = [1, 37]'),\n",
       " Text(0.11764705882352941, 0.35714285714285715, 'gini = 0.0\\nsamples = 32\\nvalue = [0, 32]'),\n",
       " Text(0.23529411764705882, 0.35714285714285715, 'x[0] <= -0.397\\ngini = 0.278\\nsamples = 6\\nvalue = [1, 5]'),\n",
       " Text(0.17647058823529413, 0.21428571428571427, 'gini = 0.0\\nsamples = 1\\nvalue = [1, 0]'),\n",
       " Text(0.29411764705882354, 0.21428571428571427, 'gini = 0.0\\nsamples = 5\\nvalue = [0, 5]'),\n",
       " Text(0.35294117647058826, 0.6428571428571429, 'x[1] <= -0.88\\ngini = 0.469\\nsamples = 8\\nvalue = [3, 5]'),\n",
       " Text(0.29411764705882354, 0.5, 'gini = 0.0\\nsamples = 5\\nvalue = [0, 5]'),\n",
       " Text(0.4117647058823529, 0.5, 'gini = 0.0\\nsamples = 3\\nvalue = [3, 0]'),\n",
       " Text(0.7647058823529411, 0.7857142857142857, 'x[2] <= 2.018\\ngini = 0.256\\nsamples = 53\\nvalue = [45, 8]'),\n",
       " Text(0.7058823529411765, 0.6428571428571429, 'x[0] <= -0.245\\ngini = 0.15\\nsamples = 49\\nvalue = [45, 4]'),\n",
       " Text(0.5294117647058824, 0.5, 'x[1] <= -0.209\\ngini = 0.053\\nsamples = 37\\nvalue = [36, 1]'),\n",
       " Text(0.47058823529411764, 0.35714285714285715, 'gini = 0.0\\nsamples = 33\\nvalue = [33, 0]'),\n",
       " Text(0.5882352941176471, 0.35714285714285715, 'x[3] <= 0.469\\ngini = 0.375\\nsamples = 4\\nvalue = [3, 1]'),\n",
       " Text(0.5294117647058824, 0.21428571428571427, 'gini = 0.0\\nsamples = 1\\nvalue = [0, 1]'),\n",
       " Text(0.6470588235294118, 0.21428571428571427, 'gini = 0.0\\nsamples = 3\\nvalue = [3, 0]'),\n",
       " Text(0.8823529411764706, 0.5, 'x[1] <= -0.479\\ngini = 0.375\\nsamples = 12\\nvalue = [9, 3]'),\n",
       " Text(0.8235294117647058, 0.35714285714285715, 'x[1] <= -1.226\\ngini = 0.5\\nsamples = 6\\nvalue = [3, 3]'),\n",
       " Text(0.7647058823529411, 0.21428571428571427, 'gini = 0.0\\nsamples = 2\\nvalue = [2, 0]'),\n",
       " Text(0.8823529411764706, 0.21428571428571427, 'x[2] <= 0.818\\ngini = 0.375\\nsamples = 4\\nvalue = [1, 3]'),\n",
       " Text(0.8235294117647058, 0.07142857142857142, 'gini = 0.0\\nsamples = 1\\nvalue = [1, 0]'),\n",
       " Text(0.9411764705882353, 0.07142857142857142, 'gini = 0.0\\nsamples = 3\\nvalue = [0, 3]'),\n",
       " Text(0.9411764705882353, 0.35714285714285715, 'gini = 0.0\\nsamples = 6\\nvalue = [6, 0]'),\n",
       " Text(0.8235294117647058, 0.6428571428571429, 'gini = 0.0\\nsamples = 4\\nvalue = [0, 4]')]"
      ]
     },
     "execution_count": 166,
     "metadata": {},
     "output_type": "execute_result"
    },
    {
     "data": {
      "text/plain": [
       "<Figure size 640x480 with 1 Axes>"
      ],
      "image/png": "[encoded data removed]"
     },
     "metadata": {},
     "output_type": "display_data"
    }
   ],
   "execution_count": 166
  },
  {
   "metadata": {
    "ExecuteTime": {
     "end_time": "2024-09-09T03:41:07.041321Z",
     "start_time": "2024-09-09T03:41:06.426236Z"
    }
   },
   "cell_type": "code",
   "source": "plot_tree(clf2)",
   "id": "3ce9a75c4645ff8b",
   "outputs": [
    {
     "data": {
      "text/plain": [
       "[Text(0.3815789473684211, 0.9166666666666666, 'x[0] <= -0.338\\ngini = 0.5\\nsamples = 100\\nvalue = [50, 50]'),\n",
       " Text(0.21052631578947367, 0.75, 'x[3] <= 2.382\\ngini = 0.19\\nsamples = 47\\nvalue = [5, 42]'),\n",
       " Text(0.15789473684210525, 0.5833333333333334, 'x[2] <= -2.035\\ngini = 0.045\\nsamples = 43\\nvalue = [1, 42]'),\n",
       " Text(0.10526315789473684, 0.4166666666666667, 'x[1] <= -0.28\\ngini = 0.5\\nsamples = 2\\nvalue = [1, 1]'),\n",
       " Text(0.05263157894736842, 0.25, 'gini = 0.0\\nsamples = 1\\nvalue = [1, 0]'),\n",
       " Text(0.15789473684210525, 0.25, 'gini = 0.0\\nsamples = 1\\nvalue = [0, 1]'),\n",
       " Text(0.21052631578947367, 0.4166666666666667, 'gini = 0.0\\nsamples = 41\\nvalue = [0, 41]'),\n",
       " Text(0.2631578947368421, 0.5833333333333334, 'gini = 0.0\\nsamples = 4\\nvalue = [4, 0]'),\n",
       " Text(0.5526315789473685, 0.75, 'x[0] <= 0.272\\ngini = 0.256\\nsamples = 53\\nvalue = [45, 8]'),\n",
       " Text(0.3684210526315789, 0.5833333333333334, 'x[2] <= -1.042\\ngini = 0.496\\nsamples = 11\\nvalue = [6, 5]'),\n",
       " Text(0.3157894736842105, 0.4166666666666667, 'gini = 0.0\\nsamples = 5\\nvalue = [5, 0]'),\n",
       " Text(0.42105263157894735, 0.4166666666666667, 'x[1] <= 0.51\\ngini = 0.278\\nsamples = 6\\nvalue = [1, 5]'),\n",
       " Text(0.3684210526315789, 0.25, 'gini = 0.0\\nsamples = 5\\nvalue = [0, 5]'),\n",
       " Text(0.47368421052631576, 0.25, 'gini = 0.0\\nsamples = 1\\nvalue = [1, 0]'),\n",
       " Text(0.7368421052631579, 0.5833333333333334, 'x[0] <= 0.835\\ngini = 0.133\\nsamples = 42\\nvalue = [39, 3]'),\n",
       " Text(0.631578947368421, 0.4166666666666667, 'x[0] <= 0.594\\ngini = 0.32\\nsamples = 10\\nvalue = [8, 2]'),\n",
       " Text(0.5789473684210527, 0.25, 'gini = 0.0\\nsamples = 8\\nvalue = [8, 0]'),\n",
       " Text(0.6842105263157895, 0.25, 'gini = 0.0\\nsamples = 2\\nvalue = [0, 2]'),\n",
       " Text(0.8421052631578947, 0.4166666666666667, 'x[1] <= 0.134\\ngini = 0.061\\nsamples = 32\\nvalue = [31, 1]'),\n",
       " Text(0.7894736842105263, 0.25, 'gini = 0.0\\nsamples = 28\\nvalue = [28, 0]'),\n",
       " Text(0.8947368421052632, 0.25, 'x[1] <= 0.294\\ngini = 0.375\\nsamples = 4\\nvalue = [3, 1]'),\n",
       " Text(0.8421052631578947, 0.08333333333333333, 'gini = 0.0\\nsamples = 1\\nvalue = [0, 1]'),\n",
       " Text(0.9473684210526315, 0.08333333333333333, 'gini = 0.0\\nsamples = 3\\nvalue = [3, 0]')]"
      ]
     },
     "execution_count": 167,
     "metadata": {},
     "output_type": "execute_result"
    },
    {
     "data": {
      "text/plain": [
       "<Figure size 640x480 with 1 Axes>"
      ],
      "image/png": "[encoded data removed]"
     },
     "metadata": {},
     "output_type": "display_data"
    }
   ],
   "execution_count": 167
  },
  {
   "metadata": {
    "ExecuteTime": {
     "end_time": "2024-09-09T03:41:07.682424Z",
     "start_time": "2024-09-09T03:41:07.042329Z"
    }
   },
   "cell_type": "code",
   "source": "plot_tree(clf3)",
   "id": "f68378ae764ed854",
   "outputs": [
    {
     "data": {
      "text/plain": [
       "[Text(0.4642857142857143, 0.9375, 'x[0] <= -0.338\\ngini = 0.5\\nsamples = 100\\nvalue = [50, 50]'),\n",
       " Text(0.2857142857142857, 0.8125, 'x[1] <= 2.382\\ngini = 0.19\\nsamples = 47\\nvalue = [5, 42]'),\n",
       " Text(0.21428571428571427, 0.6875, 'x[3] <= -2.035\\ngini = 0.045\\nsamples = 43\\nvalue = [1, 42]'),\n",
       " Text(0.14285714285714285, 0.5625, 'x[0] <= -2.095\\ngini = 0.5\\nsamples = 2\\nvalue = [1, 1]'),\n",
       " Text(0.07142857142857142, 0.4375, 'gini = 0.0\\nsamples = 1\\nvalue = [0, 1]'),\n",
       " Text(0.21428571428571427, 0.4375, 'gini = 0.0\\nsamples = 1\\nvalue = [1, 0]'),\n",
       " Text(0.2857142857142857, 0.5625, 'gini = 0.0\\nsamples = 41\\nvalue = [0, 41]'),\n",
       " Text(0.35714285714285715, 0.6875, 'gini = 0.0\\nsamples = 4\\nvalue = [4, 0]'),\n",
       " Text(0.6428571428571429, 0.8125, 'x[2] <= 2.018\\ngini = 0.256\\nsamples = 53\\nvalue = [45, 8]'),\n",
       " Text(0.5714285714285714, 0.6875, 'x[0] <= 0.112\\ngini = 0.15\\nsamples = 49\\nvalue = [45, 4]'),\n",
       " Text(0.42857142857142855, 0.5625, 'x[3] <= -1.038\\ngini = 0.444\\nsamples = 6\\nvalue = [4, 2]'),\n",
       " Text(0.35714285714285715, 0.4375, 'gini = 0.0\\nsamples = 4\\nvalue = [4, 0]'),\n",
       " Text(0.5, 0.4375, 'gini = 0.0\\nsamples = 2\\nvalue = [0, 2]'),\n",
       " Text(0.7142857142857143, 0.5625, 'x[2] <= 1.279\\ngini = 0.089\\nsamples = 43\\nvalue = [41, 2]'),\n",
       " Text(0.6428571428571429, 0.4375, 'gini = 0.0\\nsamples = 25\\nvalue = [25, 0]'),\n",
       " Text(0.7857142857142857, 0.4375, 'x[2] <= 1.328\\ngini = 0.198\\nsamples = 18\\nvalue = [16, 2]'),\n",
       " Text(0.7142857142857143, 0.3125, 'gini = 0.0\\nsamples = 1\\nvalue = [0, 1]'),\n",
       " Text(0.8571428571428571, 0.3125, 'x[0] <= 1.477\\ngini = 0.111\\nsamples = 17\\nvalue = [16, 1]'),\n",
       " Text(0.7857142857142857, 0.1875, 'x[3] <= -0.749\\ngini = 0.375\\nsamples = 4\\nvalue = [3, 1]'),\n",
       " Text(0.7142857142857143, 0.0625, 'gini = 0.0\\nsamples = 3\\nvalue = [3, 0]'),\n",
       " Text(0.8571428571428571, 0.0625, 'gini = 0.0\\nsamples = 1\\nvalue = [0, 1]'),\n",
       " Text(0.9285714285714286, 0.1875, 'gini = 0.0\\nsamples = 13\\nvalue = [13, 0]'),\n",
       " Text(0.7142857142857143, 0.6875, 'gini = 0.0\\nsamples = 4\\nvalue = [0, 4]')]"
      ]
     },
     "execution_count": 168,
     "metadata": {},
     "output_type": "execute_result"
    },
    {
     "data": {
      "text/plain": [
       "<Figure size 640x480 with 1 Axes>"
      ],
      "image/png": "[encoded data removed]"
     },
     "metadata": {},
     "output_type": "display_data"
    }
   ],
   "execution_count": 168
  },
  {
   "metadata": {
    "ExecuteTime": {
     "end_time": "2024-09-09T03:41:07.687939Z",
     "start_time": "2024-09-09T03:41:07.683434Z"
    }
   },
   "cell_type": "code",
   "source": "clf1.predict(np.array([-0.759218,0.395324,1.503145,1.487552]).reshape(1, 4))",
   "id": "d4f731e4810fb011",
   "outputs": [
    {
     "name": "stderr",
     "output_type": "stream",
     "text": [
      "C:\\Users\\HP TECHNOLOGY\\anaconda3\\Lib\\site-packages\\sklearn\\base.py:439: UserWarning: X does not have valid feature names, but DecisionTreeClassifier was fitted with feature names\n",
      "  warnings.warn(\n"
     ]
    },
    {
     "data": {
      "text/plain": [
       "array([0])"
      ]
     },
     "execution_count": 169,
     "metadata": {},
     "output_type": "execute_result"
    }
   ],
   "execution_count": 169
  },
  {
   "metadata": {
    "ExecuteTime": {
     "end_time": "2024-09-09T03:41:07.693240Z",
     "start_time": "2024-09-09T03:41:07.687939Z"
    }
   },
   "cell_type": "code",
   "source": "clf2.predict(np.array([-0.759218,0.395324,1.503145,1.487552]).reshape(1, 4))",
   "id": "8cc7bd8999211f93",
   "outputs": [
    {
     "name": "stderr",
     "output_type": "stream",
     "text": [
      "C:\\Users\\HP TECHNOLOGY\\anaconda3\\Lib\\site-packages\\sklearn\\base.py:439: UserWarning: X does not have valid feature names, but DecisionTreeClassifier was fitted with feature names\n",
      "  warnings.warn(\n"
     ]
    },
    {
     "data": {
      "text/plain": [
       "array([1])"
      ]
     },
     "execution_count": 170,
     "metadata": {},
     "output_type": "execute_result"
    }
   ],
   "execution_count": 170
  },
  {
   "metadata": {
    "ExecuteTime": {
     "end_time": "2024-09-09T03:41:07.698767Z",
     "start_time": "2024-09-09T03:41:07.694254Z"
    }
   },
   "cell_type": "code",
   "source": "clf2.predict(np.array([-0.759218,0.395324,1.503145,1.487552]).reshape(1, 4))",
   "id": "db635e1d6bb7a9b2",
   "outputs": [
    {
     "name": "stderr",
     "output_type": "stream",
     "text": [
      "C:\\Users\\HP TECHNOLOGY\\anaconda3\\Lib\\site-packages\\sklearn\\base.py:439: UserWarning: X does not have valid feature names, but DecisionTreeClassifier was fitted with feature names\n",
      "  warnings.warn(\n"
     ]
    },
    {
     "data": {
      "text/plain": [
       "array([1])"
      ]
     },
     "execution_count": 171,
     "metadata": {},
     "output_type": "execute_result"
    }
   ],
   "execution_count": 171
  },
  {
   "metadata": {},
   "cell_type": "markdown",
   "source": "# Combined Sampling",
   "id": "1ac523fcbfc1c08f"
  },
  {
   "metadata": {
    "ExecuteTime": {
     "end_time": "2024-09-09T03:41:07.710016Z",
     "start_time": "2024-09-09T03:41:07.699779Z"
    }
   },
   "cell_type": "code",
   "source": [
    "df1 = combined_sampling(df, 0.5,0.5)\n",
    "df1"
   ],
   "id": "fcf2ffea88596579",
   "outputs": [
    {
     "name": "stderr",
     "output_type": "stream",
     "text": [
      "C:\\Users\\HP TECHNOLOGY\\AppData\\Local\\Temp\\ipykernel_3200\\360997045.py:7: SettingWithCopyWarning: \n",
      "A value is trying to be set on a copy of a slice from a DataFrame.\n",
      "Try using .loc[row_indexer,col_indexer] = value instead\n",
      "\n",
      "See the caveats in the documentation: https://pandas.pydata.org/pandas-docs/stable/user_guide/indexing.html#returning-a-view-versus-a-copy\n",
      "  new_df['target'] = df['target']\n"
     ]
    },
    {
     "data": {
      "text/plain": [
       "        col3      col4  target\n",
       "98  0.861885  1.235754       0\n",
       "17  0.364065  2.884927       0\n",
       "31  0.779821 -1.068455       1\n",
       "99  3.599290 -0.657234       0\n",
       "90  1.116807 -1.614335       1\n",
       "87  1.172982 -0.358618       1\n",
       "43  0.536883 -0.751649       1\n",
       "90  1.116807 -1.614335       1\n",
       "62  0.849853 -1.091864       1\n",
       "9   1.074790 -1.537303       1\n",
       "0   2.155299 -0.370415       1\n",
       "5   1.055075 -1.718238       1\n",
       "28  0.989529 -1.424908       1\n",
       "26  0.276288 -0.994782       1\n",
       "13  0.973461 -0.653434       1\n",
       "51  0.427243 -3.384999       1\n",
       "61  0.435198  1.116072       0\n",
       "24  1.345345 -0.657202       1\n",
       "50  2.962440  0.229898       0\n",
       "81  2.200609  0.541545       0\n",
       "89  1.764682  0.987450       0\n",
       "81  2.200609  0.541545       0\n",
       "4  -0.763342  1.644232       0\n",
       "62  0.849853 -1.091864       1\n",
       "74  1.264758  1.594835       0\n",
       "33  1.111943 -3.352323       1\n",
       "25  2.005341 -0.147148       0\n",
       "95 -0.047934  1.194464       0\n",
       "75  0.064719  2.038927       0\n",
       "68  1.744707 -1.246589       0\n",
       "4  -0.763342  1.644232       0\n",
       "64  1.022775 -1.214882       1\n",
       "1   0.464741  1.703169       0\n",
       "30  1.359973  0.577512       0\n",
       "0   2.155299 -0.370415       1\n",
       "80  0.588719  0.267694       1\n",
       "37 -1.007321  4.069871       0\n",
       "38  1.687708  2.332468       0\n",
       "54  0.561083  0.610521       1\n",
       "7   0.182273 -0.417070       1\n",
       "75  0.064719  2.038927       0\n",
       "3   0.369548  1.526108       0\n",
       "93  0.942062 -2.437185       1\n",
       "13  0.973461 -0.653434       1\n",
       "18 -0.710335  1.146563       0\n",
       "34  1.107914 -1.184481       1\n",
       "3   0.369548  1.526108       0\n",
       "81  2.200609  0.541545       0\n",
       "65  1.523980 -0.816208       1\n",
       "35  1.604304 -1.726691       1"
      ],
      "text/html": [
       "<div>\n",
       "<style scoped>\n",
       "    .dataframe tbody tr th:only-of-type {\n",
       "        vertical-align: middle;\n",
       "    }\n",
       "\n",
       "    .dataframe tbody tr th {\n",
       "        vertical-align: top;\n",
       "    }\n",
       "\n",
       "    .dataframe thead th {\n",
       "        text-align: right;\n",
       "    }\n",
       "</style>\n",
       "<table border=\"1\" class=\"dataframe\">\n",
       "  <thead>\n",
       "    <tr style=\"text-align: right;\">\n",
       "      <th></th>\n",
       "      <th>col3</th>\n",
       "      <th>col4</th>\n",
       "      <th>target</th>\n",
       "    </tr>\n",
       "  </thead>\n",
       "  <tbody>\n",
       "    <tr>\n",
       "      <th>98</th>\n",
       "      <td>0.861885</td>\n",
       "      <td>1.235754</td>\n",
       "      <td>0</td>\n",
       "    </tr>\n",
       "    <tr>\n",
       "      <th>17</th>\n",
       "      <td>0.364065</td>\n",
       "      <td>2.884927</td>\n",
       "      <td>0</td>\n",
       "    </tr>\n",
       "    <tr>\n",
       "      <th>31</th>\n",
       "      <td>0.779821</td>\n",
       "      <td>-1.068455</td>\n",
       "      <td>1</td>\n",
       "    </tr>\n",
       "    <tr>\n",
       "      <th>99</th>\n",
       "      <td>3.599290</td>\n",
       "      <td>-0.657234</td>\n",
       "      <td>0</td>\n",
       "    </tr>\n",
       "    <tr>\n",
       "      <th>90</th>\n",
       "      <td>1.116807</td>\n",
       "      <td>-1.614335</td>\n",
       "      <td>1</td>\n",
       "    </tr>\n",
       "    <tr>\n",
       "      <th>87</th>\n",
       "      <td>1.172982</td>\n",
       "      <td>-0.358618</td>\n",
       "      <td>1</td>\n",
       "    </tr>\n",
       "    <tr>\n",
       "      <th>43</th>\n",
       "      <td>0.536883</td>\n",
       "      <td>-0.751649</td>\n",
       "      <td>1</td>\n",
       "    </tr>\n",
       "    <tr>\n",
       "      <th>90</th>\n",
       "      <td>1.116807</td>\n",
       "      <td>-1.614335</td>\n",
       "      <td>1</td>\n",
       "    </tr>\n",
       "    <tr>\n",
       "      <th>62</th>\n",
       "      <td>0.849853</td>\n",
       "      <td>-1.091864</td>\n",
       "      <td>1</td>\n",
       "    </tr>\n",
       "    <tr>\n",
       "      <th>9</th>\n",
       "      <td>1.074790</td>\n",
       "      <td>-1.537303</td>\n",
       "      <td>1</td>\n",
       "    </tr>\n",
       "    <tr>\n",
       "      <th>0</th>\n",
       "      <td>2.155299</td>\n",
       "      <td>-0.370415</td>\n",
       "      <td>1</td>\n",
       "    </tr>\n",
       "    <tr>\n",
       "      <th>5</th>\n",
       "      <td>1.055075</td>\n",
       "      <td>-1.718238</td>\n",
       "      <td>1</td>\n",
       "    </tr>\n",
       "    <tr>\n",
       "      <th>28</th>\n",
       "      <td>0.989529</td>\n",
       "      <td>-1.424908</td>\n",
       "      <td>1</td>\n",
       "    </tr>\n",
       "    <tr>\n",
       "      <th>26</th>\n",
       "      <td>0.276288</td>\n",
       "      <td>-0.994782</td>\n",
       "      <td>1</td>\n",
       "    </tr>\n",
       "    <tr>\n",
       "      <th>13</th>\n",
       "      <td>0.973461</td>\n",
       "      <td>-0.653434</td>\n",
       "      <td>1</td>\n",
       "    </tr>\n",
       "    <tr>\n",
       "      <th>51</th>\n",
       "      <td>0.427243</td>\n",
       "      <td>-3.384999</td>\n",
       "      <td>1</td>\n",
       "    </tr>\n",
       "    <tr>\n",
       "      <th>61</th>\n",
       "      <td>0.435198</td>\n",
       "      <td>1.116072</td>\n",
       "      <td>0</td>\n",
       "    </tr>\n",
       "    <tr>\n",
       "      <th>24</th>\n",
       "      <td>1.345345</td>\n",
       "      <td>-0.657202</td>\n",
       "      <td>1</td>\n",
       "    </tr>\n",
       "    <tr>\n",
       "      <th>50</th>\n",
       "      <td>2.962440</td>\n",
       "      <td>0.229898</td>\n",
       "      <td>0</td>\n",
       "    </tr>\n",
       "    <tr>\n",
       "      <th>81</th>\n",
       "      <td>2.200609</td>\n",
       "      <td>0.541545</td>\n",
       "      <td>0</td>\n",
       "    </tr>\n",
       "    <tr>\n",
       "      <th>89</th>\n",
       "      <td>1.764682</td>\n",
       "      <td>0.987450</td>\n",
       "      <td>0</td>\n",
       "    </tr>\n",
       "    <tr>\n",
       "      <th>81</th>\n",
       "      <td>2.200609</td>\n",
       "      <td>0.541545</td>\n",
       "      <td>0</td>\n",
       "    </tr>\n",
       "    <tr>\n",
       "      <th>4</th>\n",
       "      <td>-0.763342</td>\n",
       "      <td>1.644232</td>\n",
       "      <td>0</td>\n",
       "    </tr>\n",
       "    <tr>\n",
       "      <th>62</th>\n",
       "      <td>0.849853</td>\n",
       "      <td>-1.091864</td>\n",
       "      <td>1</td>\n",
       "    </tr>\n",
       "    <tr>\n",
       "      <th>74</th>\n",
       "      <td>1.264758</td>\n",
       "      <td>1.594835</td>\n",
       "      <td>0</td>\n",
       "    </tr>\n",
       "    <tr>\n",
       "      <th>33</th>\n",
       "      <td>1.111943</td>\n",
       "      <td>-3.352323</td>\n",
       "      <td>1</td>\n",
       "    </tr>\n",
       "    <tr>\n",
       "      <th>25</th>\n",
       "      <td>2.005341</td>\n",
       "      <td>-0.147148</td>\n",
       "      <td>0</td>\n",
       "    </tr>\n",
       "    <tr>\n",
       "      <th>95</th>\n",
       "      <td>-0.047934</td>\n",
       "      <td>1.194464</td>\n",
       "      <td>0</td>\n",
       "    </tr>\n",
       "    <tr>\n",
       "      <th>75</th>\n",
       "      <td>0.064719</td>\n",
       "      <td>2.038927</td>\n",
       "      <td>0</td>\n",
       "    </tr>\n",
       "    <tr>\n",
       "      <th>68</th>\n",
       "      <td>1.744707</td>\n",
       "      <td>-1.246589</td>\n",
       "      <td>0</td>\n",
       "    </tr>\n",
       "    <tr>\n",
       "      <th>4</th>\n",
       "      <td>-0.763342</td>\n",
       "      <td>1.644232</td>\n",
       "      <td>0</td>\n",
       "    </tr>\n",
       "    <tr>\n",
       "      <th>64</th>\n",
       "      <td>1.022775</td>\n",
       "      <td>-1.214882</td>\n",
       "      <td>1</td>\n",
       "    </tr>\n",
       "    <tr>\n",
       "      <th>1</th>\n",
       "      <td>0.464741</td>\n",
       "      <td>1.703169</td>\n",
       "      <td>0</td>\n",
       "    </tr>\n",
       "    <tr>\n",
       "      <th>30</th>\n",
       "      <td>1.359973</td>\n",
       "      <td>0.577512</td>\n",
       "      <td>0</td>\n",
       "    </tr>\n",
       "    <tr>\n",
       "      <th>0</th>\n",
       "      <td>2.155299</td>\n",
       "      <td>-0.370415</td>\n",
       "      <td>1</td>\n",
       "    </tr>\n",
       "    <tr>\n",
       "      <th>80</th>\n",
       "      <td>0.588719</td>\n",
       "      <td>0.267694</td>\n",
       "      <td>1</td>\n",
       "    </tr>\n",
       "    <tr>\n",
       "      <th>37</th>\n",
       "      <td>-1.007321</td>\n",
       "      <td>4.069871</td>\n",
       "      <td>0</td>\n",
       "    </tr>\n",
       "    <tr>\n",
       "      <th>38</th>\n",
       "      <td>1.687708</td>\n",
       "      <td>2.332468</td>\n",
       "      <td>0</td>\n",
       "    </tr>\n",
       "    <tr>\n",
       "      <th>54</th>\n",
       "      <td>0.561083</td>\n",
       "      <td>0.610521</td>\n",
       "      <td>1</td>\n",
       "    </tr>\n",
       "    <tr>\n",
       "      <th>7</th>\n",
       "      <td>0.182273</td>\n",
       "      <td>-0.417070</td>\n",
       "      <td>1</td>\n",
       "    </tr>\n",
       "    <tr>\n",
       "      <th>75</th>\n",
       "      <td>0.064719</td>\n",
       "      <td>2.038927</td>\n",
       "      <td>0</td>\n",
       "    </tr>\n",
       "    <tr>\n",
       "      <th>3</th>\n",
       "      <td>0.369548</td>\n",
       "      <td>1.526108</td>\n",
       "      <td>0</td>\n",
       "    </tr>\n",
       "    <tr>\n",
       "      <th>93</th>\n",
       "      <td>0.942062</td>\n",
       "      <td>-2.437185</td>\n",
       "      <td>1</td>\n",
       "    </tr>\n",
       "    <tr>\n",
       "      <th>13</th>\n",
       "      <td>0.973461</td>\n",
       "      <td>-0.653434</td>\n",
       "      <td>1</td>\n",
       "    </tr>\n",
       "    <tr>\n",
       "      <th>18</th>\n",
       "      <td>-0.710335</td>\n",
       "      <td>1.146563</td>\n",
       "      <td>0</td>\n",
       "    </tr>\n",
       "    <tr>\n",
       "      <th>34</th>\n",
       "      <td>1.107914</td>\n",
       "      <td>-1.184481</td>\n",
       "      <td>1</td>\n",
       "    </tr>\n",
       "    <tr>\n",
       "      <th>3</th>\n",
       "      <td>0.369548</td>\n",
       "      <td>1.526108</td>\n",
       "      <td>0</td>\n",
       "    </tr>\n",
       "    <tr>\n",
       "      <th>81</th>\n",
       "      <td>2.200609</td>\n",
       "      <td>0.541545</td>\n",
       "      <td>0</td>\n",
       "    </tr>\n",
       "    <tr>\n",
       "      <th>65</th>\n",
       "      <td>1.523980</td>\n",
       "      <td>-0.816208</td>\n",
       "      <td>1</td>\n",
       "    </tr>\n",
       "    <tr>\n",
       "      <th>35</th>\n",
       "      <td>1.604304</td>\n",
       "      <td>-1.726691</td>\n",
       "      <td>1</td>\n",
       "    </tr>\n",
       "  </tbody>\n",
       "</table>\n",
       "</div>"
      ]
     },
     "execution_count": 172,
     "metadata": {},
     "output_type": "execute_result"
    }
   ],
   "execution_count": 172
  },
  {
   "metadata": {
    "ExecuteTime": {
     "end_time": "2024-09-09T03:41:07.714287Z",
     "start_time": "2024-09-09T03:41:07.710016Z"
    }
   },
   "cell_type": "code",
   "source": "df1.columns",
   "id": "75598b70f5d1fd1a",
   "outputs": [
    {
     "data": {
      "text/plain": [
       "Index(['col3', 'col4', 'target'], dtype='object')"
      ]
     },
     "execution_count": 173,
     "metadata": {},
     "output_type": "execute_result"
    }
   ],
   "execution_count": 173
  },
  {
   "metadata": {
    "ExecuteTime": {
     "end_time": "2024-09-09T03:41:07.720791Z",
     "start_time": "2024-09-09T03:41:07.715300Z"
    }
   },
   "cell_type": "code",
   "source": [
    "df2 = combined_sampling(df, 0.5,0.5)\n",
    "df2.columns"
   ],
   "id": "1fd0339f1e3f9469",
   "outputs": [
    {
     "name": "stderr",
     "output_type": "stream",
     "text": [
      "C:\\Users\\HP TECHNOLOGY\\AppData\\Local\\Temp\\ipykernel_3200\\360997045.py:7: SettingWithCopyWarning: \n",
      "A value is trying to be set on a copy of a slice from a DataFrame.\n",
      "Try using .loc[row_indexer,col_indexer] = value instead\n",
      "\n",
      "See the caveats in the documentation: https://pandas.pydata.org/pandas-docs/stable/user_guide/indexing.html#returning-a-view-versus-a-copy\n",
      "  new_df['target'] = df['target']\n"
     ]
    },
    {
     "data": {
      "text/plain": [
       "Index(['col2', 'col1', 'target'], dtype='object')"
      ]
     },
     "execution_count": 174,
     "metadata": {},
     "output_type": "execute_result"
    }
   ],
   "execution_count": 174
  },
  {
   "metadata": {
    "ExecuteTime": {
     "end_time": "2024-09-09T03:41:07.726810Z",
     "start_time": "2024-09-09T03:41:07.721802Z"
    }
   },
   "cell_type": "code",
   "source": [
    "df3 = combined_sampling(df, 0.5,0.5)\n",
    "df3.columns"
   ],
   "id": "4e9babe77272a6d7",
   "outputs": [
    {
     "name": "stderr",
     "output_type": "stream",
     "text": [
      "C:\\Users\\HP TECHNOLOGY\\AppData\\Local\\Temp\\ipykernel_3200\\360997045.py:7: SettingWithCopyWarning: \n",
      "A value is trying to be set on a copy of a slice from a DataFrame.\n",
      "Try using .loc[row_indexer,col_indexer] = value instead\n",
      "\n",
      "See the caveats in the documentation: https://pandas.pydata.org/pandas-docs/stable/user_guide/indexing.html#returning-a-view-versus-a-copy\n",
      "  new_df['target'] = df['target']\n"
     ]
    },
    {
     "data": {
      "text/plain": [
       "Index(['col4', 'col2', 'target'], dtype='object')"
      ]
     },
     "execution_count": 175,
     "metadata": {},
     "output_type": "execute_result"
    }
   ],
   "execution_count": 175
  },
  {
   "metadata": {
    "ExecuteTime": {
     "end_time": "2024-09-09T03:41:07.735982Z",
     "start_time": "2024-09-09T03:41:07.727816Z"
    }
   },
   "cell_type": "code",
   "source": "df3",
   "id": "7455b3dcd4e32405",
   "outputs": [
    {
     "data": {
      "text/plain": [
       "        col4      col2  target\n",
       "85 -1.225234  2.666138       1\n",
       "89  0.987450  1.360688       0\n",
       "98  1.235754  1.524987       0\n",
       "75  2.038927  1.600351       0\n",
       "92 -0.367671  0.007784       1\n",
       "63  0.969258  0.482662       0\n",
       "24 -0.657202  1.274354       1\n",
       "72  1.308863  1.516256       1\n",
       "70  0.231633  2.025387       1\n",
       "55 -0.137814  0.445158       0\n",
       "67  1.177668  1.418243       0\n",
       "78 -0.317901  0.238248       0\n",
       "38  2.332468  1.569118       0\n",
       "14 -1.452071  0.236416       0\n",
       "68 -1.246589 -0.226313       0\n",
       "79  0.502843  0.340481       0\n",
       "40  0.960796  1.087874       0\n",
       "70  0.231633  2.025387       1\n",
       "53 -3.916227 -0.887110       1\n",
       "92 -0.367671  0.007784       1\n",
       "79  0.502843  0.340481       0\n",
       "32 -0.173688  0.441842       0\n",
       "91  2.032021  1.849440       0\n",
       "49 -2.218111  0.611855       1\n",
       "2  -0.940167  1.265085       1\n",
       "35 -1.726691 -1.174169       1\n",
       "22  3.425928  1.990120       0\n",
       "7  -0.417070  1.169719       1\n",
       "32 -0.173688  0.441842       0\n",
       "38  2.332468  1.569118       0\n",
       "39 -1.715428  1.203342       1\n",
       "25 -0.147148  0.595150       0\n",
       "95  1.194464  1.151768       0\n",
       "72  1.308863  1.516256       1\n",
       "70  0.231633  2.025387       1\n",
       "62 -1.091864  0.920495       1\n",
       "70  0.231633  2.025387       1\n",
       "77 -2.374382 -0.660541       1\n",
       "19  0.244242  0.468193       0\n",
       "17  2.884927  1.651973       0\n",
       "93 -2.437185  0.197910       1\n",
       "70  0.231633  2.025387       1\n",
       "94  0.708531  2.226550       1\n",
       "73  1.142203  1.182711       0\n",
       "25 -0.147148  0.595150       0\n",
       "55 -0.137814  0.445158       0\n",
       "8   1.909579  1.651294       0\n",
       "97  0.276290  0.762650       0\n",
       "96 -1.072420  0.093036       0\n",
       "4   1.644232  1.435996       0"
      ],
      "text/html": [
       "<div>\n",
       "<style scoped>\n",
       "    .dataframe tbody tr th:only-of-type {\n",
       "        vertical-align: middle;\n",
       "    }\n",
       "\n",
       "    .dataframe tbody tr th {\n",
       "        vertical-align: top;\n",
       "    }\n",
       "\n",
       "    .dataframe thead th {\n",
       "        text-align: right;\n",
       "    }\n",
       "</style>\n",
       "<table border=\"1\" class=\"dataframe\">\n",
       "  <thead>\n",
       "    <tr style=\"text-align: right;\">\n",
       "      <th></th>\n",
       "      <th>col4</th>\n",
       "      <th>col2</th>\n",
       "      <th>target</th>\n",
       "    </tr>\n",
       "  </thead>\n",
       "  <tbody>\n",
       "    <tr>\n",
       "      <th>85</th>\n",
       "      <td>-1.225234</td>\n",
       "      <td>2.666138</td>\n",
       "      <td>1</td>\n",
       "    </tr>\n",
       "    <tr>\n",
       "      <th>89</th>\n",
       "      <td>0.987450</td>\n",
       "      <td>1.360688</td>\n",
       "      <td>0</td>\n",
       "    </tr>\n",
       "    <tr>\n",
       "      <th>98</th>\n",
       "      <td>1.235754</td>\n",
       "      <td>1.524987</td>\n",
       "      <td>0</td>\n",
       "    </tr>\n",
       "    <tr>\n",
       "      <th>75</th>\n",
       "      <td>2.038927</td>\n",
       "      <td>1.600351</td>\n",
       "      <td>0</td>\n",
       "    </tr>\n",
       "    <tr>\n",
       "      <th>92</th>\n",
       "      <td>-0.367671</td>\n",
       "      <td>0.007784</td>\n",
       "      <td>1</td>\n",
       "    </tr>\n",
       "    <tr>\n",
       "      <th>63</th>\n",
       "      <td>0.969258</td>\n",
       "      <td>0.482662</td>\n",
       "      <td>0</td>\n",
       "    </tr>\n",
       "    <tr>\n",
       "      <th>24</th>\n",
       "      <td>-0.657202</td>\n",
       "      <td>1.274354</td>\n",
       "      <td>1</td>\n",
       "    </tr>\n",
       "    <tr>\n",
       "      <th>72</th>\n",
       "      <td>1.308863</td>\n",
       "      <td>1.516256</td>\n",
       "      <td>1</td>\n",
       "    </tr>\n",
       "    <tr>\n",
       "      <th>70</th>\n",
       "      <td>0.231633</td>\n",
       "      <td>2.025387</td>\n",
       "      <td>1</td>\n",
       "    </tr>\n",
       "    <tr>\n",
       "      <th>55</th>\n",
       "      <td>-0.137814</td>\n",
       "      <td>0.445158</td>\n",
       "      <td>0</td>\n",
       "    </tr>\n",
       "    <tr>\n",
       "      <th>67</th>\n",
       "      <td>1.177668</td>\n",
       "      <td>1.418243</td>\n",
       "      <td>0</td>\n",
       "    </tr>\n",
       "    <tr>\n",
       "      <th>78</th>\n",
       "      <td>-0.317901</td>\n",
       "      <td>0.238248</td>\n",
       "      <td>0</td>\n",
       "    </tr>\n",
       "    <tr>\n",
       "      <th>38</th>\n",
       "      <td>2.332468</td>\n",
       "      <td>1.569118</td>\n",
       "      <td>0</td>\n",
       "    </tr>\n",
       "    <tr>\n",
       "      <th>14</th>\n",
       "      <td>-1.452071</td>\n",
       "      <td>0.236416</td>\n",
       "      <td>0</td>\n",
       "    </tr>\n",
       "    <tr>\n",
       "      <th>68</th>\n",
       "      <td>-1.246589</td>\n",
       "      <td>-0.226313</td>\n",
       "      <td>0</td>\n",
       "    </tr>\n",
       "    <tr>\n",
       "      <th>79</th>\n",
       "      <td>0.502843</td>\n",
       "      <td>0.340481</td>\n",
       "      <td>0</td>\n",
       "    </tr>\n",
       "    <tr>\n",
       "      <th>40</th>\n",
       "      <td>0.960796</td>\n",
       "      <td>1.087874</td>\n",
       "      <td>0</td>\n",
       "    </tr>\n",
       "    <tr>\n",
       "      <th>70</th>\n",
       "      <td>0.231633</td>\n",
       "      <td>2.025387</td>\n",
       "      <td>1</td>\n",
       "    </tr>\n",
       "    <tr>\n",
       "      <th>53</th>\n",
       "      <td>-3.916227</td>\n",
       "      <td>-0.887110</td>\n",
       "      <td>1</td>\n",
       "    </tr>\n",
       "    <tr>\n",
       "      <th>92</th>\n",
       "      <td>-0.367671</td>\n",
       "      <td>0.007784</td>\n",
       "      <td>1</td>\n",
       "    </tr>\n",
       "    <tr>\n",
       "      <th>79</th>\n",
       "      <td>0.502843</td>\n",
       "      <td>0.340481</td>\n",
       "      <td>0</td>\n",
       "    </tr>\n",
       "    <tr>\n",
       "      <th>32</th>\n",
       "      <td>-0.173688</td>\n",
       "      <td>0.441842</td>\n",
       "      <td>0</td>\n",
       "    </tr>\n",
       "    <tr>\n",
       "      <th>91</th>\n",
       "      <td>2.032021</td>\n",
       "      <td>1.849440</td>\n",
       "      <td>0</td>\n",
       "    </tr>\n",
       "    <tr>\n",
       "      <th>49</th>\n",
       "      <td>-2.218111</td>\n",
       "      <td>0.611855</td>\n",
       "      <td>1</td>\n",
       "    </tr>\n",
       "    <tr>\n",
       "      <th>2</th>\n",
       "      <td>-0.940167</td>\n",
       "      <td>1.265085</td>\n",
       "      <td>1</td>\n",
       "    </tr>\n",
       "    <tr>\n",
       "      <th>35</th>\n",
       "      <td>-1.726691</td>\n",
       "      <td>-1.174169</td>\n",
       "      <td>1</td>\n",
       "    </tr>\n",
       "    <tr>\n",
       "      <th>22</th>\n",
       "      <td>3.425928</td>\n",
       "      <td>1.990120</td>\n",
       "      <td>0</td>\n",
       "    </tr>\n",
       "    <tr>\n",
       "      <th>7</th>\n",
       "      <td>-0.417070</td>\n",
       "      <td>1.169719</td>\n",
       "      <td>1</td>\n",
       "    </tr>\n",
       "    <tr>\n",
       "      <th>32</th>\n",
       "      <td>-0.173688</td>\n",
       "      <td>0.441842</td>\n",
       "      <td>0</td>\n",
       "    </tr>\n",
       "    <tr>\n",
       "      <th>38</th>\n",
       "      <td>2.332468</td>\n",
       "      <td>1.569118</td>\n",
       "      <td>0</td>\n",
       "    </tr>\n",
       "    <tr>\n",
       "      <th>39</th>\n",
       "      <td>-1.715428</td>\n",
       "      <td>1.203342</td>\n",
       "      <td>1</td>\n",
       "    </tr>\n",
       "    <tr>\n",
       "      <th>25</th>\n",
       "      <td>-0.147148</td>\n",
       "      <td>0.595150</td>\n",
       "      <td>0</td>\n",
       "    </tr>\n",
       "    <tr>\n",
       "      <th>95</th>\n",
       "      <td>1.194464</td>\n",
       "      <td>1.151768</td>\n",
       "      <td>0</td>\n",
       "    </tr>\n",
       "    <tr>\n",
       "      <th>72</th>\n",
       "      <td>1.308863</td>\n",
       "      <td>1.516256</td>\n",
       "      <td>1</td>\n",
       "    </tr>\n",
       "    <tr>\n",
       "      <th>70</th>\n",
       "      <td>0.231633</td>\n",
       "      <td>2.025387</td>\n",
       "      <td>1</td>\n",
       "    </tr>\n",
       "    <tr>\n",
       "      <th>62</th>\n",
       "      <td>-1.091864</td>\n",
       "      <td>0.920495</td>\n",
       "      <td>1</td>\n",
       "    </tr>\n",
       "    <tr>\n",
       "      <th>70</th>\n",
       "      <td>0.231633</td>\n",
       "      <td>2.025387</td>\n",
       "      <td>1</td>\n",
       "    </tr>\n",
       "    <tr>\n",
       "      <th>77</th>\n",
       "      <td>-2.374382</td>\n",
       "      <td>-0.660541</td>\n",
       "      <td>1</td>\n",
       "    </tr>\n",
       "    <tr>\n",
       "      <th>19</th>\n",
       "      <td>0.244242</td>\n",
       "      <td>0.468193</td>\n",
       "      <td>0</td>\n",
       "    </tr>\n",
       "    <tr>\n",
       "      <th>17</th>\n",
       "      <td>2.884927</td>\n",
       "      <td>1.651973</td>\n",
       "      <td>0</td>\n",
       "    </tr>\n",
       "    <tr>\n",
       "      <th>93</th>\n",
       "      <td>-2.437185</td>\n",
       "      <td>0.197910</td>\n",
       "      <td>1</td>\n",
       "    </tr>\n",
       "    <tr>\n",
       "      <th>70</th>\n",
       "      <td>0.231633</td>\n",
       "      <td>2.025387</td>\n",
       "      <td>1</td>\n",
       "    </tr>\n",
       "    <tr>\n",
       "      <th>94</th>\n",
       "      <td>0.708531</td>\n",
       "      <td>2.226550</td>\n",
       "      <td>1</td>\n",
       "    </tr>\n",
       "    <tr>\n",
       "      <th>73</th>\n",
       "      <td>1.142203</td>\n",
       "      <td>1.182711</td>\n",
       "      <td>0</td>\n",
       "    </tr>\n",
       "    <tr>\n",
       "      <th>25</th>\n",
       "      <td>-0.147148</td>\n",
       "      <td>0.595150</td>\n",
       "      <td>0</td>\n",
       "    </tr>\n",
       "    <tr>\n",
       "      <th>55</th>\n",
       "      <td>-0.137814</td>\n",
       "      <td>0.445158</td>\n",
       "      <td>0</td>\n",
       "    </tr>\n",
       "    <tr>\n",
       "      <th>8</th>\n",
       "      <td>1.909579</td>\n",
       "      <td>1.651294</td>\n",
       "      <td>0</td>\n",
       "    </tr>\n",
       "    <tr>\n",
       "      <th>97</th>\n",
       "      <td>0.276290</td>\n",
       "      <td>0.762650</td>\n",
       "      <td>0</td>\n",
       "    </tr>\n",
       "    <tr>\n",
       "      <th>96</th>\n",
       "      <td>-1.072420</td>\n",
       "      <td>0.093036</td>\n",
       "      <td>0</td>\n",
       "    </tr>\n",
       "    <tr>\n",
       "      <th>4</th>\n",
       "      <td>1.644232</td>\n",
       "      <td>1.435996</td>\n",
       "      <td>0</td>\n",
       "    </tr>\n",
       "  </tbody>\n",
       "</table>\n",
       "</div>"
      ]
     },
     "execution_count": 176,
     "metadata": {},
     "output_type": "execute_result"
    }
   ],
   "execution_count": 176
  },
  {
   "metadata": {
    "ExecuteTime": {
     "end_time": "2024-09-09T03:41:07.739678Z",
     "start_time": "2024-09-09T03:41:07.736991Z"
    }
   },
   "cell_type": "code",
   "source": [
    "clf1 = DecisionTreeClassifier()\n",
    "clf2 = DecisionTreeClassifier()\n",
    "clf3 = DecisionTreeClassifier()"
   ],
   "id": "aedc0fcdaf2a0895",
   "outputs": [],
   "execution_count": 177
  },
  {
   "metadata": {
    "ExecuteTime": {
     "end_time": "2024-09-09T03:41:57.511738Z",
     "start_time": "2024-09-09T03:41:57.501640Z"
    }
   },
   "cell_type": "code",
   "source": [
    "clf1.fit(df1.iloc[:, 0:2], df1.iloc[:, -1])\n",
    "clf2.fit(df2.iloc[:, 0:2], df2.iloc[:, -1])\n",
    "clf3.fit(df3.iloc[:, 0:2], df3.iloc[:, -1])"
   ],
   "id": "ee670423f584642e",
   "outputs": [
    {
     "data": {
      "text/plain": [
       "DecisionTreeClassifier()"
      ],
      "text/html": [
       "<style>#sk-container-id-13 {color: black;background-color: white;}#sk-container-id-13 pre{padding: 0;}#sk-container-id-13 div.sk-toggleable {background-color: white;}#sk-container-id-13 label.sk-toggleable__label {cursor: pointer;display: block;width: 100%;margin-bottom: 0;padding: 0.3em;box-sizing: border-box;text-align: center;}#sk-container-id-13 label.sk-toggleable__label-arrow:before {content: \"▸\";float: left;margin-right: 0.25em;color: #696969;}#sk-container-id-13 label.sk-toggleable__label-arrow:hover:before {color: black;}#sk-container-id-13 div.sk-estimator:hover label.sk-toggleable__label-arrow:before {color: black;}#sk-container-id-13 div.sk-toggleable__content {max-height: 0;max-width: 0;overflow: hidden;text-align: left;background-color: #f0f8ff;}#sk-container-id-13 div.sk-toggleable__content pre {margin: 0.2em;color: black;border-radius: 0.25em;background-color: #f0f8ff;}#sk-container-id-13 input.sk-toggleable__control:checked~div.sk-toggleable__content {max-height: 200px;max-width: 100%;overflow: auto;}#sk-container-id-13 input.sk-toggleable__control:checked~label.sk-toggleable__label-arrow:before {content: \"▾\";}#sk-container-id-13 div.sk-estimator input.sk-toggleable__control:checked~label.sk-toggleable__label {background-color: #d4ebff;}#sk-container-id-13 div.sk-label input.sk-toggleable__control:checked~label.sk-toggleable__label {background-color: #d4ebff;}#sk-container-id-13 input.sk-hidden--visually {border: 0;clip: rect(1px 1px 1px 1px);clip: rect(1px, 1px, 1px, 1px);height: 1px;margin: -1px;overflow: hidden;padding: 0;position: absolute;width: 1px;}#sk-container-id-13 div.sk-estimator {font-family: monospace;background-color: #f0f8ff;border: 1px dotted black;border-radius: 0.25em;box-sizing: border-box;margin-bottom: 0.5em;}#sk-container-id-13 div.sk-estimator:hover {background-color: #d4ebff;}#sk-container-id-13 div.sk-parallel-item::after {content: \"\";width: 100%;border-bottom: 1px solid gray;flex-grow: 1;}#sk-container-id-13 div.sk-label:hover label.sk-toggleable__label {background-color: #d4ebff;}#sk-container-id-13 div.sk-serial::before {content: \"\";position: absolute;border-left: 1px solid gray;box-sizing: border-box;top: 0;bottom: 0;left: 50%;z-index: 0;}#sk-container-id-13 div.sk-serial {display: flex;flex-direction: column;align-items: center;background-color: white;padding-right: 0.2em;padding-left: 0.2em;position: relative;}#sk-container-id-13 div.sk-item {position: relative;z-index: 1;}#sk-container-id-13 div.sk-parallel {display: flex;align-items: stretch;justify-content: center;background-color: white;position: relative;}#sk-container-id-13 div.sk-item::before, #sk-container-id-13 div.sk-parallel-item::before {content: \"\";position: absolute;border-left: 1px solid gray;box-sizing: border-box;top: 0;bottom: 0;left: 50%;z-index: -1;}#sk-container-id-13 div.sk-parallel-item {display: flex;flex-direction: column;z-index: 1;position: relative;background-color: white;}#sk-container-id-13 div.sk-parallel-item:first-child::after {align-self: flex-end;width: 50%;}#sk-container-id-13 div.sk-parallel-item:last-child::after {align-self: flex-start;width: 50%;}#sk-container-id-13 div.sk-parallel-item:only-child::after {width: 0;}#sk-container-id-13 div.sk-dashed-wrapped {border: 1px dashed gray;margin: 0 0.4em 0.5em 0.4em;box-sizing: border-box;padding-bottom: 0.4em;background-color: white;}#sk-container-id-13 div.sk-label label {font-family: monospace;font-weight: bold;display: inline-block;line-height: 1.2em;}#sk-container-id-13 div.sk-label-container {text-align: center;}#sk-container-id-13 div.sk-container {/* jupyter's `normalize.less` sets `[hidden] { display: none; }` but bootstrap.min.css set `[hidden] { display: none !important; }` so we also need the `!important` here to be able to override the default hidden behavior on the sphinx rendered scikit-learn.org. See: https://github.com/scikit-learn/scikit-learn/issues/21755 */display: inline-block !important;position: relative;}#sk-container-id-13 div.sk-text-repr-fallback {display: none;}</style><div id=\"sk-container-id-13\" class=\"sk-top-container\"><div class=\"sk-text-repr-fallback\"><pre>DecisionTreeClassifier()</pre><b>In a Jupyter environment, please rerun this cell to show the HTML representation or trust the notebook. <br />On GitHub, the HTML representation is unable to render, please try loading this page with nbviewer.org.</b></div><div class=\"sk-container\" hidden><div class=\"sk-item\"><div class=\"sk-estimator sk-toggleable\"><input class=\"sk-toggleable__control sk-hidden--visually\" id=\"sk-estimator-id-13\" type=\"checkbox\" checked><label for=\"sk-estimator-id-13\" class=\"sk-toggleable__label sk-toggleable__label-arrow\">DecisionTreeClassifier</label><div class=\"sk-toggleable__content\"><pre>DecisionTreeClassifier()</pre></div></div></div></div></div>"
      ]
     },
     "execution_count": 183,
     "metadata": {},
     "output_type": "execute_result"
    }
   ],
   "execution_count": 183
  },
  {
   "metadata": {
    "ExecuteTime": {
     "end_time": "2024-09-09T03:42:01.885300Z",
     "start_time": "2024-09-09T03:42:01.542496Z"
    }
   },
   "cell_type": "code",
   "source": "plot_tree(clf1)",
   "id": "1e68ce1cf4c17947",
   "outputs": [
    {
     "data": {
      "text/plain": [
       "[Text(0.5555555555555556, 0.9, 'x[1] <= -0.253\\ngini = 0.499\\nsamples = 50\\nvalue = [24, 26]'),\n",
       " Text(0.3333333333333333, 0.7, 'x[0] <= 2.877\\ngini = 0.142\\nsamples = 26\\nvalue = [2, 24]'),\n",
       " Text(0.2222222222222222, 0.5, 'x[0] <= 1.675\\ngini = 0.077\\nsamples = 25\\nvalue = [1, 24]'),\n",
       " Text(0.1111111111111111, 0.3, 'gini = 0.0\\nsamples = 22\\nvalue = [0, 22]'),\n",
       " Text(0.3333333333333333, 0.3, 'x[1] <= -0.809\\ngini = 0.444\\nsamples = 3\\nvalue = [1, 2]'),\n",
       " Text(0.2222222222222222, 0.1, 'gini = 0.0\\nsamples = 1\\nvalue = [1, 0]'),\n",
       " Text(0.4444444444444444, 0.1, 'gini = 0.0\\nsamples = 2\\nvalue = [0, 2]'),\n",
       " Text(0.4444444444444444, 0.5, 'gini = 0.0\\nsamples = 1\\nvalue = [1, 0]'),\n",
       " Text(0.7777777777777778, 0.7, 'x[1] <= 0.799\\ngini = 0.153\\nsamples = 24\\nvalue = [22, 2]'),\n",
       " Text(0.6666666666666666, 0.5, 'x[0] <= 0.974\\ngini = 0.375\\nsamples = 8\\nvalue = [6, 2]'),\n",
       " Text(0.5555555555555556, 0.3, 'gini = 0.0\\nsamples = 2\\nvalue = [0, 2]'),\n",
       " Text(0.7777777777777778, 0.3, 'gini = 0.0\\nsamples = 6\\nvalue = [6, 0]'),\n",
       " Text(0.8888888888888888, 0.5, 'gini = 0.0\\nsamples = 16\\nvalue = [16, 0]')]"
      ]
     },
     "execution_count": 184,
     "metadata": {},
     "output_type": "execute_result"
    },
    {
     "data": {
      "text/plain": [
       "<Figure size 640x480 with 1 Axes>"
      ],
      "image/png": "[encoded data removed]"
     },
     "metadata": {},
     "output_type": "display_data"
    }
   ],
   "execution_count": 184
  },
  {
   "metadata": {
    "ExecuteTime": {
     "end_time": "2024-09-09T03:42:07.701340Z",
     "start_time": "2024-09-09T03:42:07.027538Z"
    }
   },
   "cell_type": "code",
   "source": "plot_tree(clf2)",
   "id": "4cc0b21972fbc002",
   "outputs": [
    {
     "data": {
      "text/plain": [
       "[Text(0.5769230769230769, 0.95, 'x[0] <= 2.119\\ngini = 0.487\\nsamples = 50\\nvalue = [29, 21]'),\n",
       " Text(0.5, 0.85, 'x[1] <= 0.868\\ngini = 0.449\\nsamples = 44\\nvalue = [29, 15]'),\n",
       " Text(0.4230769230769231, 0.75, 'x[0] <= -0.224\\ngini = 0.381\\nsamples = 39\\nvalue = [29, 10]'),\n",
       " Text(0.34615384615384615, 0.65, 'gini = 0.0\\nsamples = 4\\nvalue = [0, 4]'),\n",
       " Text(0.5, 0.65, 'x[0] <= 1.671\\ngini = 0.284\\nsamples = 35\\nvalue = [29, 6]'),\n",
       " Text(0.3076923076923077, 0.55, 'x[0] <= 0.213\\ngini = 0.225\\nsamples = 31\\nvalue = [27, 4]'),\n",
       " Text(0.15384615384615385, 0.45, 'x[1] <= 0.535\\ngini = 0.48\\nsamples = 5\\nvalue = [3, 2]'),\n",
       " Text(0.07692307692307693, 0.35, 'gini = 0.0\\nsamples = 2\\nvalue = [0, 2]'),\n",
       " Text(0.23076923076923078, 0.35, 'gini = 0.0\\nsamples = 3\\nvalue = [3, 0]'),\n",
       " Text(0.46153846153846156, 0.45, 'x[1] <= -1.175\\ngini = 0.142\\nsamples = 26\\nvalue = [24, 2]'),\n",
       " Text(0.38461538461538464, 0.35, 'x[1] <= -1.476\\ngini = 0.346\\nsamples = 9\\nvalue = [7, 2]'),\n",
       " Text(0.3076923076923077, 0.25, 'x[0] <= 1.345\\ngini = 0.219\\nsamples = 8\\nvalue = [7, 1]'),\n",
       " Text(0.23076923076923078, 0.15, 'x[0] <= 1.206\\ngini = 0.444\\nsamples = 3\\nvalue = [2, 1]'),\n",
       " Text(0.15384615384615385, 0.05, 'gini = 0.0\\nsamples = 2\\nvalue = [2, 0]'),\n",
       " Text(0.3076923076923077, 0.05, 'gini = 0.0\\nsamples = 1\\nvalue = [0, 1]'),\n",
       " Text(0.38461538461538464, 0.15, 'gini = 0.0\\nsamples = 5\\nvalue = [5, 0]'),\n",
       " Text(0.46153846153846156, 0.25, 'gini = 0.0\\nsamples = 1\\nvalue = [0, 1]'),\n",
       " Text(0.5384615384615384, 0.35, 'gini = 0.0\\nsamples = 17\\nvalue = [17, 0]'),\n",
       " Text(0.6923076923076923, 0.55, 'x[1] <= -2.122\\ngini = 0.5\\nsamples = 4\\nvalue = [2, 2]'),\n",
       " Text(0.6153846153846154, 0.45, 'gini = 0.0\\nsamples = 1\\nvalue = [1, 0]'),\n",
       " Text(0.7692307692307693, 0.45, 'x[0] <= 1.71\\ngini = 0.444\\nsamples = 3\\nvalue = [1, 2]'),\n",
       " Text(0.6923076923076923, 0.35, 'gini = 0.0\\nsamples = 1\\nvalue = [0, 1]'),\n",
       " Text(0.8461538461538461, 0.35, 'x[0] <= 1.816\\ngini = 0.5\\nsamples = 2\\nvalue = [1, 1]'),\n",
       " Text(0.7692307692307693, 0.25, 'gini = 0.0\\nsamples = 1\\nvalue = [1, 0]'),\n",
       " Text(0.9230769230769231, 0.25, 'gini = 0.0\\nsamples = 1\\nvalue = [0, 1]'),\n",
       " Text(0.5769230769230769, 0.75, 'gini = 0.0\\nsamples = 5\\nvalue = [0, 5]'),\n",
       " Text(0.6538461538461539, 0.85, 'gini = 0.0\\nsamples = 6\\nvalue = [0, 6]')]"
      ]
     },
     "execution_count": 185,
     "metadata": {},
     "output_type": "execute_result"
    },
    {
     "data": {
      "text/plain": [
       "<Figure size 640x480 with 1 Axes>"
      ],
      "image/png": "[encoded data removed]"
     },
     "metadata": {},
     "output_type": "display_data"
    }
   ],
   "execution_count": 185
  },
  {
   "metadata": {
    "ExecuteTime": {
     "end_time": "2024-09-09T03:42:10.081127Z",
     "start_time": "2024-09-09T03:42:09.702462Z"
    }
   },
   "cell_type": "code",
   "source": "plot_tree(clf3)",
   "id": "97438d839b0cc35",
   "outputs": [
    {
     "data": {
      "text/plain": [
       "[Text(0.5555555555555556, 0.9, 'x[0] <= -0.343\\ngini = 0.487\\nsamples = 50\\nvalue = [29, 21]'),\n",
       " Text(0.3333333333333333, 0.7, 'x[1] <= 0.424\\ngini = 0.305\\nsamples = 16\\nvalue = [3, 13]'),\n",
       " Text(0.2222222222222222, 0.5, 'x[0] <= -1.589\\ngini = 0.444\\nsamples = 9\\nvalue = [3, 6]'),\n",
       " Text(0.1111111111111111, 0.3, 'gini = 0.0\\nsamples = 4\\nvalue = [0, 4]'),\n",
       " Text(0.3333333333333333, 0.3, 'x[0] <= -0.72\\ngini = 0.48\\nsamples = 5\\nvalue = [3, 2]'),\n",
       " Text(0.2222222222222222, 0.1, 'gini = 0.0\\nsamples = 3\\nvalue = [3, 0]'),\n",
       " Text(0.4444444444444444, 0.1, 'gini = 0.0\\nsamples = 2\\nvalue = [0, 2]'),\n",
       " Text(0.4444444444444444, 0.5, 'gini = 0.0\\nsamples = 7\\nvalue = [0, 7]'),\n",
       " Text(0.7777777777777778, 0.7, 'x[1] <= 2.008\\ngini = 0.36\\nsamples = 34\\nvalue = [26, 8]'),\n",
       " Text(0.6666666666666666, 0.5, 'x[0] <= 1.272\\ngini = 0.133\\nsamples = 28\\nvalue = [26, 2]'),\n",
       " Text(0.5555555555555556, 0.3, 'gini = 0.0\\nsamples = 18\\nvalue = [18, 0]'),\n",
       " Text(0.7777777777777778, 0.3, 'x[0] <= 1.477\\ngini = 0.32\\nsamples = 10\\nvalue = [8, 2]'),\n",
       " Text(0.6666666666666666, 0.1, 'gini = 0.0\\nsamples = 2\\nvalue = [0, 2]'),\n",
       " Text(0.8888888888888888, 0.1, 'gini = 0.0\\nsamples = 8\\nvalue = [8, 0]'),\n",
       " Text(0.8888888888888888, 0.5, 'gini = 0.0\\nsamples = 6\\nvalue = [0, 6]')]"
      ]
     },
     "execution_count": 186,
     "metadata": {},
     "output_type": "execute_result"
    },
    {
     "data": {
      "text/plain": [
       "<Figure size 640x480 with 1 Axes>"
      ],
      "image/png": "[encoded data removed]"
     },
     "metadata": {},
     "output_type": "display_data"
    }
   ],
   "execution_count": 186
  },
  {
   "metadata": {
    "ExecuteTime": {
     "end_time": "2024-09-09T03:43:44.862689Z",
     "start_time": "2024-09-09T03:43:44.857399Z"
    }
   },
   "cell_type": "code",
   "source": "clf1.predict(np.array([-1.225234,2.666138]).reshape(1, 2))",
   "id": "d993e756be32627f",
   "outputs": [
    {
     "name": "stderr",
     "output_type": "stream",
     "text": [
      "C:\\Users\\HP TECHNOLOGY\\anaconda3\\Lib\\site-packages\\sklearn\\base.py:439: UserWarning: X does not have valid feature names, but DecisionTreeClassifier was fitted with feature names\n",
      "  warnings.warn(\n"
     ]
    },
    {
     "data": {
      "text/plain": [
       "array([0])"
      ]
     },
     "execution_count": 187,
     "metadata": {},
     "output_type": "execute_result"
    }
   ],
   "execution_count": 187
  },
  {
   "metadata": {
    "ExecuteTime": {
     "end_time": "2024-09-09T03:43:44.880901Z",
     "start_time": "2024-09-09T03:43:44.875296Z"
    }
   },
   "cell_type": "code",
   "source": "clf2.predict(np.array([-1.225234,2.666138]).reshape(1, 2))",
   "id": "367caf1e07f2b4d6",
   "outputs": [
    {
     "name": "stderr",
     "output_type": "stream",
     "text": [
      "C:\\Users\\HP TECHNOLOGY\\anaconda3\\Lib\\site-packages\\sklearn\\base.py:439: UserWarning: X does not have valid feature names, but DecisionTreeClassifier was fitted with feature names\n",
      "  warnings.warn(\n"
     ]
    },
    {
     "data": {
      "text/plain": [
       "array([1])"
      ]
     },
     "execution_count": 188,
     "metadata": {},
     "output_type": "execute_result"
    }
   ],
   "execution_count": 188
  },
  {
   "metadata": {
    "ExecuteTime": {
     "end_time": "2024-09-09T03:43:44.918881Z",
     "start_time": "2024-09-09T03:43:44.914489Z"
    }
   },
   "cell_type": "code",
   "source": "clf2.predict(np.array([-1.225234,2.666138]).reshape(1, 2))",
   "id": "1ac954c69bf10882",
   "outputs": [
    {
     "name": "stderr",
     "output_type": "stream",
     "text": [
      "C:\\Users\\HP TECHNOLOGY\\anaconda3\\Lib\\site-packages\\sklearn\\base.py:439: UserWarning: X does not have valid feature names, but DecisionTreeClassifier was fitted with feature names\n",
      "  warnings.warn(\n"
     ]
    },
    {
     "data": {
      "text/plain": [
       "array([1])"
      ]
     },
     "execution_count": 189,
     "metadata": {},
     "output_type": "execute_result"
    }
   ],
   "execution_count": 189
  },
  {
   "metadata": {},
   "cell_type": "code",
   "outputs": [],
   "execution_count": null,
   "source": "",
   "id": "b7e9926ada500d74"
  }
 ],
 "metadata": {
  "kernelspec": {
   "display_name": "Python 3",
   "language": "python",
   "name": "python3"
  },
  "language_info": {
   "codemirror_mode": {
    "name": "ipython",
    "version": 2
   },
   "file_extension": ".py",
   "mimetype": "text/x-python",
   "name": "python",
   "nbconvert_exporter": "python",
   "pygments_lexer": "ipython2",
   "version": "2.7.6"
  }
 },
 "nbformat": 4,
 "nbformat_minor": 5
}
